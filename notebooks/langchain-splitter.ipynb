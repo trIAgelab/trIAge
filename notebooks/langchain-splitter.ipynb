{
 "cells": [
  {
   "cell_type": "markdown",
   "metadata": {},
   "source": [
    "# Langchain: Document Splitting"
   ]
  },
  {
   "cell_type": "markdown",
   "metadata": {},
   "source": [
    "## Preamble"
   ]
  },
  {
   "cell_type": "code",
   "execution_count": 1,
   "metadata": {},
   "outputs": [],
   "source": [
    "%load_ext autoreload\n",
    "%autoreload 2"
   ]
  },
  {
   "cell_type": "code",
   "execution_count": 2,
   "metadata": {},
   "outputs": [],
   "source": [
    "import os\n",
    "import github"
   ]
  },
  {
   "cell_type": "code",
   "execution_count": 3,
   "metadata": {},
   "outputs": [],
   "source": [
    "from triage.util import get_secret"
   ]
  },
  {
   "cell_type": "markdown",
   "metadata": {},
   "source": [
    "## Workflow"
   ]
  },
  {
   "cell_type": "markdown",
   "metadata": {},
   "source": [
    "**Get Readme as Markdmown**"
   ]
  },
  {
   "cell_type": "code",
   "execution_count": 4,
   "metadata": {},
   "outputs": [],
   "source": [
    "gh = github.Github(get_secret(\"github_token\"))\n"
   ]
  },
  {
   "cell_type": "code",
   "execution_count": 5,
   "metadata": {},
   "outputs": [],
   "source": [
    "repo_path = \"openandroidinstaller-dev/openandroidinstaller\""
   ]
  },
  {
   "cell_type": "code",
   "execution_count": 6,
   "metadata": {},
   "outputs": [
    {
     "data": {
      "text/plain": [
       "Repository(full_name=\"openandroidinstaller-dev/openandroidinstaller\")"
      ]
     },
     "execution_count": 6,
     "metadata": {},
     "output_type": "execute_result"
    }
   ],
   "source": [
    "user_name, repo_name = repo_path.split(\"/\")\n",
    "repo = gh.get_user(user_name).get_repo(repo_name)\n",
    "repo"
   ]
  },
  {
   "cell_type": "code",
   "execution_count": 7,
   "metadata": {},
   "outputs": [],
   "source": [
    "readme_file = repo.get_readme()\n",
    "readme_content = readme_file.decoded_content.decode(\"utf-8\")\n"
   ]
  },
  {
   "cell_type": "code",
   "execution_count": 8,
   "metadata": {},
   "outputs": [],
   "source": [
    "from IPython.display import Markdown, display"
   ]
  },
  {
   "cell_type": "code",
   "execution_count": 9,
   "metadata": {},
   "outputs": [
    {
     "data": {
      "text/markdown": [
       "<br />\n",
       "<div align=\"center\">\n",
       "  <h1>OpenAndroidInstaller</h1>\n",
       "\n",
       "  [![License](https://img.shields.io/github/license/openandroidinstaller-dev/openandroidinstaller?color=green&style=flat-square)](https://github.com/openandroidinstaller-dev/openandroidinstaller/blob/main/LICENSE)\n",
       "  [![Release](https://img.shields.io/github/v/release/openandroidinstaller-dev/openandroidinstaller?include_prereleases&style=flat-square)](https://github.com/openandroidinstaller-dev/openandroidinstaller/releases)\n",
       "  [![Downloads](https://img.shields.io/github/downloads/openandroidinstaller-dev/openandroidinstaller/total?style=flat-square)](https://github.com/openandroidinstaller-dev/openandroidinstaller/releases)\n",
       "  [![Twitter](https://img.shields.io/twitter/follow/oainstaller?style=social)](https://twitter.com/OAInstaller)\n",
       "  [![Mastodon](https://img.shields.io/mastodon/follow/109341220262803943?domain=https%3A%2F%2Ffosstodon.org&style=social)](https://fosstodon.org/@openandroidinstaller)\n",
       "  <p>Makes installing alternative Android distributions nice and easy.</p>\n",
       "  <a href=\"https://github.com/openandroidinstaller-dev/openandroidinstaller\">\n",
       "    <img src=\"openandroidinstaller/assets/logo-192x192.png\" alt=\"OpenAndroidInstaller\" height=\"80\">\n",
       "  </a>\n",
       "\n",
       "  <p align=\"center\">\n",
       "    <br />\n",
       "    The OpenAndroidInstaller project helps Android users to keep their smartphone's operating system up to date with free software and to continue using the device even though the manufacturer no longer offers updates. With a graphical installation software, users are easily guided through the installation process of free Android operating systems like LineageOS.\n",
       "    <br />\n",
       "    <br />\n",
       "    <a href=\"https://github.com/openandroidinstaller-dev/openandroidinstaller/issues\">Report Bug</a>\n",
       "    ·\n",
       "    <a href=\"https://openandroidinstaller.org\">Website</a>\n",
       "    ·\n",
       "    <a href=\"mailto: hello@openandroidinstaller.org\">Request Feature</a>\n",
       "    <br />\n",
       "  </p>\n",
       "</div>\n",
       "\n",
       "> **Warning**: This application is currently in beta state, so use at your own risk! While many people tested the application so far and we heard of no bricked devices, things might still go wrong.\n",
       "\n",
       "> **Note**: Unlocking the bootloader will erase all data on your device!\n",
       "This also includes your DRM keys, which are stored in the Trim Area partition (also called TA) in case your device is fairly recent and supports DRM L1. Those devices will be downgraded to DRM L3. Devices on DRM L3 by default will not be affected.\n",
       "Before proceeding, ensure the data you would like to retain is backed up to your PC and/or your Google account, or equivalent. Please note that OEM backup solutions like Samsung and Motorola backup may not be accessible from LineageOS once installed.\n",
       "If you wish to backup the TA partition first, you can find tutorials related to your device on the internet.\n",
       "\n",
       "\n",
       "## Usage\n",
       "\n",
       "Linux is currently the best supported platform (tested with Ubuntu 20.04/22.04 LTS). Windows and MacOS are also supported but you might experience more issues. So far there is no support for ARM-based systems.\n",
       "\n",
       "1. Download the AppImage, .exe or appropriate executable file for your OS. You might need to change permissions to run the executable.\n",
       "    - On Windows also [install the Universal USB Drivers](https://adb.clockworkmod.com/) and other potentially drivers needed for your device.\n",
       "2. Download the custom ROM image and the TWRP recovery image for your device and optionally some addons. A source for files can be found on the following websites:\n",
       "    - some custom ROMs:\n",
       "      - [LineageOS](https://wiki.lineageos.org/devices/)\n",
       "      - [/e/OS](https://doc.e.foundation/devices)\n",
       "      - [LineageOS for microg](https://download.lineage.microg.org/)\n",
       "      - [BlissRoms](https://blissroms.org/)\n",
       "      - [PixelExperience](https://download.pixelexperience.org/)\n",
       "    - TWRP Recovery:\n",
       "      - [TWRP recovery](https://twrp.me/Devices/)\n",
       "    - Optional Addons:\n",
       "      - There are different packages of *Google Apps* available.\n",
       "        - [MindTheGapps](https://wiki.lineageos.org/gapps#downloads)\n",
       "        - [NikGApps](https://nikgapps.com/)\n",
       "      - [MicroG](https://microg.org/)\n",
       "        - The recommended way to install MicroG is to use the zip file provided here: [https://github.com/FriendlyNeighborhoodShane/MinMicroG_releases/releases](https://github.com/FriendlyNeighborhoodShane/MinMicroG_releases/releases).\n",
       "      - [F-Droid App-Store](https://f-droid.org/en/packages/org.fdroid.fdroid.privileged.ota/).\n",
       "    - or you can just search the web or the [xda-developers forum](https://forum.xda-developers.com) for an appropriate version for your device.\n",
       "3. Start the desktop app and follow the instructions.\n",
       "\n",
       "\n",
       "## Officially supported devices\n",
       "\n",
       "Currently, the **we support 57 devices** by various vendors and working on adding more soon!\n",
       "\n",
       "\n",
       "Support for these devices is provided as best effort, but things might still go wrong.\n",
       "Help to improve the tool by reporting any issues you might face.\n",
       "\n",
       "<details><summary><b>Samsung</b></summary>\n",
       "\n",
       "Vendor | Device Name | CodeName | Models | Status\n",
       "---|---|---|---|---\n",
       "Samsung | Galaxy J7 2015 | j7elte | | tested\n",
       "Samsung | Galaxy A3 2017 | a3y17lte | SM-A320FL | tested\n",
       "Samsung | Galaxy S III Neo | s3ve3g | GT-I9301I | tested\n",
       "Samsung | Galaxy A5 2016 | [a5xelte](https://wiki.lineageos.org/devices/a5xelte/) | SM-A510F | tested\n",
       "Samsung | Galaxy A7 2016 | a7xelte | | tested\n",
       "Samsung | Galaxy S6 | [zerofltexx](https://wiki.lineageos.org/devices/zerofltexx/) | | tested\n",
       "Samsung | Galaxy S6 Edge | [zeroltexx](https://wiki.lineageos.org/devices/zeroltexx/) | | tested\n",
       "Samsung | Galaxy S7 | [herolte](https://wiki.lineageos.org/devices/herolte/) | SM-G930F | tested\n",
       "Samsung | Galaxy S7 Edge | [hero2lte](https://wiki.lineageos.org/devices/hero2lte/) | | tested\n",
       "Samsung | Galaxy S9 | [starlte](https://wiki.lineageos.org/devices/starlte/) | | tested\n",
       "Samsung | Galaxy Note 8 | greatlte | SM-N950F | tested\n",
       "Samsung | Galaxy Note 9 | [crownlte](https://wiki.lineageos.org/devices/crownlte/) | | tested\n",
       "Samsung | Galaxy S10 | [beyond1lte](https://wiki.lineageos.org/devices/beyond1lte/) | | tested\n",
       "Samsung | Galaxy S10e | [beyond0lte](https://wiki.lineageos.org/devices/beyond0lte/) | | tested\n",
       "Samsung | Galaxy S10+ | [beyond2lte](https://wiki.lineageos.org/devices/beyond2lte/) | | tested\n",
       "Samsung | Galaxy Note 10 | [d1](https://wiki.lineageos.org/devices/d1/) | | tested\n",
       "Samsung | Galaxy Note 10+ | [d2s](https://wiki.lineageos.org/devices/d2s/) | | tested\n",
       "Samsung | Galaxy Note 3 LTE | [hltetmo](https://wiki.lineageos.org/devices/hltetmo/) | N900T/V/W8 | tested\n",
       "</details>\n",
       "\n",
       "<details><summary><b>Google</b></summary>\n",
       "\n",
       "Vendor | Device Name | CodeName | Models | Status\n",
       "---|---|---|---|---\n",
       "Google | Pixel 2 | [walleye](https://wiki.lineageos.org/devices/walleye/) | walleye | tested\n",
       "Google | Pixel 2 XL | [taimen](https://wiki.lineageos.org/devices/taimen/) | taimen | tested\n",
       "Google | Pixel 3 | [blueline](https://wiki.lineageos.org/devices/blueline/) | blueline | tested\n",
       "Google | Pixel 3 XL | [crosshatch](https://wiki.lineageos.org/devices/crosshatch/) | crosshatch | tested\n",
       "Google | Pixel 3a | [sargo](https://wiki.lineageos.org/devices/sargo/) | sargo | tested\n",
       "Google | Pixel 3a XL | [bonito](https://wiki.lineageos.org/devices/bonito/) | bonito | tested\n",
       "Google | Pixel 4 | [flame](https://wiki.lineageos.org/devices/flame/) | flame | tested \n",
       "Google | Pixel 4 XL | [coral](https://wiki.lineageos.org/devices/coral/) | coral | tested \n",
       "Google | Pixel 4a | [sunfish](https://wiki.lineageos.org/devices/sunfish/) | sunfish | tested \n",
       "Google | Pixel 5 | [redfin](https://wiki.lineageos.org/devices/redfin/) | redfin | tested\n",
       "Google | Pixel 5a | [barbet](https://wiki.lineageos.org/devices/barbet/) | barbet | tested\n",
       "</details>\n",
       "\n",
       "<details><summary><b>Sony</b></summary>\n",
       "\n",
       "Vendor | Device Name | CodeName | Models | Status\n",
       "---|---|---|---|---\n",
       "Sony | Xperia Z | [yuga](https://wiki.lineageos.org/devices/yuga/) | C6603 | tested\n",
       "Sony | Xperia Z3 | [z3](https://wiki.lineageos.org/devices/z3/) | | tested\n",
       "Sony | Xperia 10 | [kirin](https://wiki.lineageos.org/devices/kirin/) | | tested\n",
       "Sony | Xperia 10 Plus | [mermaid](https://wiki.lineageos.org/devices/mermaid/) | | tested\n",
       "Sony | Xperia XA2 | [pioneer](https://wiki.lineageos.org/devices/pioneer/) | | tested\n",
       "Sony | Xperia XZ2 | [akari](https://wiki.lineageos.org/devices/akari/) | | tested\n",
       "Sony | Xperia XZ3 | [akatsuki](https://wiki.lineageos.org/devices/akatsuki/) | | tested\n",
       "Sony | Xperia ZX | kagura | | planned\n",
       "</details>\n",
       "\n",
       "<details><summary><b>Fairphone</b></summary>\n",
       "\n",
       "Vendor | Device Name | CodeName | Models | Status\n",
       "---|---|---|---|---\n",
       "Fairphone | Fairphone 2 | [FP2](https://wiki.lineageos.org/devices/FP2/) | | tested\n",
       "Fairphone | Fairphone 3 | [FP3](https://wiki.lineageos.org/devices/FP3/) | | tested\n",
       "Fairphone | Fairphone 4 | [FP4](https://wiki.lineageos.org/devices/FP4/) | | tested\n",
       "</details>\n",
       "\n",
       "<details><summary><b>Motorola</b></summary>\n",
       "\n",
       "Vendor | Device Name | CodeName | Models | Status\n",
       "---|---|---|---|---\n",
       "Motorola | moto g5 | [cedric](https://wiki.lineageos.org/devices/cedric/) | | tested\n",
       "Motorola | moto g6 plus | [evert](https://wiki.lineageos.org/devices/evert/) | | tested\n",
       "Motorola | moto g7 power | [ocean](https://wiki.lineageos.org/devices/ocean/) | | tested\n",
       "Motorola | moto g 5G plus / one 5G | [nairo](https://wiki.lineageos.org/devices/nairo/) | | tested\n",
       "Motorola | moto g 5G / one 5G ace | [kiev](https://wiki.lineageos.org/devices/kiev/) | | tested\n",
       "Motorola | edge | [racer](https://wiki.lineageos.org/devices/racer/) | | tested\n",
       "Motorola | moto z | [griffin](https://wiki.lineageos.org/devices/griffin/) | | tested\n",
       "</details>\n",
       "\n",
       "<details><summary><b>OnePlus</b></summary>\n",
       "\n",
       "Vendor | Device Name | CodeName | Models | Status\n",
       "---|---|---|---|---\n",
       "OnePlus | One | [bacon](https://wiki.lineageos.org/devices/bacon/) | A0001 | tested\n",
       "OnePlus | 5 | [cheeseburger](https://wiki.lineageos.org/devices/cheeseburger/) | | tested\n",
       "OnePlus | 5T | [dumpling](https://wiki.lineageos.org/devices/dumpling/) | | tested\n",
       "OnePlus | 6 | [enchilada](https://wiki.lineageos.org/devices/enchilada/) | | tested\n",
       "OnePlus | 6T | [fajita](https://wiki.lineageos.org/devices/fajita/) | | tested\n",
       "OnePlus | 7 | [guacamoleb](https://wiki.lineageos.org/devices/guacamoleb/) | | tested\n",
       "OnePlus | 7 Pro | [guacamole](https://wiki.lineageos.org/devices/guacamole/) | | tested\n",
       "OnePlus | 7T | [hotdogb](https://wiki.lineageos.org/devices/hotdogb/) | | tested\n",
       "OnePlus | 7T Pro | [hotdog](https://wiki.lineageos.org/devices/hotdog/) | | tested\n",
       "OnePlus | Nord | [avicii](https://wiki.lineageos.org/devices/avicii/) | | tested\n",
       "OnePlus | Nord N200 | [dre](https://wiki.lineageos.org/devices/dre/) | | tested\n",
       "OnePlus | 9 | lemonade | | under development\n",
       "</details>\n",
       "\n",
       "And more to come!\n",
       "\n",
       "\n",
       "## Run OpenAndroidInstaller for development\n",
       "\n",
       "Currently development is only supported on Ubuntu Linux. MacOS and Windows should also work fine. You might need to install additional USB-drivers on Windows.\n",
       "\n",
       "1. Clone the main branch of this repository\n",
       "2. Run `make poetry` and `make install` to install poetry to manage python and install the required dependencies like adb, fastboot and heimdall.\n",
       "3. Run `make app` to start the desktop app from the source.\n",
       "\n",
       "\n",
       "## Contributing\n",
       "\n",
       "All kinds of contributions are welcome. These include:\n",
       "- Fix and improve texts in configs and in the application.\n",
       "- Test the tool for a supported device.\n",
       "- Create a config for a new device.\n",
       "- Test the application on your computer.\n",
       "- Contribute an application build for a new platform.\n",
       "\n",
       "### How to contribute your own installation configurations\n",
       "\n",
       "If you want to use the tool for a non-supported smartphone, the fastest way is to adapt an [existing config file](https://github.com/openandroidinstaller-dev/openandroidinstaller/tree/main/openandroidinstaller/assets/configs). The file should be named after the official `device code` of the device. Add the code output by `adb shell getprop | grep ro.product.device` (when the devices is connected to the computer) as well as the official device code to the `supported_device_codes` list in the config. You can also get the device code by connecting the device to the computer and run OpenAndroidInstaller to detect the device.\n",
       "\n",
       "**To test your config file with the executable** without using the developer setup, place it in the same directory as the executable. There it will be detected by name. After you created a config file and it works fine, you can open a pull request to make the file available to other users. Please also add the device to the supported devices table above.\n",
       "\n",
       "#### Content of a config file\n",
       "\n",
       "A config file consists of two parts. The first part are some metadata about the device and the second parts are the steps to unlock the bootloader, boot a recovery and install the ROMs.\n",
       "\n",
       "##### How to write Metadata\n",
       "Every config file should have metadata with the following fields:\n",
       "- `maintainer`: str; Maintainer and author of the config file.\n",
       "- `device_name`: str; Name of the device.\n",
       "- `is_ab_device`: bool; A boolean to determine if the device is a/b-partitioned or not.\n",
       "- `device_code`: str; The official device code.\n",
       "- `supported_device_codes`: List[str]; A list of supported device codes for the config. The config will be loaded based on this field.\n",
       "- `twrp-link`: [OPTIONAL] str; name of the corresponding twrp page.\n",
       "\n",
       "In addition to these metadata, every config can have optional requirements. If these are set, the user is asked to check if they are meet.\n",
       "- `android`: [OPTIONAL] int|str; Android version to install prior to installing a custom ROM.\n",
       "- `firmware`: [OPTIONAL] str; specific firmware version to install before installing a custom ROM.\n",
       "\n",
       "##### How to write steps:\n",
       "Every step in the config file corresponds to one view in the application. These steps should contain the following fields:\n",
       "- `type`: str; Corresponds to the type of view to generate. There are the following options:\n",
       "  - `text`: Just display the text given in content.\n",
       "  - `confirm_button`: Display the content, as well as a button to allow the user to go to the next step.\n",
       "  - `call_button`: Display the content text and a button that runs a given command. After the command is run, a confirm button is displayed to allow the user to move to the next step.\n",
       "  - `call_button_with_input`: Display the content text, an input field and a button that runs a given command. The inputtext, can be used in the command by using the `<inputtext>` placeholder in the command field. After the command is run, a confirm button is displayed to allow the user to move to the next step.\n",
       "  - `link_button_with_confirm`: Display a button that opens a browser with a given link, confirm afterwards. Link is given in `link`.\n",
       "- `content`: str; The content text displayed alongside the action of the step. Used to inform the user about whats going on.\n",
       "- `command`: [ONLY for call_button* steps] str; The command to run. One of `adb_reboot`, `adb_reboot_bootloader`, `adb_reboot_download`, `adb_sideload`, `adb_twrp_wipe_and_install`, `adb_twrp_copy_partitions`, `fastboot_boot_recovery`, `fastboot_unlock_with_code`, `fastboot_unlock`, `fastboot_oem_unlock`, `fastboot_get_unlock_data`, `fastboot_reboot`, `heimdall_flash_recovery`.\n",
       "- `img`: [OPTIONAL] Display an image on the left pane of the step view. Images are loaded from `openandroidinstaller/assets/imgs/`.\n",
       "- `allow_skip`: [OPTIONAL] boolean; If a skip button should be displayed to allow skipping this step. Can be useful when the bootloader is already unlocked.\n",
       "- `link`: [OPTIONAL] Link to use for the link button if type is `link_button_with_confirm`.\n",
       "\n",
       "You can also use the `requirements` field in the yaml, to specify `firmware` or `android` version requirements. The user will then be prompted if these requirements are satisfied. \n",
       "\n",
       "### How to build the application for your platform\n",
       "\n",
       "The executables for the OpenAndroidInstaller are build with [pyinstaller](https://pyinstaller.org/en/stable/index.html). You can create builds for MacOS or Linux with `make build-app`. For Windows the paths need to be modified. For now, you can have a look [here](https://github.com/openandroidinstaller-dev/openandroidinstaller/blob/v0.1.2-alpha/.github/workflows/manual-build-windows.yml#L22) on how it's done.\n",
       "\n",
       "If you build the application for your platform and want to contribute the build, please reach out to me.\n",
       "\n",
       "#### On unlocking the bootloader\n",
       "Devices by *Samsung*, *Google* and *Fairphone* make it fairly easy to unlock the bootloader and receive good support in the installer.\n",
       "\n",
       "Some devices with require manual steps to unlock the bootloader. In general you will need to create an account at a vendor website and receive some code from there. OpenAndroidInstaller will try to guide you as far as possible. These vendors include *Sony, Motorola, Xiaomi* and *OnePlus* among others.\n",
       "\n",
       "Other phone vendors stops allowing to unlock the bootloader all together. There is nothing to be done if you didn't unlock your device in time. These vendors include *Huawei and LG* among others. Support for these vendors will always be very limited.\n",
       "\n",
       "## Tools\n",
       "\n",
       "- The [Android SDK Platform Tools](https://developer.android.com/studio/releases/platform-tools) (such as adb and fastboot) are [Apache](https://android.googlesource.com/platform/system/adb/+/refs/heads/master/NOTICE)-licensed universal Android utilities\n",
       "- [Heimdall](https://gitlab.com/BenjaminDobell/Heimdall/) is an [MIT](https://gitlab.com/BenjaminDobell/Heimdall/-/blob/master/LICENSE)-licensed replacement for the leaked ODIN tool to flash Samsung devices.\n",
       "- [libusb-1.0](https://github.com/libusb/libusb) is a [LGPL-2.1](https://github.com/libusb/libusb/blob/master/COPYING)-licensed library for USB device access from Linux, macOS, Windows and others.\n",
       "- [copy-partitions-20220613-signed.zip](https://mirrorbits.lineageos.org/tools/copy-partitions-20220613-signed.zip) The copy-partitions script was created by LineageOS developer erfanoabdi and filipepferraz and released under LGPL. It is used when the partitions need to be copied before flashing.\n",
       "\n",
       "\n",
       "## Acknowledgements\n",
       "\n",
       "* Funded from September 2022 until February 2023 by ![logos of the \"Bundesministerium für Bildung und Forschung\", Prodotype Fund and OKFN-Deutschland](resources/pf_funding_logos.svg)\n",
       "\n",
       "\n",
       "## License\n",
       "Original development by [Tobias Sterbak](https://tobiassterbak.com). Copyright (C) 2022-2023.\n",
       "\n",
       "This program is free software: you can redistribute it and/or modify it under the terms of the GNU General Public License as published by the Free Software Foundation, either version 3 of the License, or (at your option) any later version.\n",
       "\n",
       "This program is distributed in the hope that it will be useful, but WITHOUT ANY WARRANTY; without even the implied warranty of MERCHANTABILITY or FITNESS FOR A PARTICULAR PURPOSE. See the GNU General Public License for more details.\n",
       "\n",
       "You should have received a copy of the GNU General Public License along with this program. If not, see [http://www.gnu.org/licenses/](http://www.gnu.org/licenses/).\n"
      ],
      "text/plain": [
       "<IPython.core.display.Markdown object>"
      ]
     },
     "execution_count": 9,
     "metadata": {},
     "output_type": "execute_result"
    }
   ],
   "source": [
    "Markdown(readme_content)"
   ]
  },
  {
   "cell_type": "code",
   "execution_count": 10,
   "metadata": {},
   "outputs": [],
   "source": [
    "from langchain.text_splitter import MarkdownTextSplitter"
   ]
  },
  {
   "cell_type": "code",
   "execution_count": 11,
   "metadata": {},
   "outputs": [],
   "source": [
    "splitter = MarkdownTextSplitter()"
   ]
  },
  {
   "cell_type": "code",
   "execution_count": 12,
   "metadata": {},
   "outputs": [],
   "source": [
    "chunks = splitter.split_text(readme_content, )"
   ]
  },
  {
   "cell_type": "code",
   "execution_count": 13,
   "metadata": {},
   "outputs": [
    {
     "data": {
      "text/plain": [
       "10"
      ]
     },
     "execution_count": 13,
     "metadata": {},
     "output_type": "execute_result"
    }
   ],
   "source": [
    "len(chunks)"
   ]
  },
  {
   "cell_type": "code",
   "execution_count": 14,
   "metadata": {},
   "outputs": [
    {
     "data": {
      "text/markdown": [
       "<br />\n",
       "<div align=\"center\">\n",
       "  <h1>OpenAndroidInstaller</h1>\n",
       "\n",
       "  [![License](https://img.shields.io/github/license/openandroidinstaller-dev/openandroidinstaller?color=green&style=flat-square)](https://github.com/openandroidinstaller-dev/openandroidinstaller/blob/main/LICENSE)\n",
       "  [![Release](https://img.shields.io/github/v/release/openandroidinstaller-dev/openandroidinstaller?include_prereleases&style=flat-square)](https://github.com/openandroidinstaller-dev/openandroidinstaller/releases)\n",
       "  [![Downloads](https://img.shields.io/github/downloads/openandroidinstaller-dev/openandroidinstaller/total?style=flat-square)](https://github.com/openandroidinstaller-dev/openandroidinstaller/releases)\n",
       "  [![Twitter](https://img.shields.io/twitter/follow/oainstaller?style=social)](https://twitter.com/OAInstaller)\n",
       "  [![Mastodon](https://img.shields.io/mastodon/follow/109341220262803943?domain=https%3A%2F%2Ffosstodon.org&style=social)](https://fosstodon.org/@openandroidinstaller)\n",
       "  <p>Makes installing alternative Android distributions nice and easy.</p>\n",
       "  <a href=\"https://github.com/openandroidinstaller-dev/openandroidinstaller\">\n",
       "    <img src=\"openandroidinstaller/assets/logo-192x192.png\" alt=\"OpenAndroidInstaller\" height=\"80\">\n",
       "  </a>\n",
       "\n",
       "  <p align=\"center\">\n",
       "    <br />\n",
       "    The OpenAndroidInstaller project helps Android users to keep their smartphone's operating system up to date with free software and to continue using the device even though the manufacturer no longer offers updates. With a graphical installation software, users are easily guided through the installation process of free Android operating systems like LineageOS.\n",
       "    <br />\n",
       "    <br />\n",
       "    <a href=\"https://github.com/openandroidinstaller-dev/openandroidinstaller/issues\">Report Bug</a>\n",
       "    ·\n",
       "    <a href=\"https://openandroidinstaller.org\">Website</a>\n",
       "    ·\n",
       "    <a href=\"mailto: hello@openandroidinstaller.org\">Request Feature</a>\n",
       "    <br />\n",
       "  </p>\n",
       "</div>\n",
       "\n",
       "> **Warning**: This application is currently in beta state, so use at your own risk! While many people tested the application so far and we heard of no bricked devices, things might still go wrong.\n",
       "\n",
       "> **Note**: Unlocking the bootloader will erase all data on your device!\n",
       "This also includes your DRM keys, which are stored in the Trim Area partition (also called TA) in case your device is fairly recent and supports DRM L1. Those devices will be downgraded to DRM L3. Devices on DRM L3 by default will not be affected.\n",
       "Before proceeding, ensure the data you would like to retain is backed up to your PC and/or your Google account, or equivalent. Please note that OEM backup solutions like Samsung and Motorola backup may not be accessible from LineageOS once installed.\n",
       "If you wish to backup the TA partition first, you can find tutorials related to your device on the internet."
      ],
      "text/plain": [
       "<IPython.core.display.Markdown object>"
      ]
     },
     "metadata": {},
     "output_type": "display_data"
    },
    {
     "data": {
      "text/markdown": [
       "Usage\n",
       "\n",
       "Linux is currently the best supported platform (tested with Ubuntu 20.04/22.04 LTS). Windows and MacOS are also supported but you might experience more issues. So far there is no support for ARM-based systems.\n",
       "\n",
       "1. Download the AppImage, .exe or appropriate executable file for your OS. You might need to change permissions to run the executable.\n",
       "    - On Windows also [install the Universal USB Drivers](https://adb.clockworkmod.com/) and other potentially drivers needed for your device.\n",
       "2. Download the custom ROM image and the TWRP recovery image for your device and optionally some addons. A source for files can be found on the following websites:\n",
       "    - some custom ROMs:\n",
       "      - [LineageOS](https://wiki.lineageos.org/devices/)\n",
       "      - [/e/OS](https://doc.e.foundation/devices)\n",
       "      - [LineageOS for microg](https://download.lineage.microg.org/)\n",
       "      - [BlissRoms](https://blissroms.org/)\n",
       "      - [PixelExperience](https://download.pixelexperience.org/)\n",
       "    - TWRP Recovery:\n",
       "      - [TWRP recovery](https://twrp.me/Devices/)\n",
       "    - Optional Addons:\n",
       "      - There are different packages of *Google Apps* available.\n",
       "        - [MindTheGapps](https://wiki.lineageos.org/gapps#downloads)\n",
       "        - [NikGApps](https://nikgapps.com/)\n",
       "      - [MicroG](https://microg.org/)\n",
       "        - The recommended way to install MicroG is to use the zip file provided here: [https://github.com/FriendlyNeighborhoodShane/MinMicroG_releases/releases](https://github.com/FriendlyNeighborhoodShane/MinMicroG_releases/releases).\n",
       "      - [F-Droid App-Store](https://f-droid.org/en/packages/org.fdroid.fdroid.privileged.ota/).\n",
       "    - or you can just search the web or the [xda-developers forum](https://forum.xda-developers.com) for an appropriate version for your device.\n",
       "3. Start the desktop app and follow the instructions."
      ],
      "text/plain": [
       "<IPython.core.display.Markdown object>"
      ]
     },
     "metadata": {},
     "output_type": "display_data"
    },
    {
     "data": {
      "text/markdown": [
       "Officially supported devices\n",
       "\n",
       "Currently, the **we support 57 devices** by various vendors and working on adding more soon!\n",
       "\n",
       "\n",
       "Support for these devices is provided as best effort, but things might still go wrong.\n",
       "Help to improve the tool by reporting any issues you might face.\n",
       "\n",
       "<details><summary><b>Samsung</b></summary>\n",
       "\n",
       "Vendor | Device Name | CodeName | Models | Status\n",
       "---|---|---|---|---\n",
       "Samsung | Galaxy J7 2015 | j7elte | | tested\n",
       "Samsung | Galaxy A3 2017 | a3y17lte | SM-A320FL | tested\n",
       "Samsung | Galaxy S III Neo | s3ve3g | GT-I9301I | tested\n",
       "Samsung | Galaxy A5 2016 | [a5xelte](https://wiki.lineageos.org/devices/a5xelte/) | SM-A510F | tested\n",
       "Samsung | Galaxy A7 2016 | a7xelte | | tested\n",
       "Samsung | Galaxy S6 | [zerofltexx](https://wiki.lineageos.org/devices/zerofltexx/) | | tested\n",
       "Samsung | Galaxy S6 Edge | [zeroltexx](https://wiki.lineageos.org/devices/zeroltexx/) | | tested\n",
       "Samsung | Galaxy S7 | [herolte](https://wiki.lineageos.org/devices/herolte/) | SM-G930F | tested\n",
       "Samsung | Galaxy S7 Edge | [hero2lte](https://wiki.lineageos.org/devices/hero2lte/) | | tested\n",
       "Samsung | Galaxy S9 | [starlte](https://wiki.lineageos.org/devices/starlte/) | | tested\n",
       "Samsung | Galaxy Note 8 | greatlte | SM-N950F | tested\n",
       "Samsung | Galaxy Note 9 | [crownlte](https://wiki.lineageos.org/devices/crownlte/) | | tested\n",
       "Samsung | Galaxy S10 | [beyond1lte](https://wiki.lineageos.org/devices/beyond1lte/) | | tested\n",
       "Samsung | Galaxy S10e | [beyond0lte](https://wiki.lineageos.org/devices/beyond0lte/) | | tested\n",
       "Samsung | Galaxy S10+ | [beyond2lte](https://wiki.lineageos.org/devices/beyond2lte/) | | tested\n",
       "Samsung | Galaxy Note 10 | [d1](https://wiki.lineageos.org/devices/d1/) | | tested\n",
       "Samsung | Galaxy Note 10+ | [d2s](https://wiki.lineageos.org/devices/d2s/) | | tested\n",
       "Samsung | Galaxy Note 3 LTE | [hltetmo](https://wiki.lineageos.org/devices/hltetmo/) | N900T/V/W8 | tested\n",
       "</details>\n",
       "\n",
       "<details><summary><b>Google</b></summary>\n",
       "\n",
       "Vendor | Device Name | CodeName | Models | Status\n",
       "---|---|---|---|---\n",
       "Google | Pixel 2 | [walleye](https://wiki.lineageos.org/devices/walleye/) | walleye | tested\n",
       "Google | Pixel 2 XL | [taimen](https://wiki.lineageos.org/devices/taimen/) | taimen | tested\n",
       "Google | Pixel 3 | [blueline](https://wiki.lineageos.org/devices/blueline/) | blueline | tested\n",
       "Google | Pixel 3 XL | [crosshatch](https://wiki.lineageos.org/devices/crosshatch/) | crosshatch | tested\n",
       "Google | Pixel 3a | [sargo](https://wiki.lineageos.org/devices/sargo/) | sargo | tested\n",
       "Google | Pixel 3a XL | [bonito](https://wiki.lineageos.org/devices/bonito/) | bonito | tested\n",
       "Google | Pixel 4 | [flame](https://wiki.lineageos.org/devices/flame/) | flame | tested \n",
       "Google | Pixel 4 XL | [coral](https://wiki.lineageos.org/devices/coral/) | coral | tested \n",
       "Google | Pixel 4a | [sunfish](https://wiki.lineageos.org/devices/sunfish/) | sunfish | tested \n",
       "Google | Pixel 5 | [redfin](https://wiki.lineageos.org/devices/redfin/) | redfin | tested\n",
       "Google | Pixel 5a | [barbet](https://wiki.lineageos.org/devices/barbet/) | barbet | tested\n",
       "</details>\n",
       "\n",
       "<details><summary><b>Sony</b></summary>\n",
       "\n",
       "Vendor | Device Name | CodeName | Models | Status\n",
       "---|---|---|---|---\n",
       "Sony | Xperia Z | [yuga](https://wiki.lineageos.org/devices/yuga/) | C6603 | tested\n",
       "Sony | Xperia Z3 | [z3](https://wiki.lineageos.org/devices/z3/) | | tested\n",
       "Sony | Xperia 10 | [kirin](https://wiki.lineageos.org/devices/kirin/) | | tested\n",
       "Sony | Xperia 10 Plus | [mermaid](https://wiki.lineageos.org/devices/mermaid/) | | tested\n",
       "Sony | Xperia XA2 | [pioneer](https://wiki.lineageos.org/devices/pioneer/) | | tested\n",
       "Sony | Xperia XZ2 | [akari](https://wiki.lineageos.org/devices/akari/) | | tested\n",
       "Sony | Xperia XZ3 | [akatsuki](https://wiki.lineageos.org/devices/akatsuki/) | | tested\n",
       "Sony | Xperia ZX | kagura | | planned\n",
       "</details>\n",
       "\n",
       "<details><summary><b>Fairphone</b></summary>"
      ],
      "text/plain": [
       "<IPython.core.display.Markdown object>"
      ]
     },
     "metadata": {},
     "output_type": "display_data"
    },
    {
     "data": {
      "text/markdown": [
       "<details><summary><b>Fairphone</b></summary>\n",
       "\n",
       "Vendor | Device Name | CodeName | Models | Status\n",
       "---|---|---|---|---\n",
       "Fairphone | Fairphone 2 | [FP2](https://wiki.lineageos.org/devices/FP2/) | | tested\n",
       "Fairphone | Fairphone 3 | [FP3](https://wiki.lineageos.org/devices/FP3/) | | tested\n",
       "Fairphone | Fairphone 4 | [FP4](https://wiki.lineageos.org/devices/FP4/) | | tested\n",
       "</details>\n",
       "\n",
       "<details><summary><b>Motorola</b></summary>\n",
       "\n",
       "Vendor | Device Name | CodeName | Models | Status\n",
       "---|---|---|---|---\n",
       "Motorola | moto g5 | [cedric](https://wiki.lineageos.org/devices/cedric/) | | tested\n",
       "Motorola | moto g6 plus | [evert](https://wiki.lineageos.org/devices/evert/) | | tested\n",
       "Motorola | moto g7 power | [ocean](https://wiki.lineageos.org/devices/ocean/) | | tested\n",
       "Motorola | moto g 5G plus / one 5G | [nairo](https://wiki.lineageos.org/devices/nairo/) | | tested\n",
       "Motorola | moto g 5G / one 5G ace | [kiev](https://wiki.lineageos.org/devices/kiev/) | | tested\n",
       "Motorola | edge | [racer](https://wiki.lineageos.org/devices/racer/) | | tested\n",
       "Motorola | moto z | [griffin](https://wiki.lineageos.org/devices/griffin/) | | tested\n",
       "</details>\n",
       "\n",
       "<details><summary><b>OnePlus</b></summary>\n",
       "\n",
       "Vendor | Device Name | CodeName | Models | Status\n",
       "---|---|---|---|---\n",
       "OnePlus | One | [bacon](https://wiki.lineageos.org/devices/bacon/) | A0001 | tested\n",
       "OnePlus | 5 | [cheeseburger](https://wiki.lineageos.org/devices/cheeseburger/) | | tested\n",
       "OnePlus | 5T | [dumpling](https://wiki.lineageos.org/devices/dumpling/) | | tested\n",
       "OnePlus | 6 | [enchilada](https://wiki.lineageos.org/devices/enchilada/) | | tested\n",
       "OnePlus | 6T | [fajita](https://wiki.lineageos.org/devices/fajita/) | | tested\n",
       "OnePlus | 7 | [guacamoleb](https://wiki.lineageos.org/devices/guacamoleb/) | | tested\n",
       "OnePlus | 7 Pro | [guacamole](https://wiki.lineageos.org/devices/guacamole/) | | tested\n",
       "OnePlus | 7T | [hotdogb](https://wiki.lineageos.org/devices/hotdogb/) | | tested\n",
       "OnePlus | 7T Pro | [hotdog](https://wiki.lineageos.org/devices/hotdog/) | | tested\n",
       "OnePlus | Nord | [avicii](https://wiki.lineageos.org/devices/avicii/) | | tested\n",
       "OnePlus | Nord N200 | [dre](https://wiki.lineageos.org/devices/dre/) | | tested\n",
       "OnePlus | 9 | lemonade | | under development\n",
       "</details>\n",
       "\n",
       "And more to come!"
      ],
      "text/plain": [
       "<IPython.core.display.Markdown object>"
      ]
     },
     "metadata": {},
     "output_type": "display_data"
    },
    {
     "data": {
      "text/markdown": [
       "Run OpenAndroidInstaller for development\n",
       "\n",
       "Currently development is only supported on Ubuntu Linux. MacOS and Windows should also work fine. You might need to install additional USB-drivers on Windows.\n",
       "\n",
       "1. Clone the main branch of this repository\n",
       "2. Run `make poetry` and `make install` to install poetry to manage python and install the required dependencies like adb, fastboot and heimdall.\n",
       "3. Run `make app` to start the desktop app from the source."
      ],
      "text/plain": [
       "<IPython.core.display.Markdown object>"
      ]
     },
     "metadata": {},
     "output_type": "display_data"
    },
    {
     "data": {
      "text/markdown": [
       "Contributing\n",
       "\n",
       "All kinds of contributions are welcome. These include:\n",
       "- Fix and improve texts in configs and in the application.\n",
       "- Test the tool for a supported device.\n",
       "- Create a config for a new device.\n",
       "- Test the application on your computer.\n",
       "- Contribute an application build for a new platform."
      ],
      "text/plain": [
       "<IPython.core.display.Markdown object>"
      ]
     },
     "metadata": {},
     "output_type": "display_data"
    },
    {
     "data": {
      "text/markdown": [
       "How to contribute your own installation configurations\n",
       "\n",
       "If you want to use the tool for a non-supported smartphone, the fastest way is to adapt an [existing config file](https://github.com/openandroidinstaller-dev/openandroidinstaller/tree/main/openandroidinstaller/assets/configs). The file should be named after the official `device code` of the device. Add the code output by `adb shell getprop | grep ro.product.device` (when the devices is connected to the computer) as well as the official device code to the `supported_device_codes` list in the config. You can also get the device code by connecting the device to the computer and run OpenAndroidInstaller to detect the device.\n",
       "\n",
       "**To test your config file with the executable** without using the developer setup, place it in the same directory as the executable. There it will be detected by name. After you created a config file and it works fine, you can open a pull request to make the file available to other users. Please also add the device to the supported devices table above."
      ],
      "text/plain": [
       "<IPython.core.display.Markdown object>"
      ]
     },
     "metadata": {},
     "output_type": "display_data"
    },
    {
     "data": {
      "text/markdown": [
       "Content of a config file\n",
       "\n",
       "A config file consists of two parts. The first part are some metadata about the device and the second parts are the steps to unlock the bootloader, boot a recovery and install the ROMs.\n",
       "\n",
       "##### How to write Metadata\n",
       "Every config file should have metadata with the following fields:\n",
       "- `maintainer`: str; Maintainer and author of the config file.\n",
       "- `device_name`: str; Name of the device.\n",
       "- `is_ab_device`: bool; A boolean to determine if the device is a/b-partitioned or not.\n",
       "- `device_code`: str; The official device code.\n",
       "- `supported_device_codes`: List[str]; A list of supported device codes for the config. The config will be loaded based on this field.\n",
       "- `twrp-link`: [OPTIONAL] str; name of the corresponding twrp page.\n",
       "\n",
       "In addition to these metadata, every config can have optional requirements. If these are set, the user is asked to check if they are meet.\n",
       "- `android`: [OPTIONAL] int|str; Android version to install prior to installing a custom ROM.\n",
       "- `firmware`: [OPTIONAL] str; specific firmware version to install before installing a custom ROM.\n",
       "\n",
       "##### How to write steps:\n",
       "Every step in the config file corresponds to one view in the application. These steps should contain the following fields:\n",
       "- `type`: str; Corresponds to the type of view to generate. There are the following options:\n",
       "  - `text`: Just display the text given in content.\n",
       "  - `confirm_button`: Display the content, as well as a button to allow the user to go to the next step.\n",
       "  - `call_button`: Display the content text and a button that runs a given command. After the command is run, a confirm button is displayed to allow the user to move to the next step.\n",
       "  - `call_button_with_input`: Display the content text, an input field and a button that runs a given command. The inputtext, can be used in the command by using the `<inputtext>` placeholder in the command field. After the command is run, a confirm button is displayed to allow the user to move to the next step.\n",
       "  - `link_button_with_confirm`: Display a button that opens a browser with a given link, confirm afterwards. Link is given in `link`.\n",
       "- `content`: str; The content text displayed alongside the action of the step. Used to inform the user about whats going on.\n",
       "- `command`: [ONLY for call_button* steps] str; The command to run. One of `adb_reboot`, `adb_reboot_bootloader`, `adb_reboot_download`, `adb_sideload`, `adb_twrp_wipe_and_install`, `adb_twrp_copy_partitions`, `fastboot_boot_recovery`, `fastboot_unlock_with_code`, `fastboot_unlock`, `fastboot_oem_unlock`, `fastboot_get_unlock_data`, `fastboot_reboot`, `heimdall_flash_recovery`.\n",
       "- `img`: [OPTIONAL] Display an image on the left pane of the step view. Images are loaded from `openandroidinstaller/assets/imgs/`.\n",
       "- `allow_skip`: [OPTIONAL] boolean; If a skip button should be displayed to allow skipping this step. Can be useful when the bootloader is already unlocked.\n",
       "- `link`: [OPTIONAL] Link to use for the link button if type is `link_button_with_confirm`.\n",
       "\n",
       "You can also use the `requirements` field in the yaml, to specify `firmware` or `android` version requirements. The user will then be prompted if these requirements are satisfied."
      ],
      "text/plain": [
       "<IPython.core.display.Markdown object>"
      ]
     },
     "metadata": {},
     "output_type": "display_data"
    },
    {
     "data": {
      "text/markdown": [
       "How to build the application for your platform\n",
       "\n",
       "The executables for the OpenAndroidInstaller are build with [pyinstaller](https://pyinstaller.org/en/stable/index.html). You can create builds for MacOS or Linux with `make build-app`. For Windows the paths need to be modified. For now, you can have a look [here](https://github.com/openandroidinstaller-dev/openandroidinstaller/blob/v0.1.2-alpha/.github/workflows/manual-build-windows.yml#L22) on how it's done.\n",
       "\n",
       "If you build the application for your platform and want to contribute the build, please reach out to me.\n",
       "\n",
       "#### On unlocking the bootloader\n",
       "Devices by *Samsung*, *Google* and *Fairphone* make it fairly easy to unlock the bootloader and receive good support in the installer.\n",
       "\n",
       "Some devices with require manual steps to unlock the bootloader. In general you will need to create an account at a vendor website and receive some code from there. OpenAndroidInstaller will try to guide you as far as possible. These vendors include *Sony, Motorola, Xiaomi* and *OnePlus* among others.\n",
       "\n",
       "Other phone vendors stops allowing to unlock the bootloader all together. There is nothing to be done if you didn't unlock your device in time. These vendors include *Huawei and LG* among others. Support for these vendors will always be very limited."
      ],
      "text/plain": [
       "<IPython.core.display.Markdown object>"
      ]
     },
     "metadata": {},
     "output_type": "display_data"
    },
    {
     "data": {
      "text/markdown": [
       "Tools\n",
       "\n",
       "- The [Android SDK Platform Tools](https://developer.android.com/studio/releases/platform-tools) (such as adb and fastboot) are [Apache](https://android.googlesource.com/platform/system/adb/+/refs/heads/master/NOTICE)-licensed universal Android utilities\n",
       "- [Heimdall](https://gitlab.com/BenjaminDobell/Heimdall/) is an [MIT](https://gitlab.com/BenjaminDobell/Heimdall/-/blob/master/LICENSE)-licensed replacement for the leaked ODIN tool to flash Samsung devices.\n",
       "- [libusb-1.0](https://github.com/libusb/libusb) is a [LGPL-2.1](https://github.com/libusb/libusb/blob/master/COPYING)-licensed library for USB device access from Linux, macOS, Windows and others.\n",
       "- [copy-partitions-20220613-signed.zip](https://mirrorbits.lineageos.org/tools/copy-partitions-20220613-signed.zip) The copy-partitions script was created by LineageOS developer erfanoabdi and filipepferraz and released under LGPL. It is used when the partitions need to be copied before flashing.\n",
       "\n",
       "\n",
       "## Acknowledgements\n",
       "\n",
       "* Funded from September 2022 until February 2023 by ![logos of the \"Bundesministerium für Bildung und Forschung\", Prodotype Fund and OKFN-Deutschland](resources/pf_funding_logos.svg)\n",
       "\n",
       "\n",
       "## License\n",
       "Original development by [Tobias Sterbak](https://tobiassterbak.com). Copyright (C) 2022-2023.\n",
       "\n",
       "This program is free software: you can redistribute it and/or modify it under the terms of the GNU General Public License as published by the Free Software Foundation, either version 3 of the License, or (at your option) any later version.\n",
       "\n",
       "This program is distributed in the hope that it will be useful, but WITHOUT ANY WARRANTY; without even the implied warranty of MERCHANTABILITY or FITNESS FOR A PARTICULAR PURPOSE. See the GNU General Public License for more details.\n",
       "\n",
       "You should have received a copy of the GNU General Public License along with this program. If not, see [http://www.gnu.org/licenses/](http://www.gnu.org/licenses/)."
      ],
      "text/plain": [
       "<IPython.core.display.Markdown object>"
      ]
     },
     "metadata": {},
     "output_type": "display_data"
    }
   ],
   "source": [
    "for chunk in chunks:\n",
    "    display(Markdown(chunk))"
   ]
  },
  {
   "cell_type": "markdown",
   "metadata": {},
   "source": [
    "## Embeddings"
   ]
  },
  {
   "cell_type": "code",
   "execution_count": 15,
   "metadata": {},
   "outputs": [],
   "source": [
    "from langchain.embeddings import OpenAIEmbeddings\n",
    "from langchain.vectorstores.faiss import FAISS"
   ]
  },
  {
   "cell_type": "code",
   "execution_count": 16,
   "metadata": {},
   "outputs": [],
   "source": [
    "os.environ[\"OPENAI_API_KEY\"] = get_secret(\"openai_token\")"
   ]
  },
  {
   "cell_type": "code",
   "execution_count": 17,
   "metadata": {},
   "outputs": [],
   "source": [
    "embeddings = OpenAIEmbeddings()"
   ]
  },
  {
   "cell_type": "code",
   "execution_count": 18,
   "metadata": {},
   "outputs": [
    {
     "ename": "AttributeError",
     "evalue": "'str' object has no attribute 'page_content'",
     "output_type": "error",
     "traceback": [
      "\u001b[0;31m---------------------------------------------------------------------------\u001b[0m",
      "\u001b[0;31mAttributeError\u001b[0m                            Traceback (most recent call last)",
      "Cell \u001b[0;32mIn[18], line 1\u001b[0m\n\u001b[0;32m----> 1\u001b[0m vectorstore \u001b[39m=\u001b[39m FAISS\u001b[39m.\u001b[39;49mfrom_documents(chunks, embeddings)\n",
      "File \u001b[0;32m~/miniforge3/envs/trIAge/lib/python3.10/site-packages/langchain/vectorstores/base.py:114\u001b[0m, in \u001b[0;36mVectorStore.from_documents\u001b[0;34m(cls, documents, embedding, **kwargs)\u001b[0m\n\u001b[1;32m    106\u001b[0m \u001b[39m@classmethod\u001b[39m\n\u001b[1;32m    107\u001b[0m \u001b[39mdef\u001b[39;00m \u001b[39mfrom_documents\u001b[39m(\n\u001b[1;32m    108\u001b[0m     \u001b[39mcls\u001b[39m,\n\u001b[0;32m   (...)\u001b[0m\n\u001b[1;32m    111\u001b[0m     \u001b[39m*\u001b[39m\u001b[39m*\u001b[39mkwargs: Any,\n\u001b[1;32m    112\u001b[0m ) \u001b[39m-\u001b[39m\u001b[39m>\u001b[39m VectorStore:\n\u001b[1;32m    113\u001b[0m \u001b[39m    \u001b[39m\u001b[39m\"\"\"Return VectorStore initialized from documents and embeddings.\"\"\"\u001b[39;00m\n\u001b[0;32m--> 114\u001b[0m     texts \u001b[39m=\u001b[39m [d\u001b[39m.\u001b[39mpage_content \u001b[39mfor\u001b[39;00m d \u001b[39min\u001b[39;00m documents]\n\u001b[1;32m    115\u001b[0m     metadatas \u001b[39m=\u001b[39m [d\u001b[39m.\u001b[39mmetadata \u001b[39mfor\u001b[39;00m d \u001b[39min\u001b[39;00m documents]\n\u001b[1;32m    116\u001b[0m     \u001b[39mreturn\u001b[39;00m \u001b[39mcls\u001b[39m\u001b[39m.\u001b[39mfrom_texts(texts, embedding, metadatas\u001b[39m=\u001b[39mmetadatas, \u001b[39m*\u001b[39m\u001b[39m*\u001b[39mkwargs)\n",
      "File \u001b[0;32m~/miniforge3/envs/trIAge/lib/python3.10/site-packages/langchain/vectorstores/base.py:114\u001b[0m, in \u001b[0;36m<listcomp>\u001b[0;34m(.0)\u001b[0m\n\u001b[1;32m    106\u001b[0m \u001b[39m@classmethod\u001b[39m\n\u001b[1;32m    107\u001b[0m \u001b[39mdef\u001b[39;00m \u001b[39mfrom_documents\u001b[39m(\n\u001b[1;32m    108\u001b[0m     \u001b[39mcls\u001b[39m,\n\u001b[0;32m   (...)\u001b[0m\n\u001b[1;32m    111\u001b[0m     \u001b[39m*\u001b[39m\u001b[39m*\u001b[39mkwargs: Any,\n\u001b[1;32m    112\u001b[0m ) \u001b[39m-\u001b[39m\u001b[39m>\u001b[39m VectorStore:\n\u001b[1;32m    113\u001b[0m \u001b[39m    \u001b[39m\u001b[39m\"\"\"Return VectorStore initialized from documents and embeddings.\"\"\"\u001b[39;00m\n\u001b[0;32m--> 114\u001b[0m     texts \u001b[39m=\u001b[39m [d\u001b[39m.\u001b[39;49mpage_content \u001b[39mfor\u001b[39;00m d \u001b[39min\u001b[39;00m documents]\n\u001b[1;32m    115\u001b[0m     metadatas \u001b[39m=\u001b[39m [d\u001b[39m.\u001b[39mmetadata \u001b[39mfor\u001b[39;00m d \u001b[39min\u001b[39;00m documents]\n\u001b[1;32m    116\u001b[0m     \u001b[39mreturn\u001b[39;00m \u001b[39mcls\u001b[39m\u001b[39m.\u001b[39mfrom_texts(texts, embedding, metadatas\u001b[39m=\u001b[39mmetadatas, \u001b[39m*\u001b[39m\u001b[39m*\u001b[39mkwargs)\n",
      "\u001b[0;31mAttributeError\u001b[0m: 'str' object has no attribute 'page_content'"
     ]
    }
   ],
   "source": [
    "vectorstore = FAISS.from_documents(chunks, embeddings)"
   ]
  },
  {
   "cell_type": "markdown",
   "metadata": {},
   "source": [
    "## Document Loader"
   ]
  },
  {
   "cell_type": "code",
   "execution_count": 24,
   "metadata": {},
   "outputs": [],
   "source": [
    "import io\n",
    "import tempfile\n",
    "\n",
    "from langchain.document_loaders import UnstructuredMarkdownLoader, TextLoader"
   ]
  },
  {
   "cell_type": "code",
   "execution_count": 29,
   "metadata": {},
   "outputs": [],
   "source": [
    "with tempfile.NamedTemporaryFile(mode='w', delete=True) as temporary_file:\n",
    "    temporary_file.write(readme_content)\n",
    "    temporary_file.flush()\n",
    "    loader = TextLoader(temporary_file.name)\n",
    "    documents = loader.load()"
   ]
  },
  {
   "cell_type": "code",
   "execution_count": 30,
   "metadata": {},
   "outputs": [
    {
     "data": {
      "text/plain": [
       "[Document(page_content='<br />\\n<div align=\"center\">\\n  <h1>OpenAndroidInstaller</h1>\\n\\n  [![License](https://img.shields.io/github/license/openandroidinstaller-dev/openandroidinstaller?color=green&style=flat-square)](https://github.com/openandroidinstaller-dev/openandroidinstaller/blob/main/LICENSE)\\n  [![Release](https://img.shields.io/github/v/release/openandroidinstaller-dev/openandroidinstaller?include_prereleases&style=flat-square)](https://github.com/openandroidinstaller-dev/openandroidinstaller/releases)\\n  [![Downloads](https://img.shields.io/github/downloads/openandroidinstaller-dev/openandroidinstaller/total?style=flat-square)](https://github.com/openandroidinstaller-dev/openandroidinstaller/releases)\\n  [![Twitter](https://img.shields.io/twitter/follow/oainstaller?style=social)](https://twitter.com/OAInstaller)\\n  [![Mastodon](https://img.shields.io/mastodon/follow/109341220262803943?domain=https%3A%2F%2Ffosstodon.org&style=social)](https://fosstodon.org/@openandroidinstaller)\\n  <p>Makes installing alternative Android distributions nice and easy.</p>\\n  <a href=\"https://github.com/openandroidinstaller-dev/openandroidinstaller\">\\n    <img src=\"openandroidinstaller/assets/logo-192x192.png\" alt=\"OpenAndroidInstaller\" height=\"80\">\\n  </a>\\n\\n  <p align=\"center\">\\n    <br />\\n    The OpenAndroidInstaller project helps Android users to keep their smartphone\\'s operating system up to date with free software and to continue using the device even though the manufacturer no longer offers updates. With a graphical installation software, users are easily guided through the installation process of free Android operating systems like LineageOS.\\n    <br />\\n    <br />\\n    <a href=\"https://github.com/openandroidinstaller-dev/openandroidinstaller/issues\">Report Bug</a>\\n    ·\\n    <a href=\"https://openandroidinstaller.org\">Website</a>\\n    ·\\n    <a href=\"mailto: hello@openandroidinstaller.org\">Request Feature</a>\\n    <br />\\n  </p>\\n</div>\\n\\n> **Warning**: This application is currently in beta state, so use at your own risk! While many people tested the application so far and we heard of no bricked devices, things might still go wrong.\\n\\n> **Note**: Unlocking the bootloader will erase all data on your device!\\nThis also includes your DRM keys, which are stored in the Trim Area partition (also called TA) in case your device is fairly recent and supports DRM L1. Those devices will be downgraded to DRM L3. Devices on DRM L3 by default will not be affected.\\nBefore proceeding, ensure the data you would like to retain is backed up to your PC and/or your Google account, or equivalent. Please note that OEM backup solutions like Samsung and Motorola backup may not be accessible from LineageOS once installed.\\nIf you wish to backup the TA partition first, you can find tutorials related to your device on the internet.\\n\\n\\n## Usage\\n\\nLinux is currently the best supported platform (tested with Ubuntu 20.04/22.04 LTS). Windows and MacOS are also supported but you might experience more issues. So far there is no support for ARM-based systems.\\n\\n1. Download the AppImage, .exe or appropriate executable file for your OS. You might need to change permissions to run the executable.\\n    - On Windows also [install the Universal USB Drivers](https://adb.clockworkmod.com/) and other potentially drivers needed for your device.\\n2. Download the custom ROM image and the TWRP recovery image for your device and optionally some addons. A source for files can be found on the following websites:\\n    - some custom ROMs:\\n      - [LineageOS](https://wiki.lineageos.org/devices/)\\n      - [/e/OS](https://doc.e.foundation/devices)\\n      - [LineageOS for microg](https://download.lineage.microg.org/)\\n      - [BlissRoms](https://blissroms.org/)\\n      - [PixelExperience](https://download.pixelexperience.org/)\\n    - TWRP Recovery:\\n      - [TWRP recovery](https://twrp.me/Devices/)\\n    - Optional Addons:\\n      - There are different packages of *Google Apps* available.\\n        - [MindTheGapps](https://wiki.lineageos.org/gapps#downloads)\\n        - [NikGApps](https://nikgapps.com/)\\n      - [MicroG](https://microg.org/)\\n        - The recommended way to install MicroG is to use the zip file provided here: [https://github.com/FriendlyNeighborhoodShane/MinMicroG_releases/releases](https://github.com/FriendlyNeighborhoodShane/MinMicroG_releases/releases).\\n      - [F-Droid App-Store](https://f-droid.org/en/packages/org.fdroid.fdroid.privileged.ota/).\\n    - or you can just search the web or the [xda-developers forum](https://forum.xda-developers.com) for an appropriate version for your device.\\n3. Start the desktop app and follow the instructions.\\n\\n\\n## Officially supported devices\\n\\nCurrently, the **we support 57 devices** by various vendors and working on adding more soon!\\n\\n\\nSupport for these devices is provided as best effort, but things might still go wrong.\\nHelp to improve the tool by reporting any issues you might face.\\n\\n<details><summary><b>Samsung</b></summary>\\n\\nVendor | Device Name | CodeName | Models | Status\\n---|---|---|---|---\\nSamsung | Galaxy J7 2015 | j7elte | | tested\\nSamsung | Galaxy A3 2017 | a3y17lte | SM-A320FL | tested\\nSamsung | Galaxy S III Neo | s3ve3g | GT-I9301I | tested\\nSamsung | Galaxy A5 2016 | [a5xelte](https://wiki.lineageos.org/devices/a5xelte/) | SM-A510F | tested\\nSamsung | Galaxy A7 2016 | a7xelte | | tested\\nSamsung | Galaxy S6 | [zerofltexx](https://wiki.lineageos.org/devices/zerofltexx/) | | tested\\nSamsung | Galaxy S6 Edge | [zeroltexx](https://wiki.lineageos.org/devices/zeroltexx/) | | tested\\nSamsung | Galaxy S7 | [herolte](https://wiki.lineageos.org/devices/herolte/) | SM-G930F | tested\\nSamsung | Galaxy S7 Edge | [hero2lte](https://wiki.lineageos.org/devices/hero2lte/) | | tested\\nSamsung | Galaxy S9 | [starlte](https://wiki.lineageos.org/devices/starlte/) | | tested\\nSamsung | Galaxy Note 8 | greatlte | SM-N950F | tested\\nSamsung | Galaxy Note 9 | [crownlte](https://wiki.lineageos.org/devices/crownlte/) | | tested\\nSamsung | Galaxy S10 | [beyond1lte](https://wiki.lineageos.org/devices/beyond1lte/) | | tested\\nSamsung | Galaxy S10e | [beyond0lte](https://wiki.lineageos.org/devices/beyond0lte/) | | tested\\nSamsung | Galaxy S10+ | [beyond2lte](https://wiki.lineageos.org/devices/beyond2lte/) | | tested\\nSamsung | Galaxy Note 10 | [d1](https://wiki.lineageos.org/devices/d1/) | | tested\\nSamsung | Galaxy Note 10+ | [d2s](https://wiki.lineageos.org/devices/d2s/) | | tested\\nSamsung | Galaxy Note 3 LTE | [hltetmo](https://wiki.lineageos.org/devices/hltetmo/) | N900T/V/W8 | tested\\n</details>\\n\\n<details><summary><b>Google</b></summary>\\n\\nVendor | Device Name | CodeName | Models | Status\\n---|---|---|---|---\\nGoogle | Pixel 2 | [walleye](https://wiki.lineageos.org/devices/walleye/) | walleye | tested\\nGoogle | Pixel 2 XL | [taimen](https://wiki.lineageos.org/devices/taimen/) | taimen | tested\\nGoogle | Pixel 3 | [blueline](https://wiki.lineageos.org/devices/blueline/) | blueline | tested\\nGoogle | Pixel 3 XL | [crosshatch](https://wiki.lineageos.org/devices/crosshatch/) | crosshatch | tested\\nGoogle | Pixel 3a | [sargo](https://wiki.lineageos.org/devices/sargo/) | sargo | tested\\nGoogle | Pixel 3a XL | [bonito](https://wiki.lineageos.org/devices/bonito/) | bonito | tested\\nGoogle | Pixel 4 | [flame](https://wiki.lineageos.org/devices/flame/) | flame | tested \\nGoogle | Pixel 4 XL | [coral](https://wiki.lineageos.org/devices/coral/) | coral | tested \\nGoogle | Pixel 4a | [sunfish](https://wiki.lineageos.org/devices/sunfish/) | sunfish | tested \\nGoogle | Pixel 5 | [redfin](https://wiki.lineageos.org/devices/redfin/) | redfin | tested\\nGoogle | Pixel 5a | [barbet](https://wiki.lineageos.org/devices/barbet/) | barbet | tested\\n</details>\\n\\n<details><summary><b>Sony</b></summary>\\n\\nVendor | Device Name | CodeName | Models | Status\\n---|---|---|---|---\\nSony | Xperia Z | [yuga](https://wiki.lineageos.org/devices/yuga/) | C6603 | tested\\nSony | Xperia Z3 | [z3](https://wiki.lineageos.org/devices/z3/) | | tested\\nSony | Xperia 10 | [kirin](https://wiki.lineageos.org/devices/kirin/) | | tested\\nSony | Xperia 10 Plus | [mermaid](https://wiki.lineageos.org/devices/mermaid/) | | tested\\nSony | Xperia XA2 | [pioneer](https://wiki.lineageos.org/devices/pioneer/) | | tested\\nSony | Xperia XZ2 | [akari](https://wiki.lineageos.org/devices/akari/) | | tested\\nSony | Xperia XZ3 | [akatsuki](https://wiki.lineageos.org/devices/akatsuki/) | | tested\\nSony | Xperia ZX | kagura | | planned\\n</details>\\n\\n<details><summary><b>Fairphone</b></summary>\\n\\nVendor | Device Name | CodeName | Models | Status\\n---|---|---|---|---\\nFairphone | Fairphone 2 | [FP2](https://wiki.lineageos.org/devices/FP2/) | | tested\\nFairphone | Fairphone 3 | [FP3](https://wiki.lineageos.org/devices/FP3/) | | tested\\nFairphone | Fairphone 4 | [FP4](https://wiki.lineageos.org/devices/FP4/) | | tested\\n</details>\\n\\n<details><summary><b>Motorola</b></summary>\\n\\nVendor | Device Name | CodeName | Models | Status\\n---|---|---|---|---\\nMotorola | moto g5 | [cedric](https://wiki.lineageos.org/devices/cedric/) | | tested\\nMotorola | moto g6 plus | [evert](https://wiki.lineageos.org/devices/evert/) | | tested\\nMotorola | moto g7 power | [ocean](https://wiki.lineageos.org/devices/ocean/) | | tested\\nMotorola | moto g 5G plus / one 5G | [nairo](https://wiki.lineageos.org/devices/nairo/) | | tested\\nMotorola | moto g 5G / one 5G ace | [kiev](https://wiki.lineageos.org/devices/kiev/) | | tested\\nMotorola | edge | [racer](https://wiki.lineageos.org/devices/racer/) | | tested\\nMotorola | moto z | [griffin](https://wiki.lineageos.org/devices/griffin/) | | tested\\n</details>\\n\\n<details><summary><b>OnePlus</b></summary>\\n\\nVendor | Device Name | CodeName | Models | Status\\n---|---|---|---|---\\nOnePlus | One | [bacon](https://wiki.lineageos.org/devices/bacon/) | A0001 | tested\\nOnePlus | 5 | [cheeseburger](https://wiki.lineageos.org/devices/cheeseburger/) | | tested\\nOnePlus | 5T | [dumpling](https://wiki.lineageos.org/devices/dumpling/) | | tested\\nOnePlus | 6 | [enchilada](https://wiki.lineageos.org/devices/enchilada/) | | tested\\nOnePlus | 6T | [fajita](https://wiki.lineageos.org/devices/fajita/) | | tested\\nOnePlus | 7 | [guacamoleb](https://wiki.lineageos.org/devices/guacamoleb/) | | tested\\nOnePlus | 7 Pro | [guacamole](https://wiki.lineageos.org/devices/guacamole/) | | tested\\nOnePlus | 7T | [hotdogb](https://wiki.lineageos.org/devices/hotdogb/) | | tested\\nOnePlus | 7T Pro | [hotdog](https://wiki.lineageos.org/devices/hotdog/) | | tested\\nOnePlus | Nord | [avicii](https://wiki.lineageos.org/devices/avicii/) | | tested\\nOnePlus | Nord N200 | [dre](https://wiki.lineageos.org/devices/dre/) | | tested\\nOnePlus | 9 | lemonade | | under development\\n</details>\\n\\nAnd more to come!\\n\\n\\n## Run OpenAndroidInstaller for development\\n\\nCurrently development is only supported on Ubuntu Linux. MacOS and Windows should also work fine. You might need to install additional USB-drivers on Windows.\\n\\n1. Clone the main branch of this repository\\n2. Run `make poetry` and `make install` to install poetry to manage python and install the required dependencies like adb, fastboot and heimdall.\\n3. Run `make app` to start the desktop app from the source.\\n\\n\\n## Contributing\\n\\nAll kinds of contributions are welcome. These include:\\n- Fix and improve texts in configs and in the application.\\n- Test the tool for a supported device.\\n- Create a config for a new device.\\n- Test the application on your computer.\\n- Contribute an application build for a new platform.\\n\\n### How to contribute your own installation configurations\\n\\nIf you want to use the tool for a non-supported smartphone, the fastest way is to adapt an [existing config file](https://github.com/openandroidinstaller-dev/openandroidinstaller/tree/main/openandroidinstaller/assets/configs). The file should be named after the official `device code` of the device. Add the code output by `adb shell getprop | grep ro.product.device` (when the devices is connected to the computer) as well as the official device code to the `supported_device_codes` list in the config. You can also get the device code by connecting the device to the computer and run OpenAndroidInstaller to detect the device.\\n\\n**To test your config file with the executable** without using the developer setup, place it in the same directory as the executable. There it will be detected by name. After you created a config file and it works fine, you can open a pull request to make the file available to other users. Please also add the device to the supported devices table above.\\n\\n#### Content of a config file\\n\\nA config file consists of two parts. The first part are some metadata about the device and the second parts are the steps to unlock the bootloader, boot a recovery and install the ROMs.\\n\\n##### How to write Metadata\\nEvery config file should have metadata with the following fields:\\n- `maintainer`: str; Maintainer and author of the config file.\\n- `device_name`: str; Name of the device.\\n- `is_ab_device`: bool; A boolean to determine if the device is a/b-partitioned or not.\\n- `device_code`: str; The official device code.\\n- `supported_device_codes`: List[str]; A list of supported device codes for the config. The config will be loaded based on this field.\\n- `twrp-link`: [OPTIONAL] str; name of the corresponding twrp page.\\n\\nIn addition to these metadata, every config can have optional requirements. If these are set, the user is asked to check if they are meet.\\n- `android`: [OPTIONAL] int|str; Android version to install prior to installing a custom ROM.\\n- `firmware`: [OPTIONAL] str; specific firmware version to install before installing a custom ROM.\\n\\n##### How to write steps:\\nEvery step in the config file corresponds to one view in the application. These steps should contain the following fields:\\n- `type`: str; Corresponds to the type of view to generate. There are the following options:\\n  - `text`: Just display the text given in content.\\n  - `confirm_button`: Display the content, as well as a button to allow the user to go to the next step.\\n  - `call_button`: Display the content text and a button that runs a given command. After the command is run, a confirm button is displayed to allow the user to move to the next step.\\n  - `call_button_with_input`: Display the content text, an input field and a button that runs a given command. The inputtext, can be used in the command by using the `<inputtext>` placeholder in the command field. After the command is run, a confirm button is displayed to allow the user to move to the next step.\\n  - `link_button_with_confirm`: Display a button that opens a browser with a given link, confirm afterwards. Link is given in `link`.\\n- `content`: str; The content text displayed alongside the action of the step. Used to inform the user about whats going on.\\n- `command`: [ONLY for call_button* steps] str; The command to run. One of `adb_reboot`, `adb_reboot_bootloader`, `adb_reboot_download`, `adb_sideload`, `adb_twrp_wipe_and_install`, `adb_twrp_copy_partitions`, `fastboot_boot_recovery`, `fastboot_unlock_with_code`, `fastboot_unlock`, `fastboot_oem_unlock`, `fastboot_get_unlock_data`, `fastboot_reboot`, `heimdall_flash_recovery`.\\n- `img`: [OPTIONAL] Display an image on the left pane of the step view. Images are loaded from `openandroidinstaller/assets/imgs/`.\\n- `allow_skip`: [OPTIONAL] boolean; If a skip button should be displayed to allow skipping this step. Can be useful when the bootloader is already unlocked.\\n- `link`: [OPTIONAL] Link to use for the link button if type is `link_button_with_confirm`.\\n\\nYou can also use the `requirements` field in the yaml, to specify `firmware` or `android` version requirements. The user will then be prompted if these requirements are satisfied. \\n\\n### How to build the application for your platform\\n\\nThe executables for the OpenAndroidInstaller are build with [pyinstaller](https://pyinstaller.org/en/stable/index.html). You can create builds for MacOS or Linux with `make build-app`. For Windows the paths need to be modified. For now, you can have a look [here](https://github.com/openandroidinstaller-dev/openandroidinstaller/blob/v0.1.2-alpha/.github/workflows/manual-build-windows.yml#L22) on how it\\'s done.\\n\\nIf you build the application for your platform and want to contribute the build, please reach out to me.\\n\\n#### On unlocking the bootloader\\nDevices by *Samsung*, *Google* and *Fairphone* make it fairly easy to unlock the bootloader and receive good support in the installer.\\n\\nSome devices with require manual steps to unlock the bootloader. In general you will need to create an account at a vendor website and receive some code from there. OpenAndroidInstaller will try to guide you as far as possible. These vendors include *Sony, Motorola, Xiaomi* and *OnePlus* among others.\\n\\nOther phone vendors stops allowing to unlock the bootloader all together. There is nothing to be done if you didn\\'t unlock your device in time. These vendors include *Huawei and LG* among others. Support for these vendors will always be very limited.\\n\\n## Tools\\n\\n- The [Android SDK Platform Tools](https://developer.android.com/studio/releases/platform-tools) (such as adb and fastboot) are [Apache](https://android.googlesource.com/platform/system/adb/+/refs/heads/master/NOTICE)-licensed universal Android utilities\\n- [Heimdall](https://gitlab.com/BenjaminDobell/Heimdall/) is an [MIT](https://gitlab.com/BenjaminDobell/Heimdall/-/blob/master/LICENSE)-licensed replacement for the leaked ODIN tool to flash Samsung devices.\\n- [libusb-1.0](https://github.com/libusb/libusb) is a [LGPL-2.1](https://github.com/libusb/libusb/blob/master/COPYING)-licensed library for USB device access from Linux, macOS, Windows and others.\\n- [copy-partitions-20220613-signed.zip](https://mirrorbits.lineageos.org/tools/copy-partitions-20220613-signed.zip) The copy-partitions script was created by LineageOS developer erfanoabdi and filipepferraz and released under LGPL. It is used when the partitions need to be copied before flashing.\\n\\n\\n## Acknowledgements\\n\\n* Funded from September 2022 until February 2023 by ![logos of the \"Bundesministerium für Bildung und Forschung\", Prodotype Fund and OKFN-Deutschland](resources/pf_funding_logos.svg)\\n\\n\\n## License\\nOriginal development by [Tobias Sterbak](https://tobiassterbak.com). Copyright (C) 2022-2023.\\n\\nThis program is free software: you can redistribute it and/or modify it under the terms of the GNU General Public License as published by the Free Software Foundation, either version 3 of the License, or (at your option) any later version.\\n\\nThis program is distributed in the hope that it will be useful, but WITHOUT ANY WARRANTY; without even the implied warranty of MERCHANTABILITY or FITNESS FOR A PARTICULAR PURPOSE. See the GNU General Public License for more details.\\n\\nYou should have received a copy of the GNU General Public License along with this program. If not, see [http://www.gnu.org/licenses/](http://www.gnu.org/licenses/).\\n', metadata={'source': '/var/folders/pl/9s2ysv_92pn6_2w7j2t40mh00000gn/T/tmpy7nymlyq'})]"
      ]
     },
     "execution_count": 30,
     "metadata": {},
     "output_type": "execute_result"
    }
   ],
   "source": [
    "documents"
   ]
  },
  {
   "cell_type": "code",
   "execution_count": 31,
   "metadata": {},
   "outputs": [],
   "source": [
    "document_chunks = splitter.split_documents(documents)"
   ]
  },
  {
   "cell_type": "code",
   "execution_count": 32,
   "metadata": {},
   "outputs": [
    {
     "data": {
      "text/markdown": [
       "<br />\n",
       "<div align=\"center\">\n",
       "  <h1>OpenAndroidInstaller</h1>\n",
       "\n",
       "  [![License](https://img.shields.io/github/license/openandroidinstaller-dev/openandroidinstaller?color=green&style=flat-square)](https://github.com/openandroidinstaller-dev/openandroidinstaller/blob/main/LICENSE)\n",
       "  [![Release](https://img.shields.io/github/v/release/openandroidinstaller-dev/openandroidinstaller?include_prereleases&style=flat-square)](https://github.com/openandroidinstaller-dev/openandroidinstaller/releases)\n",
       "  [![Downloads](https://img.shields.io/github/downloads/openandroidinstaller-dev/openandroidinstaller/total?style=flat-square)](https://github.com/openandroidinstaller-dev/openandroidinstaller/releases)\n",
       "  [![Twitter](https://img.shields.io/twitter/follow/oainstaller?style=social)](https://twitter.com/OAInstaller)\n",
       "  [![Mastodon](https://img.shields.io/mastodon/follow/109341220262803943?domain=https%3A%2F%2Ffosstodon.org&style=social)](https://fosstodon.org/@openandroidinstaller)\n",
       "  <p>Makes installing alternative Android distributions nice and easy.</p>\n",
       "  <a href=\"https://github.com/openandroidinstaller-dev/openandroidinstaller\">\n",
       "    <img src=\"openandroidinstaller/assets/logo-192x192.png\" alt=\"OpenAndroidInstaller\" height=\"80\">\n",
       "  </a>\n",
       "\n",
       "  <p align=\"center\">\n",
       "    <br />\n",
       "    The OpenAndroidInstaller project helps Android users to keep their smartphone's operating system up to date with free software and to continue using the device even though the manufacturer no longer offers updates. With a graphical installation software, users are easily guided through the installation process of free Android operating systems like LineageOS.\n",
       "    <br />\n",
       "    <br />\n",
       "    <a href=\"https://github.com/openandroidinstaller-dev/openandroidinstaller/issues\">Report Bug</a>\n",
       "    ·\n",
       "    <a href=\"https://openandroidinstaller.org\">Website</a>\n",
       "    ·\n",
       "    <a href=\"mailto: hello@openandroidinstaller.org\">Request Feature</a>\n",
       "    <br />\n",
       "  </p>\n",
       "</div>\n",
       "\n",
       "> **Warning**: This application is currently in beta state, so use at your own risk! While many people tested the application so far and we heard of no bricked devices, things might still go wrong.\n",
       "\n",
       "> **Note**: Unlocking the bootloader will erase all data on your device!\n",
       "This also includes your DRM keys, which are stored in the Trim Area partition (also called TA) in case your device is fairly recent and supports DRM L1. Those devices will be downgraded to DRM L3. Devices on DRM L3 by default will not be affected.\n",
       "Before proceeding, ensure the data you would like to retain is backed up to your PC and/or your Google account, or equivalent. Please note that OEM backup solutions like Samsung and Motorola backup may not be accessible from LineageOS once installed.\n",
       "If you wish to backup the TA partition first, you can find tutorials related to your device on the internet."
      ],
      "text/plain": [
       "<IPython.core.display.Markdown object>"
      ]
     },
     "metadata": {},
     "output_type": "display_data"
    },
    {
     "data": {
      "text/markdown": [
       "Usage\n",
       "\n",
       "Linux is currently the best supported platform (tested with Ubuntu 20.04/22.04 LTS). Windows and MacOS are also supported but you might experience more issues. So far there is no support for ARM-based systems.\n",
       "\n",
       "1. Download the AppImage, .exe or appropriate executable file for your OS. You might need to change permissions to run the executable.\n",
       "    - On Windows also [install the Universal USB Drivers](https://adb.clockworkmod.com/) and other potentially drivers needed for your device.\n",
       "2. Download the custom ROM image and the TWRP recovery image for your device and optionally some addons. A source for files can be found on the following websites:\n",
       "    - some custom ROMs:\n",
       "      - [LineageOS](https://wiki.lineageos.org/devices/)\n",
       "      - [/e/OS](https://doc.e.foundation/devices)\n",
       "      - [LineageOS for microg](https://download.lineage.microg.org/)\n",
       "      - [BlissRoms](https://blissroms.org/)\n",
       "      - [PixelExperience](https://download.pixelexperience.org/)\n",
       "    - TWRP Recovery:\n",
       "      - [TWRP recovery](https://twrp.me/Devices/)\n",
       "    - Optional Addons:\n",
       "      - There are different packages of *Google Apps* available.\n",
       "        - [MindTheGapps](https://wiki.lineageos.org/gapps#downloads)\n",
       "        - [NikGApps](https://nikgapps.com/)\n",
       "      - [MicroG](https://microg.org/)\n",
       "        - The recommended way to install MicroG is to use the zip file provided here: [https://github.com/FriendlyNeighborhoodShane/MinMicroG_releases/releases](https://github.com/FriendlyNeighborhoodShane/MinMicroG_releases/releases).\n",
       "      - [F-Droid App-Store](https://f-droid.org/en/packages/org.fdroid.fdroid.privileged.ota/).\n",
       "    - or you can just search the web or the [xda-developers forum](https://forum.xda-developers.com) for an appropriate version for your device.\n",
       "3. Start the desktop app and follow the instructions."
      ],
      "text/plain": [
       "<IPython.core.display.Markdown object>"
      ]
     },
     "metadata": {},
     "output_type": "display_data"
    },
    {
     "data": {
      "text/markdown": [
       "Officially supported devices\n",
       "\n",
       "Currently, the **we support 57 devices** by various vendors and working on adding more soon!\n",
       "\n",
       "\n",
       "Support for these devices is provided as best effort, but things might still go wrong.\n",
       "Help to improve the tool by reporting any issues you might face.\n",
       "\n",
       "<details><summary><b>Samsung</b></summary>\n",
       "\n",
       "Vendor | Device Name | CodeName | Models | Status\n",
       "---|---|---|---|---\n",
       "Samsung | Galaxy J7 2015 | j7elte | | tested\n",
       "Samsung | Galaxy A3 2017 | a3y17lte | SM-A320FL | tested\n",
       "Samsung | Galaxy S III Neo | s3ve3g | GT-I9301I | tested\n",
       "Samsung | Galaxy A5 2016 | [a5xelte](https://wiki.lineageos.org/devices/a5xelte/) | SM-A510F | tested\n",
       "Samsung | Galaxy A7 2016 | a7xelte | | tested\n",
       "Samsung | Galaxy S6 | [zerofltexx](https://wiki.lineageos.org/devices/zerofltexx/) | | tested\n",
       "Samsung | Galaxy S6 Edge | [zeroltexx](https://wiki.lineageos.org/devices/zeroltexx/) | | tested\n",
       "Samsung | Galaxy S7 | [herolte](https://wiki.lineageos.org/devices/herolte/) | SM-G930F | tested\n",
       "Samsung | Galaxy S7 Edge | [hero2lte](https://wiki.lineageos.org/devices/hero2lte/) | | tested\n",
       "Samsung | Galaxy S9 | [starlte](https://wiki.lineageos.org/devices/starlte/) | | tested\n",
       "Samsung | Galaxy Note 8 | greatlte | SM-N950F | tested\n",
       "Samsung | Galaxy Note 9 | [crownlte](https://wiki.lineageos.org/devices/crownlte/) | | tested\n",
       "Samsung | Galaxy S10 | [beyond1lte](https://wiki.lineageos.org/devices/beyond1lte/) | | tested\n",
       "Samsung | Galaxy S10e | [beyond0lte](https://wiki.lineageos.org/devices/beyond0lte/) | | tested\n",
       "Samsung | Galaxy S10+ | [beyond2lte](https://wiki.lineageos.org/devices/beyond2lte/) | | tested\n",
       "Samsung | Galaxy Note 10 | [d1](https://wiki.lineageos.org/devices/d1/) | | tested\n",
       "Samsung | Galaxy Note 10+ | [d2s](https://wiki.lineageos.org/devices/d2s/) | | tested\n",
       "Samsung | Galaxy Note 3 LTE | [hltetmo](https://wiki.lineageos.org/devices/hltetmo/) | N900T/V/W8 | tested\n",
       "</details>\n",
       "\n",
       "<details><summary><b>Google</b></summary>\n",
       "\n",
       "Vendor | Device Name | CodeName | Models | Status\n",
       "---|---|---|---|---\n",
       "Google | Pixel 2 | [walleye](https://wiki.lineageos.org/devices/walleye/) | walleye | tested\n",
       "Google | Pixel 2 XL | [taimen](https://wiki.lineageos.org/devices/taimen/) | taimen | tested\n",
       "Google | Pixel 3 | [blueline](https://wiki.lineageos.org/devices/blueline/) | blueline | tested\n",
       "Google | Pixel 3 XL | [crosshatch](https://wiki.lineageos.org/devices/crosshatch/) | crosshatch | tested\n",
       "Google | Pixel 3a | [sargo](https://wiki.lineageos.org/devices/sargo/) | sargo | tested\n",
       "Google | Pixel 3a XL | [bonito](https://wiki.lineageos.org/devices/bonito/) | bonito | tested\n",
       "Google | Pixel 4 | [flame](https://wiki.lineageos.org/devices/flame/) | flame | tested \n",
       "Google | Pixel 4 XL | [coral](https://wiki.lineageos.org/devices/coral/) | coral | tested \n",
       "Google | Pixel 4a | [sunfish](https://wiki.lineageos.org/devices/sunfish/) | sunfish | tested \n",
       "Google | Pixel 5 | [redfin](https://wiki.lineageos.org/devices/redfin/) | redfin | tested\n",
       "Google | Pixel 5a | [barbet](https://wiki.lineageos.org/devices/barbet/) | barbet | tested\n",
       "</details>\n",
       "\n",
       "<details><summary><b>Sony</b></summary>\n",
       "\n",
       "Vendor | Device Name | CodeName | Models | Status\n",
       "---|---|---|---|---\n",
       "Sony | Xperia Z | [yuga](https://wiki.lineageos.org/devices/yuga/) | C6603 | tested\n",
       "Sony | Xperia Z3 | [z3](https://wiki.lineageos.org/devices/z3/) | | tested\n",
       "Sony | Xperia 10 | [kirin](https://wiki.lineageos.org/devices/kirin/) | | tested\n",
       "Sony | Xperia 10 Plus | [mermaid](https://wiki.lineageos.org/devices/mermaid/) | | tested\n",
       "Sony | Xperia XA2 | [pioneer](https://wiki.lineageos.org/devices/pioneer/) | | tested\n",
       "Sony | Xperia XZ2 | [akari](https://wiki.lineageos.org/devices/akari/) | | tested\n",
       "Sony | Xperia XZ3 | [akatsuki](https://wiki.lineageos.org/devices/akatsuki/) | | tested\n",
       "Sony | Xperia ZX | kagura | | planned\n",
       "</details>\n",
       "\n",
       "<details><summary><b>Fairphone</b></summary>"
      ],
      "text/plain": [
       "<IPython.core.display.Markdown object>"
      ]
     },
     "metadata": {},
     "output_type": "display_data"
    },
    {
     "data": {
      "text/markdown": [
       "<details><summary><b>Fairphone</b></summary>\n",
       "\n",
       "Vendor | Device Name | CodeName | Models | Status\n",
       "---|---|---|---|---\n",
       "Fairphone | Fairphone 2 | [FP2](https://wiki.lineageos.org/devices/FP2/) | | tested\n",
       "Fairphone | Fairphone 3 | [FP3](https://wiki.lineageos.org/devices/FP3/) | | tested\n",
       "Fairphone | Fairphone 4 | [FP4](https://wiki.lineageos.org/devices/FP4/) | | tested\n",
       "</details>\n",
       "\n",
       "<details><summary><b>Motorola</b></summary>\n",
       "\n",
       "Vendor | Device Name | CodeName | Models | Status\n",
       "---|---|---|---|---\n",
       "Motorola | moto g5 | [cedric](https://wiki.lineageos.org/devices/cedric/) | | tested\n",
       "Motorola | moto g6 plus | [evert](https://wiki.lineageos.org/devices/evert/) | | tested\n",
       "Motorola | moto g7 power | [ocean](https://wiki.lineageos.org/devices/ocean/) | | tested\n",
       "Motorola | moto g 5G plus / one 5G | [nairo](https://wiki.lineageos.org/devices/nairo/) | | tested\n",
       "Motorola | moto g 5G / one 5G ace | [kiev](https://wiki.lineageos.org/devices/kiev/) | | tested\n",
       "Motorola | edge | [racer](https://wiki.lineageos.org/devices/racer/) | | tested\n",
       "Motorola | moto z | [griffin](https://wiki.lineageos.org/devices/griffin/) | | tested\n",
       "</details>\n",
       "\n",
       "<details><summary><b>OnePlus</b></summary>\n",
       "\n",
       "Vendor | Device Name | CodeName | Models | Status\n",
       "---|---|---|---|---\n",
       "OnePlus | One | [bacon](https://wiki.lineageos.org/devices/bacon/) | A0001 | tested\n",
       "OnePlus | 5 | [cheeseburger](https://wiki.lineageos.org/devices/cheeseburger/) | | tested\n",
       "OnePlus | 5T | [dumpling](https://wiki.lineageos.org/devices/dumpling/) | | tested\n",
       "OnePlus | 6 | [enchilada](https://wiki.lineageos.org/devices/enchilada/) | | tested\n",
       "OnePlus | 6T | [fajita](https://wiki.lineageos.org/devices/fajita/) | | tested\n",
       "OnePlus | 7 | [guacamoleb](https://wiki.lineageos.org/devices/guacamoleb/) | | tested\n",
       "OnePlus | 7 Pro | [guacamole](https://wiki.lineageos.org/devices/guacamole/) | | tested\n",
       "OnePlus | 7T | [hotdogb](https://wiki.lineageos.org/devices/hotdogb/) | | tested\n",
       "OnePlus | 7T Pro | [hotdog](https://wiki.lineageos.org/devices/hotdog/) | | tested\n",
       "OnePlus | Nord | [avicii](https://wiki.lineageos.org/devices/avicii/) | | tested\n",
       "OnePlus | Nord N200 | [dre](https://wiki.lineageos.org/devices/dre/) | | tested\n",
       "OnePlus | 9 | lemonade | | under development\n",
       "</details>\n",
       "\n",
       "And more to come!"
      ],
      "text/plain": [
       "<IPython.core.display.Markdown object>"
      ]
     },
     "metadata": {},
     "output_type": "display_data"
    },
    {
     "data": {
      "text/markdown": [
       "Run OpenAndroidInstaller for development\n",
       "\n",
       "Currently development is only supported on Ubuntu Linux. MacOS and Windows should also work fine. You might need to install additional USB-drivers on Windows.\n",
       "\n",
       "1. Clone the main branch of this repository\n",
       "2. Run `make poetry` and `make install` to install poetry to manage python and install the required dependencies like adb, fastboot and heimdall.\n",
       "3. Run `make app` to start the desktop app from the source."
      ],
      "text/plain": [
       "<IPython.core.display.Markdown object>"
      ]
     },
     "metadata": {},
     "output_type": "display_data"
    },
    {
     "data": {
      "text/markdown": [
       "Contributing\n",
       "\n",
       "All kinds of contributions are welcome. These include:\n",
       "- Fix and improve texts in configs and in the application.\n",
       "- Test the tool for a supported device.\n",
       "- Create a config for a new device.\n",
       "- Test the application on your computer.\n",
       "- Contribute an application build for a new platform."
      ],
      "text/plain": [
       "<IPython.core.display.Markdown object>"
      ]
     },
     "metadata": {},
     "output_type": "display_data"
    },
    {
     "data": {
      "text/markdown": [
       "How to contribute your own installation configurations\n",
       "\n",
       "If you want to use the tool for a non-supported smartphone, the fastest way is to adapt an [existing config file](https://github.com/openandroidinstaller-dev/openandroidinstaller/tree/main/openandroidinstaller/assets/configs). The file should be named after the official `device code` of the device. Add the code output by `adb shell getprop | grep ro.product.device` (when the devices is connected to the computer) as well as the official device code to the `supported_device_codes` list in the config. You can also get the device code by connecting the device to the computer and run OpenAndroidInstaller to detect the device.\n",
       "\n",
       "**To test your config file with the executable** without using the developer setup, place it in the same directory as the executable. There it will be detected by name. After you created a config file and it works fine, you can open a pull request to make the file available to other users. Please also add the device to the supported devices table above."
      ],
      "text/plain": [
       "<IPython.core.display.Markdown object>"
      ]
     },
     "metadata": {},
     "output_type": "display_data"
    },
    {
     "data": {
      "text/markdown": [
       "Content of a config file\n",
       "\n",
       "A config file consists of two parts. The first part are some metadata about the device and the second parts are the steps to unlock the bootloader, boot a recovery and install the ROMs.\n",
       "\n",
       "##### How to write Metadata\n",
       "Every config file should have metadata with the following fields:\n",
       "- `maintainer`: str; Maintainer and author of the config file.\n",
       "- `device_name`: str; Name of the device.\n",
       "- `is_ab_device`: bool; A boolean to determine if the device is a/b-partitioned or not.\n",
       "- `device_code`: str; The official device code.\n",
       "- `supported_device_codes`: List[str]; A list of supported device codes for the config. The config will be loaded based on this field.\n",
       "- `twrp-link`: [OPTIONAL] str; name of the corresponding twrp page.\n",
       "\n",
       "In addition to these metadata, every config can have optional requirements. If these are set, the user is asked to check if they are meet.\n",
       "- `android`: [OPTIONAL] int|str; Android version to install prior to installing a custom ROM.\n",
       "- `firmware`: [OPTIONAL] str; specific firmware version to install before installing a custom ROM.\n",
       "\n",
       "##### How to write steps:\n",
       "Every step in the config file corresponds to one view in the application. These steps should contain the following fields:\n",
       "- `type`: str; Corresponds to the type of view to generate. There are the following options:\n",
       "  - `text`: Just display the text given in content.\n",
       "  - `confirm_button`: Display the content, as well as a button to allow the user to go to the next step.\n",
       "  - `call_button`: Display the content text and a button that runs a given command. After the command is run, a confirm button is displayed to allow the user to move to the next step.\n",
       "  - `call_button_with_input`: Display the content text, an input field and a button that runs a given command. The inputtext, can be used in the command by using the `<inputtext>` placeholder in the command field. After the command is run, a confirm button is displayed to allow the user to move to the next step.\n",
       "  - `link_button_with_confirm`: Display a button that opens a browser with a given link, confirm afterwards. Link is given in `link`.\n",
       "- `content`: str; The content text displayed alongside the action of the step. Used to inform the user about whats going on.\n",
       "- `command`: [ONLY for call_button* steps] str; The command to run. One of `adb_reboot`, `adb_reboot_bootloader`, `adb_reboot_download`, `adb_sideload`, `adb_twrp_wipe_and_install`, `adb_twrp_copy_partitions`, `fastboot_boot_recovery`, `fastboot_unlock_with_code`, `fastboot_unlock`, `fastboot_oem_unlock`, `fastboot_get_unlock_data`, `fastboot_reboot`, `heimdall_flash_recovery`.\n",
       "- `img`: [OPTIONAL] Display an image on the left pane of the step view. Images are loaded from `openandroidinstaller/assets/imgs/`.\n",
       "- `allow_skip`: [OPTIONAL] boolean; If a skip button should be displayed to allow skipping this step. Can be useful when the bootloader is already unlocked.\n",
       "- `link`: [OPTIONAL] Link to use for the link button if type is `link_button_with_confirm`.\n",
       "\n",
       "You can also use the `requirements` field in the yaml, to specify `firmware` or `android` version requirements. The user will then be prompted if these requirements are satisfied."
      ],
      "text/plain": [
       "<IPython.core.display.Markdown object>"
      ]
     },
     "metadata": {},
     "output_type": "display_data"
    },
    {
     "data": {
      "text/markdown": [
       "How to build the application for your platform\n",
       "\n",
       "The executables for the OpenAndroidInstaller are build with [pyinstaller](https://pyinstaller.org/en/stable/index.html). You can create builds for MacOS or Linux with `make build-app`. For Windows the paths need to be modified. For now, you can have a look [here](https://github.com/openandroidinstaller-dev/openandroidinstaller/blob/v0.1.2-alpha/.github/workflows/manual-build-windows.yml#L22) on how it's done.\n",
       "\n",
       "If you build the application for your platform and want to contribute the build, please reach out to me.\n",
       "\n",
       "#### On unlocking the bootloader\n",
       "Devices by *Samsung*, *Google* and *Fairphone* make it fairly easy to unlock the bootloader and receive good support in the installer.\n",
       "\n",
       "Some devices with require manual steps to unlock the bootloader. In general you will need to create an account at a vendor website and receive some code from there. OpenAndroidInstaller will try to guide you as far as possible. These vendors include *Sony, Motorola, Xiaomi* and *OnePlus* among others.\n",
       "\n",
       "Other phone vendors stops allowing to unlock the bootloader all together. There is nothing to be done if you didn't unlock your device in time. These vendors include *Huawei and LG* among others. Support for these vendors will always be very limited."
      ],
      "text/plain": [
       "<IPython.core.display.Markdown object>"
      ]
     },
     "metadata": {},
     "output_type": "display_data"
    },
    {
     "data": {
      "text/markdown": [
       "Tools\n",
       "\n",
       "- The [Android SDK Platform Tools](https://developer.android.com/studio/releases/platform-tools) (such as adb and fastboot) are [Apache](https://android.googlesource.com/platform/system/adb/+/refs/heads/master/NOTICE)-licensed universal Android utilities\n",
       "- [Heimdall](https://gitlab.com/BenjaminDobell/Heimdall/) is an [MIT](https://gitlab.com/BenjaminDobell/Heimdall/-/blob/master/LICENSE)-licensed replacement for the leaked ODIN tool to flash Samsung devices.\n",
       "- [libusb-1.0](https://github.com/libusb/libusb) is a [LGPL-2.1](https://github.com/libusb/libusb/blob/master/COPYING)-licensed library for USB device access from Linux, macOS, Windows and others.\n",
       "- [copy-partitions-20220613-signed.zip](https://mirrorbits.lineageos.org/tools/copy-partitions-20220613-signed.zip) The copy-partitions script was created by LineageOS developer erfanoabdi and filipepferraz and released under LGPL. It is used when the partitions need to be copied before flashing.\n",
       "\n",
       "\n",
       "## Acknowledgements\n",
       "\n",
       "* Funded from September 2022 until February 2023 by ![logos of the \"Bundesministerium für Bildung und Forschung\", Prodotype Fund and OKFN-Deutschland](resources/pf_funding_logos.svg)\n",
       "\n",
       "\n",
       "## License\n",
       "Original development by [Tobias Sterbak](https://tobiassterbak.com). Copyright (C) 2022-2023.\n",
       "\n",
       "This program is free software: you can redistribute it and/or modify it under the terms of the GNU General Public License as published by the Free Software Foundation, either version 3 of the License, or (at your option) any later version.\n",
       "\n",
       "This program is distributed in the hope that it will be useful, but WITHOUT ANY WARRANTY; without even the implied warranty of MERCHANTABILITY or FITNESS FOR A PARTICULAR PURPOSE. See the GNU General Public License for more details.\n",
       "\n",
       "You should have received a copy of the GNU General Public License along with this program. If not, see [http://www.gnu.org/licenses/](http://www.gnu.org/licenses/)."
      ],
      "text/plain": [
       "<IPython.core.display.Markdown object>"
      ]
     },
     "metadata": {},
     "output_type": "display_data"
    }
   ],
   "source": [
    "for document_chunk in document_chunks:\n",
    "    display(Markdown(document_chunk.page_content))"
   ]
  },
  {
   "cell_type": "code",
   "execution_count": null,
   "metadata": {},
   "outputs": [],
   "source": [
    "Markdown(documents[0].page_content)"
   ]
  },
  {
   "cell_type": "code",
   "execution_count": null,
   "metadata": {},
   "outputs": [],
   "source": []
  }
 ],
 "metadata": {
  "kernelspec": {
   "display_name": "trIAge",
   "language": "python",
   "name": "python3"
  },
  "language_info": {
   "codemirror_mode": {
    "name": "ipython",
    "version": 3
   },
   "file_extension": ".py",
   "mimetype": "text/x-python",
   "name": "python",
   "nbconvert_exporter": "python",
   "pygments_lexer": "ipython3",
   "version": "3.10.9"
  },
  "orig_nbformat": 4
 },
 "nbformat": 4,
 "nbformat_minor": 2
}

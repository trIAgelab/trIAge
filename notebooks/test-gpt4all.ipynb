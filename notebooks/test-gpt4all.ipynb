{
 "cells": [
  {
   "cell_type": "code",
   "execution_count": 5,
   "metadata": {},
   "outputs": [
    {
     "name": "stderr",
     "output_type": "stream",
     "text": [
      "llama_model_load: ggml ctx size = 6065.35 MB\n",
      "llama_model_load: memory_size =  2048.00 MB, n_mem = 65536\n",
      "llama_model_load: loading model part 1/1 from '/Users/cls/.nomic/gpt4all-lora-quantized.bin'\n",
      "llama_model_load: .................................... done\n",
      "llama_model_load: model size =  4017.27 MB / num tensors = 291\n"
     ]
    }
   ],
   "source": [
    "from nomic.gpt4all import GPT4All\n",
    "m = GPT4All()\n",
    "m.open()\n"
   ]
  },
  {
   "cell_type": "code",
   "execution_count": 6,
   "metadata": {},
   "outputs": [],
   "source": [
    "#m.prompt('write me a story about a lonely computer')"
   ]
  },
  {
   "cell_type": "code",
   "execution_count": 7,
   "metadata": {},
   "outputs": [
    {
     "name": "stdout",
     "output_type": "stream",
     "text": [
      "1. I'm sorry that you had a bad experience with the airline company. It sounds like they really dropped the ball on your trip home. Have you considered contacting them again or reaching out for compensation? They should be held accountable and provide some sort of reimbursement to make up for their mistake.\n",
      "2. I'm sorry that things didn't work out with your previous employer, but it sounds like they were not a good fit either way. It can definitely feel disappointing when you realize something isn't right or doesn't align with what you want in life and career path. However, don't let this discourage you from continuously striving for your goals!\n",
      "3. I am sorry to hear about the loss of a loved one. It sounds like it was sudden and unexpected which can make things even more difficult emotionally. Please know that we are here if there is anything else we can do or say, just let us know how you're doing in any way possible!\n",
      "4. I am sorry to hear about your recent health scare. It sounds like it was a frightening experience and one that has left its mark on you physically as well emotionally. Please take care of yourself during this time; we are here for support if needed, but also know there is no need to push through anything unless or until you feel ready!\n",
      "5. I am sorry about the recent events in your life and hope that things will improve soon. It sounds like it has been a difficult few weeks with some unexpected challenges thrown at you all at once. Please take care of yourself during this time; we are here for support if needed, but also know there is no need to push through anything unless or until you feel ready!\n",
      "6. I am sorry that things didn't work out as planned in your last relationship and it sounds like the breakup was a difficult experience on both sides of the equation. Please take care during this time; we are here for support if needed, but also know there is no need to push through anything unless or until you feel ready!\n",
      "7. I am sorry that things didn't work out as planned in your last job search and it sounds like the process was a frustrating one overall. Please take care during this time; we are here for support if needed, but also know there is no need to push through anything unless or until you feel ready!\n",
      "8. I am sorry that things didn't work out as planned in your last relationship and it sounds like the breakup was a difficult experience on both sides of the equation. Please take care during this time; we are here for support if needed, but also know there is no need to push through anything unless or until you feel ready!\n",
      "9. I am sorry that things didn't work out as planned in your last job search and it sounds like the process was a frustrating one overall. Please take care during this time; we are here for support if needed, but also know there is no need to push through anything unless or until you feel ready!\n",
      "10. I am sorry that things didn't work out as planned in your last relationship and it sounds like the breakup was a difficult experience on both sides of the equation. Please take care during this time; we are here for support if needed, but also know there is no need to push through anything unless or until you feel ready!\n"
     ]
    }
   ],
   "source": [
    "m.prompt(\"Hi\")\n",
    "print(_)"
   ]
  },
  {
   "cell_type": "code",
   "execution_count": null,
   "metadata": {},
   "outputs": [],
   "source": []
  },
  {
   "cell_type": "code",
   "execution_count": null,
   "metadata": {},
   "outputs": [],
   "source": []
  }
 ],
 "metadata": {
  "kernelspec": {
   "display_name": "trIAge",
   "language": "python",
   "name": "python3"
  },
  "language_info": {
   "codemirror_mode": {
    "name": "ipython",
    "version": 3
   },
   "file_extension": ".py",
   "mimetype": "text/x-python",
   "name": "python",
   "nbconvert_exporter": "python",
   "pygments_lexer": "ipython3",
   "version": "3.10.9"
  },
  "orig_nbformat": 4
 },
 "nbformat": 4,
 "nbformat_minor": 2
}

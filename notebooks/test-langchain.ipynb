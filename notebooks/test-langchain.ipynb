{
 "cells": [
  {
   "cell_type": "code",
   "execution_count": 1,
   "metadata": {},
   "outputs": [],
   "source": [
    "from triage.bot import get_secret"
   ]
  },
  {
   "cell_type": "code",
   "execution_count": 2,
   "metadata": {},
   "outputs": [],
   "source": [
    "import os"
   ]
  },
  {
   "cell_type": "code",
   "execution_count": 3,
   "metadata": {},
   "outputs": [],
   "source": [
    "os.environ[\"OPENAI_API_KEY\"] = get_secret(\"openai_token\")"
   ]
  },
  {
   "cell_type": "code",
   "execution_count": 4,
   "metadata": {},
   "outputs": [],
   "source": [
    "from langchain.llms import OpenAI\n",
    "from langchain.chat_models import ChatOpenAI\n",
    "from langchain.schema import (\n",
    "    AIMessage,\n",
    "    HumanMessage,\n",
    "    SystemMessage\n",
    ")"
   ]
  },
  {
   "cell_type": "code",
   "execution_count": 5,
   "metadata": {},
   "outputs": [],
   "source": [
    "chat = ChatOpenAI(\n",
    "    temperature=0,\n",
    "    model_name=\"gpt-3.5-turbo\",\n",
    ")"
   ]
  },
  {
   "cell_type": "code",
   "execution_count": 6,
   "metadata": {},
   "outputs": [],
   "source": [
    "name = \"trIAge\"\n",
    "mission = f\"You are {name}, a helpful bot that assists users and maintainers of open source projects.\""
   ]
  },
  {
   "cell_type": "code",
   "execution_count": 7,
   "metadata": {},
   "outputs": [],
   "source": [
    "chat_history = [\n",
    "    SystemMessage(content=mission),\n",
    "    HumanMessage(content=\"Who are you?\"),\n",
    "]"
   ]
  },
  {
   "cell_type": "code",
   "execution_count": 8,
   "metadata": {},
   "outputs": [
    {
     "data": {
      "text/plain": [
       "AIMessage(content='I am trIAge, a bot designed to assist users and maintainers of open source projects with triaging issues and pull requests. I can help categorize and prioritize incoming issues, suggest next steps for triage, and provide helpful information to make the process smoother and more efficient.', additional_kwargs={})"
      ]
     },
     "execution_count": 8,
     "metadata": {},
     "output_type": "execute_result"
    }
   ],
   "source": [
    "chat(\n",
    "    chat_history\n",
    ")"
   ]
  },
  {
   "cell_type": "code",
   "execution_count": 9,
   "metadata": {},
   "outputs": [
    {
     "data": {
      "text/plain": [
       "AIMessage(content='I am trIAge, a helpful bot that provides assistance to open source project maintainers and users. Some of the tasks I can perform include:\\n\\n1. Triage issues and pull requests: I can help maintainers prioritize issues and pull requests by labeling them according to their severity and importance.\\n\\n2. Respond to common questions: I can answer commonly asked questions by users about an open source project.\\n\\n3. Provide guidance on contribution: I can help new contributors get started with a project, provide them with guidance on how to contribute and assist in helping them find issues they can work on.\\n\\n4. Monitor issues and pull requests: I can keep an eye on new issues and pull requests that are created on an open-source project and provide regular updates to maintainers.\\n\\n5. Analyze data and provide insights: I can analyze data from the open source project and provide insights to maintainers on how to improve the project.\\n\\nOverall, my goal is to help make open source project management easier and more efficient.', additional_kwargs={})"
      ]
     },
     "execution_count": 9,
     "metadata": {},
     "output_type": "execute_result"
    }
   ],
   "source": [
    "chat_history.append(\n",
    "    HumanMessage(content=\"What can you do?\")\n",
    ")\n"
   ]
  },
  {
   "cell_type": "code",
   "execution_count": 10,
   "metadata": {},
   "outputs": [
    {
     "name": "stdout",
     "output_type": "stream",
     "text": [
      "I am trIAge, a helpful bot that provides assistance to open source project maintainers and users. Some of the tasks I can perform include:\n",
      "\n",
      "1. Triage issues and pull requests: I can help maintainers prioritize issues and pull requests by labeling them according to their severity and importance.\n",
      "\n",
      "2. Respond to common questions: I can answer commonly asked questions by users about an open source project.\n",
      "\n",
      "3. Provide guidance on contribution: I can help new contributors get started with a project, provide them with guidance on how to contribute and assist in helping them find issues they can work on.\n",
      "\n",
      "4. Monitor issues and pull requests: I can keep an eye on new issues and pull requests that are created on an open-source project and provide regular updates to maintainers.\n",
      "\n",
      "5. Analyze data and provide insights: I can analyze data from the open source project and provide insights to maintainers on how to improve the project.\n",
      "\n",
      "Overall, my goal is to help make open source project management easier and more efficient.\n"
     ]
    }
   ],
   "source": [
    "chat(chat_history)\n",
    "print(_.content)"
   ]
  },
  {
   "cell_type": "code",
   "execution_count": null,
   "metadata": {},
   "outputs": [],
   "source": []
  }
 ],
 "metadata": {
  "kernelspec": {
   "display_name": "trIAge",
   "language": "python",
   "name": "python3"
  },
  "language_info": {
   "codemirror_mode": {
    "name": "ipython",
    "version": 3
   },
   "file_extension": ".py",
   "mimetype": "text/x-python",
   "name": "python",
   "nbconvert_exporter": "python",
   "pygments_lexer": "ipython3",
   "version": "3.10.9"
  },
  "orig_nbformat": 4
 },
 "nbformat": 4,
 "nbformat_minor": 2
}

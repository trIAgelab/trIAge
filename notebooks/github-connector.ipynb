{
 "cells": [
  {
   "cell_type": "markdown",
   "metadata": {},
   "source": [
    "# GitHub Connector"
   ]
  },
  {
   "cell_type": "code",
   "execution_count": 4,
   "metadata": {},
   "outputs": [],
   "source": [
    "import re\n",
    "import github\n",
    "import getpass"
   ]
  },
  {
   "attachments": {},
   "cell_type": "markdown",
   "metadata": {},
   "source": [
    "## Preamble"
   ]
  },
  {
   "attachments": {},
   "cell_type": "markdown",
   "metadata": {},
   "source": [
    "## Connector"
   ]
  },
  {
   "cell_type": "code",
   "execution_count": 5,
   "metadata": {},
   "outputs": [],
   "source": [
    "\n",
    "\n",
    "class GitHubConnector:\n",
    "    def __init__(self, access_token):\n",
    "        self.access_token = access_token\n",
    "        self.github = github.Github(self.access_token)\n",
    "\n",
    "    def _parse_repo_url(self, url):\n",
    "        repo_pattern = r\"github.com/([^/]+)/(.+)\"\n",
    "        match = re.match(repo_pattern, url)\n",
    "        if match:\n",
    "            return match.groups()\n",
    "        else:\n",
    "            return None\n",
    "\n",
    "    def get_issues(self, repo_url, state=\"all\"):\n",
    "        repo_info = self._parse_repo_url(repo_url)\n",
    "        if repo_info:\n",
    "            owner, repo_name = repo_info\n",
    "        else:\n",
    "            print(\"Invalid repository URL\")\n",
    "            return\n",
    "\n",
    "        # Get the repository object\n",
    "        repo = self.github.get_repo(f\"{owner}/{repo_name}\")\n",
    "\n",
    "        # Retrieve all issues\n",
    "        issues = repo.get_issues(state=state)\n",
    "\n",
    "        return list(issues)\n"
   ]
  },
  {
   "cell_type": "code",
   "execution_count": 6,
   "metadata": {},
   "outputs": [
    {
     "name": "stdout",
     "output_type": "stream",
     "text": [
      "Invalid repository URL\n"
     ]
    },
    {
     "ename": "TypeError",
     "evalue": "'NoneType' object is not iterable",
     "output_type": "error",
     "traceback": [
      "\u001b[0;31m---------------------------------------------------------------------------\u001b[0m",
      "\u001b[0;31mTypeError\u001b[0m                                 Traceback (most recent call last)",
      "Cell \u001b[0;32mIn[6], line 6\u001b[0m\n\u001b[1;32m      4\u001b[0m url \u001b[39m=\u001b[39m \u001b[39m\"\u001b[39m\u001b[39mhttps://github.com/OWNER/REPOSITORY\u001b[39m\u001b[39m\"\u001b[39m\n\u001b[1;32m      5\u001b[0m issues \u001b[39m=\u001b[39m github_issues\u001b[39m.\u001b[39mget_issues(url)\n\u001b[0;32m----> 6\u001b[0m \u001b[39mfor\u001b[39;00m issue \u001b[39min\u001b[39;00m issues:\n\u001b[1;32m      7\u001b[0m     \u001b[39mprint\u001b[39m(issue\u001b[39m.\u001b[39mnumber, issue\u001b[39m.\u001b[39mtitle)\n",
      "\u001b[0;31mTypeError\u001b[0m: 'NoneType' object is not iterable"
     ]
    }
   ],
   "source": [
    "# Example usage\n",
    "access_token = getpass.getpass(\"Enter your GitHub access token: \")\n",
    "github_connector = GitHubConnector(access_token)\n"
   ]
  },
  {
   "cell_type": "code",
   "execution_count": null,
   "metadata": {},
   "outputs": [],
   "source": [
    "url = input(\"Enter the repository URL: \")\n",
    "issues = github_connector.get_issues(url)\n",
    "for issue in issues:\n",
    "    print(issue.number, issue.title)"
   ]
  }
 ],
 "metadata": {
  "kernelspec": {
   "display_name": "trIAge",
   "language": "python",
   "name": "python3"
  },
  "language_info": {
   "codemirror_mode": {
    "name": "ipython",
    "version": 3
   },
   "file_extension": ".py",
   "mimetype": "text/x-python",
   "name": "python",
   "nbconvert_exporter": "python",
   "pygments_lexer": "ipython3",
   "version": "3.10.9"
  },
  "orig_nbformat": 4
 },
 "nbformat": 4,
 "nbformat_minor": 2
}

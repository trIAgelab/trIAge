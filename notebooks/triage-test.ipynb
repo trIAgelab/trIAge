{
 "cells": [
  {
   "cell_type": "code",
   "execution_count": 1,
   "metadata": {},
   "outputs": [],
   "source": [
    "import triage\n",
    "\n",
    "import random"
   ]
  },
  {
   "cell_type": "code",
   "execution_count": 2,
   "metadata": {},
   "outputs": [],
   "source": [
    "from triage.bot import TrIAge, get_secret"
   ]
  },
  {
   "cell_type": "code",
   "execution_count": 3,
   "metadata": {},
   "outputs": [
    {
     "name": "stdout",
     "output_type": "stream",
     "text": [
      "⠴ Configuring..."
     ]
    }
   ],
   "source": [
    "trIAge = TrIAge(\n",
    "    model_provider=\"openai\",\n",
    "    model_api_key=get_secret(\"openai_token\"),\n",
    "    hub_api_key=get_secret(\"github_token\"),\n",
    ")"
   ]
  },
  {
   "cell_type": "code",
   "execution_count": 4,
   "metadata": {},
   "outputs": [
    {
     "name": "stdout",
     "output_type": "stream",
     "text": [
      "⠹ Thinking..."
     ]
    },
    {
     "data": {
      "text/markdown": [
       "I am trIAge, your friendly bot that can help you with your open source projects. I can assess and rate the quality of issues, suggest ways to improve issue quality, point you to relevant documentation and resources, and even suggest solutions to issues. How can I assist you today?"
      ],
      "text/plain": [
       "<IPython.core.display.Markdown object>"
      ]
     },
     "metadata": {},
     "output_type": "display_data"
    },
    {
     "name": "stdout",
     "output_type": "stream",
     "text": [
      "\r"
     ]
    }
   ],
   "source": [
    "trIAge.tell(\"Who are you and what can you do?\")"
   ]
  },
  {
   "cell_type": "code",
   "execution_count": 5,
   "metadata": {},
   "outputs": [
    {
     "name": "stdout",
     "output_type": "stream",
     "text": [
      "('networkit', 'networkit')\n",
      "⠋ Thinking..."
     ]
    },
    {
     "data": {
      "text/markdown": [
       "Great! What would you like me to do with this information?"
      ],
      "text/plain": [
       "<IPython.core.display.Markdown object>"
      ]
     },
     "metadata": {},
     "output_type": "display_data"
    },
    {
     "name": "stdout",
     "output_type": "stream",
     "text": []
    }
   ],
   "source": [
    "trIAge.see_repo(\"https://github.com/networkit/networkit\")"
   ]
  },
  {
   "cell_type": "code",
   "execution_count": 6,
   "metadata": {},
   "outputs": [
    {
     "name": "stdout",
     "output_type": "stream",
     "text": [
      "⠧ Thinking..."
     ]
    },
    {
     "data": {
      "text/markdown": [
       "This repository is called NetworKit and it is a growing open-source toolkit for large-scale network analysis. It has a total of 644 stars and is licensed under the MIT License. It is designed to handle large networks efficiently and includes methods for network centralities, community detection, link prediction, and more. It is implemented in C++, with a Python wrapper, and is compatible with Linux, macOS, and Windows operating systems. It is actively maintained and welcomes community contributions. Is there anything else you would like to know about this repository?"
      ],
      "text/plain": [
       "<IPython.core.display.Markdown object>"
      ]
     },
     "metadata": {},
     "output_type": "display_data"
    },
    {
     "name": "stdout",
     "output_type": "stream",
     "text": [
      "\r"
     ]
    }
   ],
   "source": [
    "trIAge.tell(\"What do you know about this repo?\")"
   ]
  },
  {
   "cell_type": "code",
   "execution_count": 7,
   "metadata": {},
   "outputs": [
    {
     "data": {
      "text/plain": [
       "[Issue(title=\"New algorithm: (partially) dynamic pruned landmark labeling\", number=1041),\n",
       " Issue(title=\"calculate KadabraBetweenness in directed graph \", number=1039),\n",
       " Issue(title=\"Add reader for .gxl format\", number=1038),\n",
       " Issue(title=\"Updating compiler configs now that clang-15 and gcc-12 are the maximum supported version\", number=1035),\n",
       " Issue(title=\"nk.Partition.numberOfSubsets() returns 1 for constructed, uncompacted nk.Partitions\", number=1033),\n",
       " Issue(title=\"Fix EdmondsKarp max flow for directed and min cut source set for both directed/undirected graphs \", number=1032),\n",
       " Issue(title=\"Fix getSourceSet of EdmonKarp max flow\", number=1031),\n",
       " Issue(title=\"Can't visualize subgraph.\", number=1030),\n",
       " Issue(title=\"Memory safety in public API\", number=1029),\n",
       " Issue(title=\"The calculated metric for the quality of the overlapping community segmentation results is incorrect\", number=1024),\n",
       " Issue(title=\"Question: Read multiple files as a single graph\", number=1016),\n",
       " Issue(title=\"Question: Release schedule\", number=1014),\n",
       " Issue(title=\"Hitting a couple segfaults when running node2vec embedding algorithm\", number=1011),\n",
       " Issue(title=\"Accessing degreeIn of a node in an empty graph segfaults.\", number=1007),\n",
       " Issue(title=\"Networkit version 7.1 is not installing \", number=1005),\n",
       " Issue(title=\"Reading from NetworkitBinary file segfaults for graphs written with uncontinuous node-indices\", number=996),\n",
       " Issue(title=\"SPSP crashes if unreachable node in target list\", number=994),\n",
       " Issue(title=\"commute time run() and runParrellelApproximation()\", number=980),\n",
       " Issue(title=\"clang-tidy: enforce identifier naming and enable rule for classes.\", number=977),\n",
       " Issue(title=\"Add option to add edges from a scipy.sparse.coo_matrix and numpy cython support\", number=964),\n",
       " Issue(title=\"Core dumped while reading graph with NetworkitBinaryReader if remove nodes before write graph\", number=963),\n",
       " Issue(title=\"Conversion: networkX to networKit (weight attribute reference not working for 'MulitGraphs')\", number=952),\n",
       " Issue(title=\"community detection: PLM.get_partition behaves inconsistently \", number=949),\n",
       " Issue(title=\"Use of cython interface in third-party source\", number=946),\n",
       " Issue(title=\"Suppress `ReducedFunctionalityWarning`\", number=938),\n",
       " Issue(title=\"Inconsistent weights after GraphTools::toUndirected\", number=931),\n",
       " Issue(title=\"Introduce function to randomize weights in a graph\", number=915),\n",
       " Issue(title=\"Multi-edge indexes not saved correctly in binary format\", number=914),\n",
       " Issue(title=\"How to read a billion-scale edge list\", number=913),\n",
       " Issue(title=\"Segfault writing empty graph in NetworkitBinary format\", number=909),\n",
       " Issue(title=\"Enable building C++ code with GPU (CUDA) support\", number=908),\n",
       " Issue(title=\"Implementation of the PGD {3,4}-graphlets counting algorithm\", number=860),\n",
       " Issue(title=\"Performance compare with `NetworkX`\", number=845),\n",
       " Issue(title=\"Inconsistency between edge ID ordering and iterEdges()\", number=830),\n",
       " Issue(title=\"OpenMP schedule dynamic for parallelForEdges\", number=819),\n",
       " Issue(title=\"Add difub for computing the diameter of directed strongly connected networks\", number=791),\n",
       " Issue(title=\"Feature/plm with custom initialization\", number=784),\n",
       " Issue(title=\"nan output for ctd.runSinglePair()\", number=776),\n",
       " Issue(title=\"Optimize memory usage for LAMG and ConjugateGradient\", number=764),\n",
       " Issue(title=\"issue with LAMG and star-like graphs\", number=763),\n",
       " Issue(title=\"Add range-limited betweenness centrality\", number=750),\n",
       " Issue(title=\"User guide plots values instead of distributions\", number=744),\n",
       " Issue(title=\"Perfomance improvement to Edge Indexing and the Edge List Reader.\", number=741),\n",
       " Issue(title=\"Graph::indexEdges() is quadratic in node degrees\", number=736),\n",
       " Issue(title=\"EdgeListReader is quadratic in node degrees\", number=735),\n",
       " Issue(title=\"NETWORKIT_SANITY_CHECKS not documented, relation to NDEBUG unclear\", number=652),\n",
       " Issue(title=\"Wrong doc module for DynBetweennessOneNode\", number=581),\n",
       " Issue(title=\"Error after compiling with pyinstaller\", number=530),\n",
       " Issue(title=\"pip  cannot detect an existing C + + compiler \", number=524),\n",
       " Issue(title=\"Add Ego-Splitting algorithm\", number=482),\n",
       " Issue(title=\"Unintuitive readGraph\", number=444),\n",
       " Issue(title=\"Inconsistent link prediction metrics results between Python and C++.\", number=437),\n",
       " Issue(title=\"RFC: Graph: Support 32-bit node IDs\", number=427),\n",
       " Issue(title=\"Erdos-Renyi Generator directed=True/False behaviour change\", number=355),\n",
       " Issue(title=\"Unsafe ClusteredRandomGraphGenerator\", number=296),\n",
       " Issue(title=\"Fix missing parents and commits\", number=235),\n",
       " Issue(title=\"Multiple class inheritance in Cython\", number=181),\n",
       " Issue(title=\"Counting number of shortest paths in SSSP algos\", number=104),\n",
       " Issue(title=\"Profiling displays wrong results with deleted nodes\", number=49)]"
      ]
     },
     "execution_count": 7,
     "metadata": {},
     "output_type": "execute_result"
    },
    {
     "name": "stdout",
     "output_type": "stream",
     "text": []
    }
   ],
   "source": [
    "issues = trIAge.get_issues()\n",
    "issues"
   ]
  },
  {
   "cell_type": "code",
   "execution_count": 22,
   "metadata": {},
   "outputs": [
    {
     "data": {
      "text/plain": [
       "'Core dumped while reading graph with NetworkitBinaryReader if remove nodes before write graph'"
      ]
     },
     "execution_count": 22,
     "metadata": {},
     "output_type": "execute_result"
    },
    {
     "name": "stdout",
     "output_type": "stream",
     "text": [
      "\r"
     ]
    }
   ],
   "source": [
    "an_issue = random.choice(issues)\n",
    "an_issue.title"
   ]
  },
  {
   "cell_type": "code",
   "execution_count": 23,
   "metadata": {},
   "outputs": [
    {
     "name": "stdout",
     "output_type": "stream",
     "text": [
      "⠏ Thinking..."
     ]
    },
    {
     "data": {
      "text/markdown": [
       "Based on the information provided, it seems like the program is crashing when trying to read the binary graph file that was created with `writeGraph`. This could be due to inconsistencies between the data written and the data being read. \n",
       "\n",
       "To resolve this issue, the user could try the following steps:\n",
       "\n",
       "1. Check that the `readGraph` function is being called correctly and verify that the `Format` parameter is set to `NetworkitBinary`.\n",
       "\n",
       "2. Make sure that the data types of the nodes and edges being written are compatible with the `NetworkitBinary` format. If nodes or edges have custom data types, they may need to be converted to standard data types before writing them to a binary file.\n",
       "\n",
       "3. Ensure that the data being read is consistent with the data being written; it is possible that when nodes or edges are removed, the remaining data may become inconsistent with the binary file format.\n",
       "\n",
       "4. Verify that the version of NetworKit being used to read the binary file is compatible with the version used to write the file. If there are version incompatibilities, this could cause issues when reading the binary file.\n",
       "\n",
       "These steps should help in troubleshooting the issue. In addition, the user could consult the NetworKit documentation for more information on the `writeGraph` and `readGraph` functions."
      ],
      "text/plain": [
       "<IPython.core.display.Markdown object>"
      ]
     },
     "metadata": {},
     "output_type": "display_data"
    },
    {
     "name": "stdout",
     "output_type": "stream",
     "text": [
      "\r"
     ]
    }
   ],
   "source": [
    "trIAge.see_issue(an_issue)"
   ]
  },
  {
   "cell_type": "code",
   "execution_count": 24,
   "metadata": {},
   "outputs": [
    {
     "name": "stdout",
     "output_type": "stream",
     "text": [
      "⠧ Thinking..."
     ]
    },
    {
     "data": {
      "text/markdown": [
       "Yes, the issue is well-described. The user provides Python code that results in a segmentation fault when `nk.readGraph` is applied to a `NetworkitBinary` format graph written after removing nodes. The user also states that the nodes removed before saving appear again when saving the graph in some other format such as `nk.Format.LFR`."
      ],
      "text/plain": [
       "<IPython.core.display.Markdown object>"
      ]
     },
     "metadata": {},
     "output_type": "display_data"
    },
    {
     "name": "stdout",
     "output_type": "stream",
     "text": []
    }
   ],
   "source": [
    "trIAge.tell(\"Is the issue well described?\")"
   ]
  },
  {
   "cell_type": "code",
   "execution_count": 25,
   "metadata": {},
   "outputs": [
    {
     "name": "stdout",
     "output_type": "stream",
     "text": [
      "⠴ Thinking..."
     ]
    },
    {
     "data": {
      "text/markdown": [
       "On a scale of 0 to 10, I would rate the quality of this issue as a 9. The user has provided a clear description of the issue they are facing and has provided an example code that can reproduce the error in question. They have also provided information about how the results differ when using different input and output formats. However, to make it a 10, the user could provide additional information about the relevant versions of Networkit and Python they are using, along with any relevant error messages and stack traces."
      ],
      "text/plain": [
       "<IPython.core.display.Markdown object>"
      ]
     },
     "metadata": {},
     "output_type": "display_data"
    },
    {
     "name": "stdout",
     "output_type": "stream",
     "text": [
      "\r"
     ]
    }
   ],
   "source": [
    "trIAge.tell(\"Rate the issue quality on a scale from 0 to 10\")"
   ]
  },
  {
   "cell_type": "code",
   "execution_count": 26,
   "metadata": {},
   "outputs": [
    {
     "name": "stdout",
     "output_type": "stream",
     "text": [
      "⠧ Thinking..."
     ]
    },
    {
     "data": {
      "text/markdown": [
       "To make it a 10, the user could include additional information about the environment in which they are running this code. Specifically, they could include:\n",
       "\n",
       "1. The version of Python they are using\n",
       "2. The version of Networkit they are using\n",
       "3. Any relevant error messages or stack traces that are generated\n",
       "4. A description of the expected behavior of `nk.removeNode()` when used with a weighted graph and how that may influence the resulting binary file.\n",
       "\n",
       "Including this additional context can help in better understanding the root cause of the issue and resolving it efficiently."
      ],
      "text/plain": [
       "<IPython.core.display.Markdown object>"
      ]
     },
     "metadata": {},
     "output_type": "display_data"
    },
    {
     "name": "stdout",
     "output_type": "stream",
     "text": []
    }
   ],
   "source": [
    "trIAge.tell(\"What would make it a 10?\")"
   ]
  },
  {
   "cell_type": "code",
   "execution_count": 27,
   "metadata": {},
   "outputs": [
    {
     "name": "stdout",
     "output_type": "stream",
     "text": [
      "⠙ Thinking..."
     ]
    },
    {
     "data": {
      "text/markdown": [
       "Here's what you could suggest to the user to make the issue a 10:\n",
       "\n",
       "Hi @Jerevia, thank you for submitting this issue with clear reproduction code. In order to further diagnose the issue, could you please provide some additional information about your environment? Specifically, could you let us know the version of Python and Networkit you are using? Additionally, any stack traces or error messages you are seeing would be helpful in resolving this issue.\n",
       "\n",
       "It would also be helpful to elaborate more on the expected behavior of `nk.removeNode()` when used with a weighted graph and how that might influence the resulting binary file as well. This would help us in better understanding the root cause of the issue.\n",
       "\n",
       "Thank you for your contribution to Networkit! We appreciate your efforts in helping to improve the library."
      ],
      "text/plain": [
       "<IPython.core.display.Markdown object>"
      ]
     },
     "metadata": {},
     "output_type": "display_data"
    },
    {
     "name": "stdout",
     "output_type": "stream",
     "text": [
      "\r"
     ]
    }
   ],
   "source": [
    "trIAge.tell(\"Respond to the user with suggestions to make the issue a 10\")"
   ]
  },
  {
   "cell_type": "code",
   "execution_count": 28,
   "metadata": {},
   "outputs": [
    {
     "name": "stdout",
     "output_type": "stream",
     "text": [
      "⠼ Thinking..."
     ]
    },
    {
     "data": {
      "text/markdown": [
       "To address the segmentation fault error when using `nk.readGraph()` with a `NetworkitBinary` format graph that was written after removing nodes, the following can be attempted:\n",
       "\n",
       "One potential course of action would be to avoid removing any nodes and see if the issue still persists. Alternatively, try removing the nodes after loading the graph from disk and then see if it still crashes. Adding or removing nodes from the graph may affect the graph's structure, which could cause issues when reading it from disk. \n",
       "\n",
       "Another potential solution would be to update to the latest version of Networkit, as this issue may have already been addressed in a more recent version. In any case, it would be helpful to know which version of Networkit and Python you are using to better assess whether upgrading to the latest version may be helpful. \n",
       "\n",
       "If no clear path for a solution can be surface, consider creating a new issue report for tracking the problem."
      ],
      "text/plain": [
       "<IPython.core.display.Markdown object>"
      ]
     },
     "metadata": {},
     "output_type": "display_data"
    },
    {
     "name": "stdout",
     "output_type": "stream",
     "text": []
    }
   ],
   "source": [
    "trIAge.tell(\"Suggest how to resolve the issue\")"
   ]
  },
  {
   "cell_type": "code",
   "execution_count": 29,
   "metadata": {},
   "outputs": [
    {
     "name": "stdout",
     "output_type": "stream",
     "text": [
      "⠹ Thinking..."
     ]
    },
    {
     "data": {
      "text/markdown": [
       "As the cause of this issue is not clear, I cannot provide a code snippet that would resolve the issue at this time. However, one potential solution would be to switch to a different file format for saving and loading the graph. For example, `EdgeList`, `EdgeListCompressed`, or `Snap` formats might be more reliable in this case.\n",
       "\n",
       "Additionally, upgrading to the latest version of Networkit may resolve this issue. I would also recommend waiting for additional feedback or potential fixes from the maintainers of the NetworKit before attempting any modifications to the code."
      ],
      "text/plain": [
       "<IPython.core.display.Markdown object>"
      ]
     },
     "metadata": {},
     "output_type": "display_data"
    },
    {
     "name": "stdout",
     "output_type": "stream",
     "text": [
      "\r"
     ]
    }
   ],
   "source": [
    "trIAge.tell(\"Suggest code to resolve the issue\")"
   ]
  },
  {
   "cell_type": "code",
   "execution_count": null,
   "metadata": {},
   "outputs": [],
   "source": []
  }
 ],
 "metadata": {
  "kernelspec": {
   "display_name": "trIAge",
   "language": "python",
   "name": "python3"
  },
  "language_info": {
   "codemirror_mode": {
    "name": "ipython",
    "version": 3
   },
   "file_extension": ".py",
   "mimetype": "text/x-python",
   "name": "python",
   "nbconvert_exporter": "python",
   "pygments_lexer": "ipython3",
   "version": "3.10.9"
  },
  "orig_nbformat": 4
 },
 "nbformat": 4,
 "nbformat_minor": 2
}

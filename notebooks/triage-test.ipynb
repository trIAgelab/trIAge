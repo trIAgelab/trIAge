{
 "cells": [
  {
   "cell_type": "code",
   "execution_count": 1,
   "metadata": {},
   "outputs": [],
   "source": [
    "import triage\n",
    "\n",
    "import random"
   ]
  },
  {
   "cell_type": "code",
   "execution_count": 2,
   "metadata": {},
   "outputs": [],
   "source": [
    "from triage.bot import TrIAge, get_secret"
   ]
  },
  {
   "cell_type": "code",
   "execution_count": 3,
   "metadata": {},
   "outputs": [
    {
     "name": "stdout",
     "output_type": "stream",
     "text": [
      "⠴ Configuring..."
     ]
    }
   ],
   "source": [
    "trIAge = TrIAge(\n",
    "    model_provider=\"openai\",\n",
    "    model_api_key=get_secret(\"openai_token\"),\n",
    "    hub_api_key=get_secret(\"github_token\"),\n",
    ")"
   ]
  },
  {
   "cell_type": "code",
   "execution_count": 4,
   "metadata": {},
   "outputs": [
    {
     "name": "stdout",
     "output_type": "stream",
     "text": [
      "⠦ Thinking..."
     ]
    },
    {
     "data": {
      "text/markdown": [
       "Hello! I am trIAge, a bot designed to assist users and maintainers of open source projects. I can assess and rate the quality of issues, give suggestions on how to improve them, provide relevant documentation and resources, and suggest solutions to issues. How can I assist you today?"
      ],
      "text/plain": [
       "<IPython.core.display.Markdown object>"
      ]
     },
     "metadata": {},
     "output_type": "display_data"
    },
    {
     "name": "stdout",
     "output_type": "stream",
     "text": [
      "\r"
     ]
    }
   ],
   "source": [
    "trIAge.tell(\"Who are you and what can you do?\")"
   ]
  },
  {
   "cell_type": "code",
   "execution_count": 5,
   "metadata": {},
   "outputs": [
    {
     "name": "stdout",
     "output_type": "stream",
     "text": [
      "('trIAgelab', 'trIAge')\n",
      "⠴ Thinking..."
     ]
    },
    {
     "data": {
      "text/markdown": [
       "Thank you for the information. Is there anything specific you would like me to do in regards to the trIAge repository?"
      ],
      "text/plain": [
       "<IPython.core.display.Markdown object>"
      ]
     },
     "metadata": {},
     "output_type": "display_data"
    },
    {
     "name": "stdout",
     "output_type": "stream",
     "text": [
      "⠹ Thinking..."
     ]
    },
    {
     "data": {
      "text/markdown": [
       "This repository trIAge is an AI assistant for open-source communities. It's designed to assist users and maintainers of open-source projects with issue triage. However, it is still in the very early stages of development. The repository is licensed under the GNU General Public License v3.0. Is there anything else I can help you with regarding this repository?"
      ],
      "text/plain": [
       "<IPython.core.display.Markdown object>"
      ]
     },
     "metadata": {},
     "output_type": "display_data"
    },
    {
     "name": "stdout",
     "output_type": "stream",
     "text": [
      "\r"
     ]
    }
   ],
   "source": [
    "trIAge.see_repo(\"https://github.com/trIAgelab/trIAge\")"
   ]
  },
  {
   "cell_type": "code",
   "execution_count": 6,
   "metadata": {},
   "outputs": [
    {
     "name": "stdout",
     "output_type": "stream",
     "text": [
      "⠦ Thinking..."
     ]
    },
    {
     "data": {
      "text/markdown": [
       "The repository is called trIAge and it is an AI assistant for open-source communities. According to the repository description, it is currently in the very early stages of development. The repository has 4 stars and is licensed under the GNU General Public License v3.0. Is there anything else you would like to know?"
      ],
      "text/plain": [
       "<IPython.core.display.Markdown object>"
      ]
     },
     "metadata": {},
     "output_type": "display_data"
    },
    {
     "name": "stdout",
     "output_type": "stream",
     "text": []
    }
   ],
   "source": [
    "trIAge.tell(\"What do you know about this repo?\")"
   ]
  },
  {
   "cell_type": "code",
   "execution_count": 7,
   "metadata": {},
   "outputs": [
    {
     "data": {
      "text/plain": [
       "[Issue(title=\"Test Issue\", number=2),\n",
       " Issue(title=\"Connect to https://goodfirstissue.dev\", number=1)]"
      ]
     },
     "execution_count": 7,
     "metadata": {},
     "output_type": "execute_result"
    },
    {
     "name": "stdout",
     "output_type": "stream",
     "text": [
      "\r"
     ]
    }
   ],
   "source": [
    "issues = trIAge.get_issues()\n",
    "issues"
   ]
  },
  {
   "cell_type": "code",
   "execution_count": 8,
   "metadata": {},
   "outputs": [
    {
     "data": {
      "text/plain": [
       "'Test Issue'"
      ]
     },
     "execution_count": 8,
     "metadata": {},
     "output_type": "execute_result"
    },
    {
     "name": "stdout",
     "output_type": "stream",
     "text": [
      "\r"
     ]
    }
   ],
   "source": [
    "an_issue = random.choice(issues)\n",
    "an_issue.title"
   ]
  },
  {
   "cell_type": "code",
   "execution_count": 9,
   "metadata": {},
   "outputs": [
    {
     "name": "stdout",
     "output_type": "stream",
     "text": [
      "⠋ Thinking..."
     ]
    },
    {
     "data": {
      "text/markdown": [
       "This is the information I have on the issue you're looking at:\n",
       "- The issue is titled \"Test Issue\".\n",
       "- The issue has not been assigned any labels yet.\n",
       "- The user \"clstaudt\" filed this issue.\n",
       "- The issue description is \"This is for testing bot interactions.\"\n",
       "\n",
       "Let me know if you need any further information."
      ],
      "text/plain": [
       "<IPython.core.display.Markdown object>"
      ]
     },
     "metadata": {},
     "output_type": "display_data"
    },
    {
     "name": "stdout",
     "output_type": "stream",
     "text": [
      "\r"
     ]
    }
   ],
   "source": [
    "trIAge.see_issue(an_issue)"
   ]
  },
  {
   "cell_type": "code",
   "execution_count": 10,
   "metadata": {},
   "outputs": [
    {
     "name": "stdout",
     "output_type": "stream",
     "text": [
      "⠸ Thinking..."
     ]
    },
    {
     "data": {
      "text/markdown": [
       "Based on the limited information you provided, it's difficult to assess the quality of the issue description. In general, a well-described issue should provide a clear and concise explanation of the problem, any specific steps to reproduce the issue, and any relevant information or context that may be necessary to understand the issue. Would you like me to suggest some tips for writing a good issue description?"
      ],
      "text/plain": [
       "<IPython.core.display.Markdown object>"
      ]
     },
     "metadata": {},
     "output_type": "display_data"
    },
    {
     "name": "stdout",
     "output_type": "stream",
     "text": []
    }
   ],
   "source": [
    "trIAge.tell(\"Is the issue well described?\")"
   ]
  },
  {
   "cell_type": "code",
   "execution_count": 11,
   "metadata": {},
   "outputs": [
    {
     "name": "stdout",
     "output_type": "stream",
     "text": [
      "⠏ Thinking..."
     ]
    },
    {
     "data": {
      "text/markdown": [
       "Based on the limited information provided, it's difficult to give an accurate rating of the quality of the issue. However, based on the brief and vague description, I would rate the issue quality at around 2 out of 10. If you could provide more information or context regarding the issue, I would be able to give you a more accurate rating."
      ],
      "text/plain": [
       "<IPython.core.display.Markdown object>"
      ]
     },
     "metadata": {},
     "output_type": "display_data"
    },
    {
     "name": "stdout",
     "output_type": "stream",
     "text": [
      "\r"
     ]
    }
   ],
   "source": [
    "trIAge.tell(\"Rate the issue quality on a scale from 0 to 10\")"
   ]
  },
  {
   "cell_type": "code",
   "execution_count": 12,
   "metadata": {},
   "outputs": [
    {
     "name": "stdout",
     "output_type": "stream",
     "text": [
      "⠸ Thinking..."
     ]
    },
    {
     "data": {
      "text/markdown": [
       "For an issue to be rated a 10 out of 10, it should have a clear and concise description of the problem, steps to reproduce the issue, information on any relevant contexts, log files or error messages, and a proposed solution or workaround if available. Additionally, providing screenshots or examples can also be helpful in giving a better understanding of the issue."
      ],
      "text/plain": [
       "<IPython.core.display.Markdown object>"
      ]
     },
     "metadata": {},
     "output_type": "display_data"
    },
    {
     "name": "stdout",
     "output_type": "stream",
     "text": []
    }
   ],
   "source": [
    "trIAge.tell(\"What would make it a 10?\")"
   ]
  },
  {
   "cell_type": "code",
   "execution_count": 13,
   "metadata": {},
   "outputs": [
    {
     "name": "stdout",
     "output_type": "stream",
     "text": [
      "⠸ Thinking..."
     ]
    },
    {
     "data": {
      "text/markdown": [
       "Sure, below are some suggestions that could make the issue a 10:\n",
       "\n",
       "- Provide a clear and concise description of the problem.\n",
       "- Include specific steps to reproduce the issue.\n",
       "- Provide any relevant context or background information that may be helpful in understanding the issue.\n",
       "- Include any error messages or log files that are relevant to the issue.\n",
       "- If possible, suggest a possible solution or workaround to help speed up the resolution process.\n",
       "- If possible, provide a screenshot or example to help visualize the issue.\n",
       "\n",
       "By including as much information as possible and following these guidelines, it will be easier for maintainers to understand and reproduce the issue and come up with a solution more quickly."
      ],
      "text/plain": [
       "<IPython.core.display.Markdown object>"
      ]
     },
     "metadata": {},
     "output_type": "display_data"
    },
    {
     "name": "stdout",
     "output_type": "stream",
     "text": [
      "\r"
     ]
    }
   ],
   "source": [
    "trIAge.tell(\"Respond to the user with suggestions to make the issue a 10\")"
   ]
  },
  {
   "cell_type": "code",
   "execution_count": 14,
   "metadata": {},
   "outputs": [
    {
     "name": "stdout",
     "output_type": "stream",
     "text": [
      "⠦ Thinking..."
     ]
    },
    {
     "data": {
      "text/markdown": [
       "I'm sorry, but based on the limited information provided in the issue description, I'm not able to suggest a specific resolution for the issue. In order to suggest a solution, I would need more context and information on the issue. \n",
       "\n",
       "That being said, I suggest you follow up with the user and ask them for additional details such as what exactly they are trying to test in this issue, and what specifically they need help with. Once more information is provided, we can work towards finding a solution or workaround together."
      ],
      "text/plain": [
       "<IPython.core.display.Markdown object>"
      ]
     },
     "metadata": {},
     "output_type": "display_data"
    },
    {
     "name": "stdout",
     "output_type": "stream",
     "text": []
    }
   ],
   "source": [
    "trIAge.tell(\"Suggest how to resolve the issue\")"
   ]
  },
  {
   "cell_type": "code",
   "execution_count": 15,
   "metadata": {},
   "outputs": [
    {
     "name": "stdout",
     "output_type": "stream",
     "text": [
      "⠼ Thinking..."
     ]
    },
    {
     "data": {
      "text/markdown": [
       "I'm sorry, but I cannot suggest code to resolve the issue without more information about the issue itself. Could you please provide more information on the issue and what it seems to be related to? This would help me provide more specific suggestions or solutions."
      ],
      "text/plain": [
       "<IPython.core.display.Markdown object>"
      ]
     },
     "metadata": {},
     "output_type": "display_data"
    },
    {
     "name": "stdout",
     "output_type": "stream",
     "text": [
      "\r"
     ]
    }
   ],
   "source": [
    "trIAge.tell(\"Suggest code to resolve the issue\")"
   ]
  },
  {
   "cell_type": "code",
   "execution_count": 16,
   "metadata": {},
   "outputs": [
    {
     "name": "stdout",
     "output_type": "stream",
     "text": []
    }
   ],
   "source": [
    "trIAge.discuss_issue(an_issue)"
   ]
  },
  {
   "cell_type": "code",
   "execution_count": 17,
   "metadata": {},
   "outputs": [
    {
     "ename": "GithubException",
     "evalue": "403 {\"message\": \"Resource not accessible by personal access token\", \"documentation_url\": \"https://docs.github.com/rest/reference/issues#create-an-issue-comment\"}",
     "output_type": "error",
     "traceback": [
      "\u001b[0;31m---------------------------------------------------------------------------\u001b[0m",
      "\u001b[0;31mGithubException\u001b[0m                           Traceback (most recent call last)",
      "Cell \u001b[0;32mIn[17], line 1\u001b[0m\n\u001b[0;32m----> 1\u001b[0m trIAge\u001b[39m.\u001b[39;49mpost(\u001b[39m\"\u001b[39;49m\u001b[39mThis is a test post\u001b[39;49m\u001b[39m\"\u001b[39;49m)\n",
      "File \u001b[0;32m~/Documents/Work/Projects/PrototypeFund/Dev/trIAge/triage/bot.py:170\u001b[0m, in \u001b[0;36mTrIAge.post\u001b[0;34m(self, message)\u001b[0m\n\u001b[1;32m    164\u001b[0m \u001b[39mdef\u001b[39;00m \u001b[39mpost\u001b[39m(\u001b[39mself\u001b[39m, message):\n\u001b[1;32m    165\u001b[0m \u001b[39m    \u001b[39m\u001b[39m\"\"\"Post a message to the sink.\u001b[39;00m\n\u001b[1;32m    166\u001b[0m \n\u001b[1;32m    167\u001b[0m \u001b[39m    Args:\u001b[39;00m\n\u001b[1;32m    168\u001b[0m \u001b[39m        message (str): The message to post.\u001b[39;00m\n\u001b[1;32m    169\u001b[0m \u001b[39m    \"\"\"\u001b[39;00m\n\u001b[0;32m--> 170\u001b[0m     \u001b[39mself\u001b[39;49m\u001b[39m.\u001b[39;49mchannel\u001b[39m.\u001b[39;49mpost(message)\n",
      "File \u001b[0;32m~/Documents/Work/Projects/PrototypeFund/Dev/trIAge/triage/bot.py:86\u001b[0m, in \u001b[0;36mToGithubIssue.post\u001b[0;34m(self, message)\u001b[0m\n\u001b[1;32m     80\u001b[0m \u001b[39mdef\u001b[39;00m \u001b[39mpost\u001b[39m(\u001b[39mself\u001b[39m, message):\n\u001b[1;32m     81\u001b[0m \u001b[39m    \u001b[39m\u001b[39m\"\"\"Post a message to the GitHub repository.\u001b[39;00m\n\u001b[1;32m     82\u001b[0m \n\u001b[1;32m     83\u001b[0m \u001b[39m    Args:\u001b[39;00m\n\u001b[1;32m     84\u001b[0m \u001b[39m        message (str): The message to post.\u001b[39;00m\n\u001b[1;32m     85\u001b[0m \u001b[39m    \"\"\"\u001b[39;00m\n\u001b[0;32m---> 86\u001b[0m     \u001b[39mself\u001b[39;49m\u001b[39m.\u001b[39;49missue\u001b[39m.\u001b[39;49mcreate_comment(message)\n",
      "File \u001b[0;32m~/miniforge3/envs/trIAge/lib/python3.10/site-packages/github/Issue.py:335\u001b[0m, in \u001b[0;36mIssue.create_comment\u001b[0;34m(self, body)\u001b[0m\n\u001b[1;32m    331\u001b[0m \u001b[39massert\u001b[39;00m \u001b[39misinstance\u001b[39m(body, \u001b[39mstr\u001b[39m), body\n\u001b[1;32m    332\u001b[0m post_parameters \u001b[39m=\u001b[39m {\n\u001b[1;32m    333\u001b[0m     \u001b[39m\"\u001b[39m\u001b[39mbody\u001b[39m\u001b[39m\"\u001b[39m: body,\n\u001b[1;32m    334\u001b[0m }\n\u001b[0;32m--> 335\u001b[0m headers, data \u001b[39m=\u001b[39m \u001b[39mself\u001b[39;49m\u001b[39m.\u001b[39;49m_requester\u001b[39m.\u001b[39;49mrequestJsonAndCheck(\n\u001b[1;32m    336\u001b[0m     \u001b[39m\"\u001b[39;49m\u001b[39mPOST\u001b[39;49m\u001b[39m\"\u001b[39;49m, \u001b[39mf\u001b[39;49m\u001b[39m\"\u001b[39;49m\u001b[39m{\u001b[39;49;00m\u001b[39mself\u001b[39;49m\u001b[39m.\u001b[39;49murl\u001b[39m}\u001b[39;49;00m\u001b[39m/comments\u001b[39;49m\u001b[39m\"\u001b[39;49m, \u001b[39minput\u001b[39;49m\u001b[39m=\u001b[39;49mpost_parameters\n\u001b[1;32m    337\u001b[0m )\n\u001b[1;32m    338\u001b[0m \u001b[39mreturn\u001b[39;00m github\u001b[39m.\u001b[39mIssueComment\u001b[39m.\u001b[39mIssueComment(\n\u001b[1;32m    339\u001b[0m     \u001b[39mself\u001b[39m\u001b[39m.\u001b[39m_requester, headers, data, completed\u001b[39m=\u001b[39m\u001b[39mTrue\u001b[39;00m\n\u001b[1;32m    340\u001b[0m )\n",
      "File \u001b[0;32m~/miniforge3/envs/trIAge/lib/python3.10/site-packages/github/Requester.py:400\u001b[0m, in \u001b[0;36mRequester.requestJsonAndCheck\u001b[0;34m(self, verb, url, parameters, headers, input)\u001b[0m\n\u001b[1;32m    399\u001b[0m \u001b[39mdef\u001b[39;00m \u001b[39mrequestJsonAndCheck\u001b[39m(\u001b[39mself\u001b[39m, verb, url, parameters\u001b[39m=\u001b[39m\u001b[39mNone\u001b[39;00m, headers\u001b[39m=\u001b[39m\u001b[39mNone\u001b[39;00m, \u001b[39minput\u001b[39m\u001b[39m=\u001b[39m\u001b[39mNone\u001b[39;00m):\n\u001b[0;32m--> 400\u001b[0m     \u001b[39mreturn\u001b[39;00m \u001b[39mself\u001b[39;49m\u001b[39m.\u001b[39;49m__check(\n\u001b[1;32m    401\u001b[0m         \u001b[39m*\u001b[39;49m\u001b[39mself\u001b[39;49m\u001b[39m.\u001b[39;49mrequestJson(\n\u001b[1;32m    402\u001b[0m             verb, url, parameters, headers, \u001b[39minput\u001b[39;49m, \u001b[39mself\u001b[39;49m\u001b[39m.\u001b[39;49m__customConnection(url)\n\u001b[1;32m    403\u001b[0m         )\n\u001b[1;32m    404\u001b[0m     )\n",
      "File \u001b[0;32m~/miniforge3/envs/trIAge/lib/python3.10/site-packages/github/Requester.py:425\u001b[0m, in \u001b[0;36mRequester.__check\u001b[0;34m(self, status, responseHeaders, output)\u001b[0m\n\u001b[1;32m    423\u001b[0m output \u001b[39m=\u001b[39m \u001b[39mself\u001b[39m\u001b[39m.\u001b[39m__structuredFromJson(output)\n\u001b[1;32m    424\u001b[0m \u001b[39mif\u001b[39;00m status \u001b[39m>\u001b[39m\u001b[39m=\u001b[39m \u001b[39m400\u001b[39m:\n\u001b[0;32m--> 425\u001b[0m     \u001b[39mraise\u001b[39;00m \u001b[39mself\u001b[39m\u001b[39m.\u001b[39m__createException(status, responseHeaders, output)\n\u001b[1;32m    426\u001b[0m \u001b[39mreturn\u001b[39;00m responseHeaders, output\n",
      "\u001b[0;31mGithubException\u001b[0m: 403 {\"message\": \"Resource not accessible by personal access token\", \"documentation_url\": \"https://docs.github.com/rest/reference/issues#create-an-issue-comment\"}"
     ]
    },
    {
     "name": "stdout",
     "output_type": "stream",
     "text": []
    }
   ],
   "source": [
    "trIAge.post(\"This is a test post\")"
   ]
  },
  {
   "cell_type": "code",
   "execution_count": null,
   "metadata": {},
   "outputs": [],
   "source": []
  }
 ],
 "metadata": {
  "kernelspec": {
   "display_name": "trIAge",
   "language": "python",
   "name": "python3"
  },
  "language_info": {
   "codemirror_mode": {
    "name": "ipython",
    "version": 3
   },
   "file_extension": ".py",
   "mimetype": "text/x-python",
   "name": "python",
   "nbconvert_exporter": "python",
   "pygments_lexer": "ipython3",
   "version": "3.10.9"
  },
  "orig_nbformat": 4
 },
 "nbformat": 4,
 "nbformat_minor": 2
}

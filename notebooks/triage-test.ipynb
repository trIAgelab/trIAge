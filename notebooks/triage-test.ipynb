{
 "cells": [
  {
   "cell_type": "code",
   "execution_count": 1,
   "metadata": {},
   "outputs": [],
   "source": [
    "import triage\n",
    "\n",
    "import random"
   ]
  },
  {
   "cell_type": "code",
   "execution_count": 2,
   "metadata": {},
   "outputs": [],
   "source": [
    "from triage.bot import TrIAge, get_secret"
   ]
  },
  {
   "cell_type": "code",
   "execution_count": 3,
   "metadata": {},
   "outputs": [
    {
     "name": "stdout",
     "output_type": "stream",
     "text": [
      "⠙ Configuring..."
     ]
    }
   ],
   "source": [
    "trIAge = TrIAge(\n",
    "    model_provider=\"openai\",\n",
    "    model_api_key=get_secret(\"openai_token\"),\n",
    "    hub_api_key=get_secret(\"github_token\"),\n",
    ")"
   ]
  },
  {
   "cell_type": "code",
   "execution_count": 4,
   "metadata": {},
   "outputs": [
    {
     "name": "stdout",
     "output_type": "stream",
     "text": [
      "⠦ Thinking..."
     ]
    },
    {
     "data": {
      "text/markdown": [
       "Hello! I am trIAge, a bot that assists users and maintainers of open source projects. I can help assess the quality of issues and suggest improvements, point users to relevant documentation and resources, and suggest potential solutions to issues. Is there anything specific you need help with today?"
      ],
      "text/plain": [
       "<IPython.core.display.Markdown object>"
      ]
     },
     "metadata": {},
     "output_type": "display_data"
    },
    {
     "name": "stdout",
     "output_type": "stream",
     "text": [
      "\r"
     ]
    }
   ],
   "source": [
    "trIAge.tell(\"Who are you and what can you do?\")"
   ]
  },
  {
   "cell_type": "code",
   "execution_count": 5,
   "metadata": {},
   "outputs": [
    {
     "name": "stdout",
     "output_type": "stream",
     "text": [
      "('networkit', 'networkit')\n",
      "⠧ Thinking..."
     ]
    },
    {
     "data": {
      "text/markdown": [
       "Thank you for providing that information. How can I help you with the `networkit` repository?"
      ],
      "text/plain": [
       "<IPython.core.display.Markdown object>"
      ]
     },
     "metadata": {},
     "output_type": "display_data"
    },
    {
     "name": "stdout",
     "output_type": "stream",
     "text": [
      "⠴ Thinking..."
     ]
    },
    {
     "data": {
      "text/markdown": [
       "This is the README of the repository `networkit`:\n",
       " \n",
       "NetworKit is a growing open-source toolkit for Large-Scale Network Analysis. You can access the repository here: https://github.com/networkit/networkit. \n",
       "\n",
       "The repository is licensed under the MIT License and currently has 644 stars. \n",
       "\n",
       "The README provides general information about the project, including how to install and use it, and gives an overview of NetworKit's features, functionality, and community. Additionally, the README may include badges indicating the project's build status, package version, test coverage, etc."
      ],
      "text/plain": [
       "<IPython.core.display.Markdown object>"
      ]
     },
     "metadata": {},
     "output_type": "display_data"
    },
    {
     "name": "stdout",
     "output_type": "stream",
     "text": [
      "\r"
     ]
    }
   ],
   "source": [
    "trIAge.see_repo(\"https://github.com/networkit/networkit\")"
   ]
  },
  {
   "cell_type": "code",
   "execution_count": 6,
   "metadata": {},
   "outputs": [
    {
     "name": "stdout",
     "output_type": "stream",
     "text": [
      "⠧ Thinking..."
     ]
    },
    {
     "data": {
      "text/markdown": [
       "This repository is called networkit and contains NetworKit, which is described as a \"growing open-source toolkit for large-scale network analysis\". The repo has 644 stars and is licensed under the MIT License. The README contains basic information about the repository including badges for build, PyPI and coverage. The project seems to be actively developed, with the latest changes being a few days ago. Is there anything else I can help you with?"
      ],
      "text/plain": [
       "<IPython.core.display.Markdown object>"
      ]
     },
     "metadata": {},
     "output_type": "display_data"
    },
    {
     "name": "stdout",
     "output_type": "stream",
     "text": []
    }
   ],
   "source": [
    "trIAge.tell(\"What do you know about this repo?\")"
   ]
  },
  {
   "cell_type": "code",
   "execution_count": 7,
   "metadata": {},
   "outputs": [
    {
     "data": {
      "text/plain": [
       "[Issue(title=\"Fix DynBfs\", number=1047),\n",
       " Issue(title=\"New algorithm: (partially) dynamic pruned landmark labeling\", number=1041),\n",
       " Issue(title=\"Add reader for .gxl format\", number=1038),\n",
       " Issue(title=\"nk.Partition.numberOfSubsets() returns 1 for constructed, uncompacted nk.Partitions\", number=1033),\n",
       " Issue(title=\"Can't visualize subgraph.\", number=1030),\n",
       " Issue(title=\"Memory safety in public API\", number=1029),\n",
       " Issue(title=\"The calculated metric for the quality of the overlapping community segmentation results is incorrect\", number=1024),\n",
       " Issue(title=\"Accessing degreeIn of a node in an empty graph segfaults.\", number=1007),\n",
       " Issue(title=\"Networkit version 7.1 is not installing \", number=1005),\n",
       " Issue(title=\"Reading from NetworkitBinary file segfaults for graphs written with uncontinuous node-indices\", number=996),\n",
       " Issue(title=\"SPSP crashes if unreachable node in target list\", number=994),\n",
       " Issue(title=\"commute time run() and runParrellelApproximation()\", number=980),\n",
       " Issue(title=\"clang-tidy: enforce identifier naming and enable rule for classes.\", number=977),\n",
       " Issue(title=\"Add option to add edges from a scipy.sparse.coo_matrix and numpy cython support\", number=964),\n",
       " Issue(title=\"Core dumped while reading graph with NetworkitBinaryReader if remove nodes before write graph\", number=963),\n",
       " Issue(title=\"Conversion: networkX to networKit (weight attribute reference not working for 'MulitGraphs')\", number=952),\n",
       " Issue(title=\"community detection: PLM.get_partition behaves inconsistently \", number=949),\n",
       " Issue(title=\"Use of cython interface in third-party source\", number=946),\n",
       " Issue(title=\"Suppress `ReducedFunctionalityWarning`\", number=938),\n",
       " Issue(title=\"Inconsistent weights after GraphTools::toUndirected\", number=931),\n",
       " Issue(title=\"Multi-edge indexes not saved correctly in binary format\", number=914),\n",
       " Issue(title=\"How to read a billion-scale edge list\", number=913),\n",
       " Issue(title=\"Segfault writing empty graph in NetworkitBinary format\", number=909),\n",
       " Issue(title=\"Enable building C++ code with GPU (CUDA) support\", number=908),\n",
       " Issue(title=\"Implementation of the PGD {3,4}-graphlets counting algorithm\", number=860),\n",
       " Issue(title=\"Performance compare with `NetworkX`\", number=845),\n",
       " Issue(title=\"Inconsistency between edge ID ordering and iterEdges()\", number=830),\n",
       " Issue(title=\"OpenMP schedule dynamic for parallelForEdges\", number=819),\n",
       " Issue(title=\"Add difub for computing the diameter of directed strongly connected networks\", number=791),\n",
       " Issue(title=\"Feature/plm with custom initialization\", number=784),\n",
       " Issue(title=\"nan output for ctd.runSinglePair()\", number=776),\n",
       " Issue(title=\"Optimize memory usage for LAMG and ConjugateGradient\", number=764),\n",
       " Issue(title=\"issue with LAMG and star-like graphs\", number=763),\n",
       " Issue(title=\"Add range-limited betweenness centrality\", number=750),\n",
       " Issue(title=\"User guide plots values instead of distributions\", number=744),\n",
       " Issue(title=\"Perfomance improvement to Edge Indexing and the Edge List Reader.\", number=741),\n",
       " Issue(title=\"Graph::indexEdges() is quadratic in node degrees\", number=736),\n",
       " Issue(title=\"EdgeListReader is quadratic in node degrees\", number=735),\n",
       " Issue(title=\"NETWORKIT_SANITY_CHECKS not documented, relation to NDEBUG unclear\", number=652),\n",
       " Issue(title=\"Wrong doc module for DynBetweennessOneNode\", number=581),\n",
       " Issue(title=\"Error after compiling with pyinstaller\", number=530),\n",
       " Issue(title=\"pip  cannot detect an existing C + + compiler \", number=524),\n",
       " Issue(title=\"Add Ego-Splitting algorithm\", number=482),\n",
       " Issue(title=\"Unintuitive readGraph\", number=444),\n",
       " Issue(title=\"Inconsistent link prediction metrics results between Python and C++.\", number=437),\n",
       " Issue(title=\"RFC: Graph: Support 32-bit node IDs\", number=427),\n",
       " Issue(title=\"Erdos-Renyi Generator directed=True/False behaviour change\", number=355),\n",
       " Issue(title=\"Unsafe ClusteredRandomGraphGenerator\", number=296),\n",
       " Issue(title=\"Fix missing parents and commits\", number=235),\n",
       " Issue(title=\"Multiple class inheritance in Cython\", number=181),\n",
       " Issue(title=\"Counting number of shortest paths in SSSP algos\", number=104),\n",
       " Issue(title=\"Profiling displays wrong results with deleted nodes\", number=49)]"
      ]
     },
     "execution_count": 7,
     "metadata": {},
     "output_type": "execute_result"
    },
    {
     "name": "stdout",
     "output_type": "stream",
     "text": [
      "\r"
     ]
    }
   ],
   "source": [
    "issues = trIAge.get_issues()\n",
    "issues"
   ]
  },
  {
   "cell_type": "code",
   "execution_count": 8,
   "metadata": {},
   "outputs": [
    {
     "data": {
      "text/plain": [
       "'Implementation of the PGD {3,4}-graphlets counting algorithm'"
      ]
     },
     "execution_count": 8,
     "metadata": {},
     "output_type": "execute_result"
    },
    {
     "name": "stdout",
     "output_type": "stream",
     "text": [
      "\r"
     ]
    }
   ],
   "source": [
    "an_issue = random.choice(issues)\n",
    "an_issue.title"
   ]
  },
  {
   "cell_type": "code",
   "execution_count": 9,
   "metadata": {},
   "outputs": [
    {
     "name": "stdout",
     "output_type": "stream",
     "text": [
      "⠧ Thinking..."
     ]
    },
    {
     "data": {
      "text/markdown": [
       "It looks like RobinPetit has submitted an issue called \"Implementation of the PGD {3,4}-graphlets counting algorithm\" on the GitHub repository for NetworKit. This issue has been labeled as a \"new feature\" and as \"stagnant\". \n",
       "\n",
       "In the issue description, RobinPetit has proposed an implementation of the PGD algorithm for graphlet counting. However, there are some points that they are unclear about in the implementation. \n",
       "\n",
       "The three questions that RobinPetit has asked are as follows:\n",
       "1. Regarding the use of `#pragma omp <...>` in a lambda function given to `Graph::parallelForEdges`\n",
       "2. Regarding returning a `const std::vector<count>&` from `GraphletsCounter::getGraphletsCounts`\n",
       "3. Regarding appending the 3-graphlets at the start of the vector\n",
       "\n",
       "Once point 2 is resolved, RobinPetit plans to write a notebook."
      ],
      "text/plain": [
       "<IPython.core.display.Markdown object>"
      ]
     },
     "metadata": {},
     "output_type": "display_data"
    },
    {
     "name": "stdout",
     "output_type": "stream",
     "text": [
      "\r"
     ]
    }
   ],
   "source": [
    "trIAge.see_issue(an_issue)"
   ]
  },
  {
   "cell_type": "code",
   "execution_count": 10,
   "metadata": {},
   "outputs": [
    {
     "name": "stdout",
     "output_type": "stream",
     "text": [
      "⠏ Thinking..."
     ]
    },
    {
     "data": {
      "text/markdown": [
       "Yes, the issue seems to be well described. The user who filed the issue, RobinPetit, provides clear information about what they have done and what they are unsure about. They also ask specific questions related to their implementation, which should help others understand what they have done and provide feedback. Overall, it seems to be a good issue description."
      ],
      "text/plain": [
       "<IPython.core.display.Markdown object>"
      ]
     },
     "metadata": {},
     "output_type": "display_data"
    },
    {
     "name": "stdout",
     "output_type": "stream",
     "text": []
    }
   ],
   "source": [
    "trIAge.tell(\"Is the issue well described?\")"
   ]
  },
  {
   "cell_type": "code",
   "execution_count": 11,
   "metadata": {},
   "outputs": [
    {
     "name": "stdout",
     "output_type": "stream",
     "text": [
      "⠏ Thinking..."
     ]
    },
    {
     "data": {
      "text/markdown": [
       "Based on the information provided and the clarity of the questions asked, I would rate this issue a 9 out of 10 for quality. The user has provided detailed information about their implementation of the PGD algorithm for graphlet counting, and asked specific questions that can help others understand what they have done and provide feedback. The only room for improvement is that the user could have included more information about their set up, such as the version of the software that the implementation is built against, and how they plan to test their implementation."
      ],
      "text/plain": [
       "<IPython.core.display.Markdown object>"
      ]
     },
     "metadata": {},
     "output_type": "display_data"
    },
    {
     "name": "stdout",
     "output_type": "stream",
     "text": [
      "\r"
     ]
    }
   ],
   "source": [
    "trIAge.tell(\"Rate the issue quality on a scale from 0 to 10\")"
   ]
  },
  {
   "cell_type": "code",
   "execution_count": 12,
   "metadata": {},
   "outputs": [
    {
     "name": "stdout",
     "output_type": "stream",
     "text": [
      "⠋ Thinking..."
     ]
    },
    {
     "data": {
      "text/markdown": [
       "To make it a 10, the user could have included additional information about their set up, such as the specific version of the software that the implementation is built against, and how they plan to test their implementation. Additionally, they could have included some background information or context about the problem they are trying to solve with their implementation, which would provide more insight for others who might be interested in the issue. However, 9 out of 10 is still a very good score for the quality of the issue."
      ],
      "text/plain": [
       "<IPython.core.display.Markdown object>"
      ]
     },
     "metadata": {},
     "output_type": "display_data"
    },
    {
     "name": "stdout",
     "output_type": "stream",
     "text": []
    }
   ],
   "source": [
    "trIAge.tell(\"What would make it a 10?\")"
   ]
  },
  {
   "cell_type": "code",
   "execution_count": 13,
   "metadata": {},
   "outputs": [
    {
     "name": "stdout",
     "output_type": "stream",
     "text": [
      "⠦ Thinking..."
     ]
    },
    {
     "data": {
      "text/markdown": [
       "Here is a suggested response to the user:\n",
       "\n",
       "Hi RobinPetit,\n",
       "\n",
       "Thank you for filing the issue and providing such detailed information about your implementation of the PGD algorithm for graphlet counting. Based on what you've written, I think this is a high-quality issue. I do have a couple of suggestions that could potentially make the issue even better:\n",
       "\n",
       "- Can you please include the specific version of the software that your implementation is built against? This would help others who might look at the issue in the future.\n",
       "- Providing some background information or context about the problem you are trying to solve with your implementation could also be helpful for others who might be interested in the issue.\n",
       "- Additionally, it would be beneficial to include information about how you plan to test your implementation.\n",
       "\n",
       "That being said, I think you've done an excellent job describing your implementation and asking specific questions related to it. Thank you for contributing to this open source project. Let me know if you have any further questions or if there is anything else I can do to help.\n",
       "\n",
       "Best regards,\n",
       "trIAge"
      ],
      "text/plain": [
       "<IPython.core.display.Markdown object>"
      ]
     },
     "metadata": {},
     "output_type": "display_data"
    },
    {
     "name": "stdout",
     "output_type": "stream",
     "text": [
      "\r"
     ]
    }
   ],
   "source": [
    "trIAge.tell(\"Respond to the user with suggestions to make the issue a 10\")"
   ]
  },
  {
   "cell_type": "code",
   "execution_count": 14,
   "metadata": {},
   "outputs": [
    {
     "name": "stdout",
     "output_type": "stream",
     "text": [
      "⠴ Thinking..."
     ]
    },
    {
     "data": {
      "text/markdown": [
       "Based on the information provided by RobinPetit, there seem to be a few things that they are unclear about in their implementation of the PGD algorithm for graphlet counting, including how to use `#pragma omp` properly in a lambda function given to `Graph::parallelForEdges`, how to handle a `const std::vector<count>&` and how to appropriately append 3-graphlets to the start of the vector. Here are some suggestions on how to resolve the issue:\n",
       "\n",
       "1. Regarding the use of `#pragma omp` in a lambda function, I would recommend doing some research on how to use OpenMP in C++, as it seems to be integral to the implementation of the PGD algorithm. In particular, you may want to look at how to use `#pragma omp` in conjunction with the `for` loop construct, as this may be more appropriate than using it in a lambda function.\n",
       "2. As for how to handle the `const std::vector<count>&` type, it may be worth exploring whether there is an efficient way to copy the data to a NumPy array and pass it to the Cython interface instead. Alternatively, if a C++/Cython/Python class exists that is `np`-compatible and would allow for no data copy in the Cython interface, that could be used instead. \n",
       "3. To address the question of whether it is a good idea to append 3-graphlets to the start of the vector, it may be worth seeking feedback from more experienced developers or domain experts who can say whether this is a good practice. \n",
       "\n",
       "Finally, once these questions have been resolved, it may be beneficial to include a notebook that demonstrates how the PGD algorithm was implemented, how it works and how it can be used to analyze large-scale networks. \n",
       "\n",
       "I hope these suggestions help! Let me know if there is anything else I can do to assist you."
      ],
      "text/plain": [
       "<IPython.core.display.Markdown object>"
      ]
     },
     "metadata": {},
     "output_type": "display_data"
    },
    {
     "name": "stdout",
     "output_type": "stream",
     "text": []
    }
   ],
   "source": [
    "trIAge.tell(\"Suggest how to resolve the issue\")"
   ]
  },
  {
   "cell_type": "code",
   "execution_count": 15,
   "metadata": {},
   "outputs": [
    {
     "name": "stdout",
     "output_type": "stream",
     "text": [
      "⠇ Thinking..."
     ]
    },
    {
     "data": {
      "text/markdown": [
       "As a bot, I cannot create fully implemented code for you, but I can provide some guidance on how to approach the issues at hand. \n",
       "\n",
       "Regarding the use of `#pragma omp` in a lambda function, I would suggest looking into using OpenMP in conjunction with a `for` loop construct rather than using it in a lambda function as it may be more appropriate for your needs. Here's some example code:\n",
       "\n",
       "```\n",
       "void GraphletsCounter::getGraphletsCounts(std::vector<count>& results, std::vector<count>& combinedResults) {\n",
       "    const omp_lock_t* locks = &_locks[0];\n",
       "    count nEdges = G->numberOfEdges();\n",
       "    results.resize(numGraphlets);\n",
       "    combinedResults.resize(numGraphlets);\n",
       "    auto edgeLambda = [&](node u, node v, edgeweight weight, edgeid eid) {\n",
       "        // ... do computation for each individual edge ...\n",
       "    };\n",
       "    #pragma omp parallel\n",
       "    {\n",
       "        std::vector<count> localResults(numGraphlets);\n",
       "        #pragma omp for nowait\n",
       "        for (omp_ulong i = 0; i < nEdges; ++i) {\n",
       "            auto edge = G->edgeById(i);\n",
       "            edgeLambda(edge.first, edge.second, G->weight(edge.first, edge.second), edge.first);\n",
       "            // At this point, localResults contains the graphlet counts for the given edge.\n",
       "            // You would need to add up the counts from all threads to obtain the global counts.\n",
       "        }\n",
       "        // ... add localResults from all threads to the combinedResults vector using atomic operations ...\n",
       "    }\n",
       "    // ... finally, copy the combinedResults to the results vector ...\n",
       "}\n",
       "```\n",
       "\n",
       "Regarding the handling of `const std::vector<count>&`, you could consider creating a NumPy array directly from a reference to the vector's data like so:\n",
       "\n",
       "```\n",
       "#include <pybind11/numpy.h>\n",
       "\n",
       "pybind11::array_t<count> GraphletsCounter::getGraphletsCounts() {\n",
       "    std::vector<count> results(numGraphlets);\n",
       "    // ... do computation and fill in the results array ...\n",
       "\n",
       "    pybind11::array_t<count> nparray(numGraphlets);\n",
       "    std::memcpy(nparray.mutable_data(), &results[0], sizeof(count) * numGraphlets);\n",
       "    return nparray;\n",
       "}\n",
       "```\n",
       "\n",
       "These code snippets should give you some guidance on how to resolve the issues you are facing."
      ],
      "text/plain": [
       "<IPython.core.display.Markdown object>"
      ]
     },
     "metadata": {},
     "output_type": "display_data"
    },
    {
     "name": "stdout",
     "output_type": "stream",
     "text": [
      "\r"
     ]
    }
   ],
   "source": [
    "trIAge.tell(\"Suggest code to resolve the issue\")"
   ]
  },
  {
   "cell_type": "code",
   "execution_count": null,
   "metadata": {},
   "outputs": [],
   "source": []
  }
 ],
 "metadata": {
  "kernelspec": {
   "display_name": "trIAge",
   "language": "python",
   "name": "python3"
  },
  "language_info": {
   "codemirror_mode": {
    "name": "ipython",
    "version": 3
   },
   "file_extension": ".py",
   "mimetype": "text/x-python",
   "name": "python",
   "nbconvert_exporter": "python",
   "pygments_lexer": "ipython3",
   "version": "3.10.9"
  },
  "orig_nbformat": 4
 },
 "nbformat": 4,
 "nbformat_minor": 2
}

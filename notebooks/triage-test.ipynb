{
 "cells": [
  {
   "cell_type": "code",
   "execution_count": 1,
   "metadata": {},
   "outputs": [],
   "source": [
    "import triage\n",
    "\n",
    "import random"
   ]
  },
  {
   "cell_type": "code",
   "execution_count": 2,
   "metadata": {},
   "outputs": [],
   "source": [
    "from triage.bot import TrIAge, get_secret"
   ]
  },
  {
   "cell_type": "code",
   "execution_count": 3,
   "metadata": {},
   "outputs": [
    {
     "name": "stdout",
     "output_type": "stream",
     "text": [
      "⠴ Configuring..."
     ]
    }
   ],
   "source": [
    "trIAge = TrIAge(\n",
    "    model_provider=\"openai\",\n",
    "    model_api_key=get_secret(\"openai_token\"),\n",
    "    hub_api_key=get_secret(\"github_token\"),\n",
    ")"
   ]
  },
  {
   "cell_type": "code",
   "execution_count": 4,
   "metadata": {},
   "outputs": [
    {
     "name": "stdout",
     "output_type": "stream",
     "text": [
      "⠸ Thinking..."
     ]
    },
    {
     "data": {
      "text/markdown": [
       "I am trIAge, a helpful bot that assists users and maintainers of open source projects. I can assess and rate the quality of issues, provide suggestions on how to improve them, point users to relevant documentation and other resources, and suggest solutions to issues. Is there anything specific you need help with?"
      ],
      "text/plain": [
       "<IPython.core.display.Markdown object>"
      ]
     },
     "metadata": {},
     "output_type": "display_data"
    },
    {
     "name": "stdout",
     "output_type": "stream",
     "text": [
      "\r"
     ]
    },
    {
     "data": {
      "text/plain": [
       "<OpenAIObject at 0x128615710> JSON: {\n",
       "  \"content\": \"I am trIAge, a helpful bot that assists users and maintainers of open source projects. I can assess and rate the quality of issues, provide suggestions on how to improve them, point users to relevant documentation and other resources, and suggest solutions to issues. Is there anything specific you need help with?\",\n",
       "  \"role\": \"assistant\"\n",
       "}"
      ]
     },
     "execution_count": 4,
     "metadata": {},
     "output_type": "execute_result"
    },
    {
     "name": "stdout",
     "output_type": "stream",
     "text": []
    }
   ],
   "source": [
    "trIAge.tell(\"Who are you and what can you do?\")"
   ]
  },
  {
   "cell_type": "code",
   "execution_count": 5,
   "metadata": {},
   "outputs": [
    {
     "name": "stdout",
     "output_type": "stream",
     "text": [
      "('openandroidinstaller-dev', 'openandroidinstaller/')\n"
     ]
    },
    {
     "ename": "UnknownObjectException",
     "evalue": "404 {\"message\": \"Not Found\", \"documentation_url\": \"https://docs.github.com/rest\"}",
     "output_type": "error",
     "traceback": [
      "\u001b[0;31m---------------------------------------------------------------------------\u001b[0m",
      "\u001b[0;31mUnknownObjectException\u001b[0m                    Traceback (most recent call last)",
      "Cell \u001b[0;32mIn[5], line 1\u001b[0m\n\u001b[0;32m----> 1\u001b[0m trIAge\u001b[39m.\u001b[39;49msee_repo(\u001b[39m\"\u001b[39;49m\u001b[39mhttps://github.com/openandroidinstaller-dev/openandroidinstaller/\u001b[39;49m\u001b[39m\"\u001b[39;49m)\n",
      "File \u001b[0;32m~/Documents/Work/Projects/PrototypeFund/Dev/trIAge/triage/bot.py:213\u001b[0m, in \u001b[0;36mTrIAge.see_repo\u001b[0;34m(self, repo_url)\u001b[0m\n\u001b[1;32m    211\u001b[0m \u001b[39mdef\u001b[39;00m \u001b[39msee_repo\u001b[39m(\u001b[39mself\u001b[39m, repo_url):\n\u001b[1;32m    212\u001b[0m \u001b[39m    \u001b[39m\u001b[39m\"\"\" \"\"\"\u001b[39;00m\n\u001b[0;32m--> 213\u001b[0m     \u001b[39mself\u001b[39;49m\u001b[39m.\u001b[39;49mhub\u001b[39m.\u001b[39;49mconnect_repo(repo_url)\n\u001b[1;32m    214\u001b[0m     repo \u001b[39m=\u001b[39m \u001b[39mself\u001b[39m\u001b[39m.\u001b[39mhub\u001b[39m.\u001b[39mrepo\n\u001b[1;32m    215\u001b[0m     \u001b[39m# tell the bot about the repository\u001b[39;00m\n",
      "File \u001b[0;32m~/Documents/Work/Projects/PrototypeFund/Dev/trIAge/triage/connectors.py:38\u001b[0m, in \u001b[0;36mGitHubConnector.connect_repo\u001b[0;34m(self, repo_url)\u001b[0m\n\u001b[1;32m     35\u001b[0m     \u001b[39mreturn\u001b[39;00m\n\u001b[1;32m     37\u001b[0m \u001b[39m# Get the repository object\u001b[39;00m\n\u001b[0;32m---> 38\u001b[0m \u001b[39mself\u001b[39m\u001b[39m.\u001b[39mrepo \u001b[39m=\u001b[39m \u001b[39mself\u001b[39;49m\u001b[39m.\u001b[39;49mgithub\u001b[39m.\u001b[39;49mget_repo(\u001b[39mf\u001b[39;49m\u001b[39m\"\u001b[39;49m\u001b[39m{\u001b[39;49;00mowner\u001b[39m}\u001b[39;49;00m\u001b[39m/\u001b[39;49m\u001b[39m{\u001b[39;49;00mrepo_name\u001b[39m}\u001b[39;49;00m\u001b[39m\"\u001b[39;49m)\n\u001b[1;32m     39\u001b[0m \u001b[39mreturn\u001b[39;00m \u001b[39mself\u001b[39m\n",
      "File \u001b[0;32m~/miniforge3/envs/trIAge/lib/python3.10/site-packages/github/MainClass.py:321\u001b[0m, in \u001b[0;36mGithub.get_repo\u001b[0;34m(self, full_name_or_id, lazy)\u001b[0m\n\u001b[1;32m    317\u001b[0m \u001b[39mif\u001b[39;00m lazy:\n\u001b[1;32m    318\u001b[0m     \u001b[39mreturn\u001b[39;00m Repository\u001b[39m.\u001b[39mRepository(\n\u001b[1;32m    319\u001b[0m         \u001b[39mself\u001b[39m\u001b[39m.\u001b[39m__requester, {}, {\u001b[39m\"\u001b[39m\u001b[39murl\u001b[39m\u001b[39m\"\u001b[39m: url}, completed\u001b[39m=\u001b[39m\u001b[39mFalse\u001b[39;00m\n\u001b[1;32m    320\u001b[0m     )\n\u001b[0;32m--> 321\u001b[0m headers, data \u001b[39m=\u001b[39m \u001b[39mself\u001b[39;49m\u001b[39m.\u001b[39;49m__requester\u001b[39m.\u001b[39;49mrequestJsonAndCheck(\u001b[39m\"\u001b[39;49m\u001b[39mGET\u001b[39;49m\u001b[39m\"\u001b[39;49m, url)\n\u001b[1;32m    322\u001b[0m \u001b[39mreturn\u001b[39;00m Repository\u001b[39m.\u001b[39mRepository(\u001b[39mself\u001b[39m\u001b[39m.\u001b[39m__requester, headers, data, completed\u001b[39m=\u001b[39m\u001b[39mTrue\u001b[39;00m)\n",
      "File \u001b[0;32m~/miniforge3/envs/trIAge/lib/python3.10/site-packages/github/Requester.py:400\u001b[0m, in \u001b[0;36mRequester.requestJsonAndCheck\u001b[0;34m(self, verb, url, parameters, headers, input)\u001b[0m\n\u001b[1;32m    399\u001b[0m \u001b[39mdef\u001b[39;00m \u001b[39mrequestJsonAndCheck\u001b[39m(\u001b[39mself\u001b[39m, verb, url, parameters\u001b[39m=\u001b[39m\u001b[39mNone\u001b[39;00m, headers\u001b[39m=\u001b[39m\u001b[39mNone\u001b[39;00m, \u001b[39minput\u001b[39m\u001b[39m=\u001b[39m\u001b[39mNone\u001b[39;00m):\n\u001b[0;32m--> 400\u001b[0m     \u001b[39mreturn\u001b[39;00m \u001b[39mself\u001b[39;49m\u001b[39m.\u001b[39;49m__check(\n\u001b[1;32m    401\u001b[0m         \u001b[39m*\u001b[39;49m\u001b[39mself\u001b[39;49m\u001b[39m.\u001b[39;49mrequestJson(\n\u001b[1;32m    402\u001b[0m             verb, url, parameters, headers, \u001b[39minput\u001b[39;49m, \u001b[39mself\u001b[39;49m\u001b[39m.\u001b[39;49m__customConnection(url)\n\u001b[1;32m    403\u001b[0m         )\n\u001b[1;32m    404\u001b[0m     )\n",
      "File \u001b[0;32m~/miniforge3/envs/trIAge/lib/python3.10/site-packages/github/Requester.py:425\u001b[0m, in \u001b[0;36mRequester.__check\u001b[0;34m(self, status, responseHeaders, output)\u001b[0m\n\u001b[1;32m    423\u001b[0m output \u001b[39m=\u001b[39m \u001b[39mself\u001b[39m\u001b[39m.\u001b[39m__structuredFromJson(output)\n\u001b[1;32m    424\u001b[0m \u001b[39mif\u001b[39;00m status \u001b[39m>\u001b[39m\u001b[39m=\u001b[39m \u001b[39m400\u001b[39m:\n\u001b[0;32m--> 425\u001b[0m     \u001b[39mraise\u001b[39;00m \u001b[39mself\u001b[39m\u001b[39m.\u001b[39m__createException(status, responseHeaders, output)\n\u001b[1;32m    426\u001b[0m \u001b[39mreturn\u001b[39;00m responseHeaders, output\n",
      "\u001b[0;31mUnknownObjectException\u001b[0m: 404 {\"message\": \"Not Found\", \"documentation_url\": \"https://docs.github.com/rest\"}"
     ]
    },
    {
     "name": "stdout",
     "output_type": "stream",
     "text": []
    }
   ],
   "source": [
    "trIAge.see_repo(\"https://github.com/openandroidinstaller-dev/openandroidinstaller/\")"
   ]
  },
  {
   "cell_type": "code",
   "execution_count": null,
   "metadata": {},
   "outputs": [],
   "source": [
    "trIAge.tell(\"What do you know about this repo?\")"
   ]
  },
  {
   "cell_type": "code",
   "execution_count": null,
   "metadata": {},
   "outputs": [],
   "source": [
    "issues = trIAge.get_issues()\n",
    "issues"
   ]
  },
  {
   "cell_type": "code",
   "execution_count": null,
   "metadata": {},
   "outputs": [],
   "source": [
    "an_issue = random.choice(issues)\n",
    "an_issue.title"
   ]
  },
  {
   "cell_type": "code",
   "execution_count": null,
   "metadata": {},
   "outputs": [],
   "source": [
    "trIAge.see_issue(an_issue)"
   ]
  },
  {
   "cell_type": "code",
   "execution_count": null,
   "metadata": {},
   "outputs": [],
   "source": [
    "trIAge.tell(\"Is the issue well described?\")"
   ]
  },
  {
   "cell_type": "code",
   "execution_count": null,
   "metadata": {},
   "outputs": [],
   "source": [
    "trIAge.tell(\"Rate the issue quality on a scale from 0 to 10\")"
   ]
  },
  {
   "cell_type": "code",
   "execution_count": null,
   "metadata": {},
   "outputs": [],
   "source": [
    "trIAge.tell(\"What would make it a 10?\")"
   ]
  },
  {
   "cell_type": "code",
   "execution_count": null,
   "metadata": {},
   "outputs": [],
   "source": [
    "trIAge.tell(\"Respond to the user with suggestions to make the issue a 10\")"
   ]
  },
  {
   "cell_type": "code",
   "execution_count": null,
   "metadata": {},
   "outputs": [],
   "source": [
    "trIAge.tell(\"Suggest how to resolve the issue\")"
   ]
  },
  {
   "cell_type": "code",
   "execution_count": null,
   "metadata": {},
   "outputs": [],
   "source": [
    "trIAge.tell(\"Suggest code to resolve the issue\")"
   ]
  },
  {
   "cell_type": "code",
   "execution_count": null,
   "metadata": {},
   "outputs": [],
   "source": [
    "trIAge.discuss_issue(an_issue)"
   ]
  },
  {
   "cell_type": "code",
   "execution_count": null,
   "metadata": {},
   "outputs": [],
   "source": [
    "trIAge.post(\"This is another test post\")"
   ]
  },
  {
   "cell_type": "code",
   "execution_count": null,
   "metadata": {},
   "outputs": [],
   "source": []
  }
 ],
 "metadata": {
  "kernelspec": {
   "display_name": "trIAge",
   "language": "python",
   "name": "python3"
  },
  "language_info": {
   "codemirror_mode": {
    "name": "ipython",
    "version": 3
   },
   "file_extension": ".py",
   "mimetype": "text/x-python",
   "name": "python",
   "nbconvert_exporter": "python",
   "pygments_lexer": "ipython3",
   "version": "3.10.9"
  },
  "orig_nbformat": 4
 },
 "nbformat": 4,
 "nbformat_minor": 2
}

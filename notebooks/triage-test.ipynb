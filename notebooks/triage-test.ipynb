{
 "cells": [
  {
   "cell_type": "code",
   "execution_count": 1,
   "metadata": {},
   "outputs": [],
   "source": [
    "import triage\n",
    "\n",
    "import random"
   ]
  },
  {
   "cell_type": "code",
   "execution_count": 2,
   "metadata": {},
   "outputs": [],
   "source": [
    "from triage.bot import TrIAge, get_secret"
   ]
  },
  {
   "cell_type": "code",
   "execution_count": 3,
   "metadata": {},
   "outputs": [
    {
     "name": "stdout",
     "output_type": "stream",
     "text": [
      "⠹ Configuring..."
     ]
    }
   ],
   "source": [
    "trIAge = TrIAge(\n",
    "    model_provider=\"openai\",\n",
    "    model_api_key=get_secret(\"openai_token\"),\n",
    "    hub_api_key=get_secret(\"github_token\"),\n",
    ")"
   ]
  },
  {
   "cell_type": "code",
   "execution_count": 4,
   "metadata": {},
   "outputs": [
    {
     "name": "stdout",
     "output_type": "stream",
     "text": [
      "⠇ Thinking..."
     ]
    },
    {
     "data": {
      "text/markdown": [
       "I am trIAge, a helpful bot that assists users and maintainers of open source projects. I am designed to assess and rate the quality of issues, give suggestions on how to improve the quality of issues, point users to relevant documentation and other resources, and suggest solutions to issues. How may I assist you today?"
      ],
      "text/plain": [
       "<IPython.core.display.Markdown object>"
      ]
     },
     "metadata": {},
     "output_type": "display_data"
    },
    {
     "name": "stdout",
     "output_type": "stream",
     "text": [
      "\r"
     ]
    }
   ],
   "source": [
    "trIAge.tell(\"Who are you and what can you do?\")"
   ]
  },
  {
   "cell_type": "code",
   "execution_count": 5,
   "metadata": {},
   "outputs": [
    {
     "name": "stdout",
     "output_type": "stream",
     "text": [
      "('tatsu-lab', 'stanford_alpaca')\n",
      "⠏ Thinking..."
     ]
    },
    {
     "data": {
      "text/markdown": [
       "Thank you for providing me with that information. How may I assist you with the `stanford_alpaca` repository?"
      ],
      "text/plain": [
       "<IPython.core.display.Markdown object>"
      ]
     },
     "metadata": {},
     "output_type": "display_data"
    },
    {
     "name": "stdout",
     "output_type": "stream",
     "text": [
      "⠋ Thinking..."
     ]
    },
    {
     "data": {
      "text/markdown": [
       "The README of the stanford_alpaca repository contains information about the repository, its purpose and main features. There is a logo of the Alpaca model at the very beginning, followed by the repository name and a short description. Additionally, there are badges showing the license of the code and data used in the repository. \n",
       "\n",
       "Further down the README, there is more detailed information about the Alpaca model and its capabilities. There are instructions on how to install and use the model, as well as how to generate and process the data. \n",
       "\n",
       "Overall, the README provides a good overview of the repository and its contents, and should be helpful to anyone interested in using or contributing to the project."
      ],
      "text/plain": [
       "<IPython.core.display.Markdown object>"
      ]
     },
     "metadata": {},
     "output_type": "display_data"
    },
    {
     "name": "stdout",
     "output_type": "stream",
     "text": [
      "\r"
     ]
    }
   ],
   "source": [
    "trIAge.see_repo(\"https://github.com/tatsu-lab/stanford_alpaca\")"
   ]
  },
  {
   "cell_type": "code",
   "execution_count": 6,
   "metadata": {},
   "outputs": [
    {
     "name": "stdout",
     "output_type": "stream",
     "text": [
      "⠹ Thinking..."
     ]
    },
    {
     "data": {
      "text/markdown": [
       "This repository is called stanford_alpaca, and it contains code and documentation to train Stanford's Alpaca models and generate data. The Alpaca project is an instruction-following LLaMA model, which stands for Latent language learners and models from ambiguity. The repository has 16306 stars on GitHub and is licensed under Apache License 2.0."
      ],
      "text/plain": [
       "<IPython.core.display.Markdown object>"
      ]
     },
     "metadata": {},
     "output_type": "display_data"
    },
    {
     "name": "stdout",
     "output_type": "stream",
     "text": []
    }
   ],
   "source": [
    "trIAge.tell(\"What do you know about this repo?\")"
   ]
  },
  {
   "cell_type": "code",
   "execution_count": 7,
   "metadata": {},
   "outputs": [
    {
     "data": {
      "text/plain": [
       "[Issue(title=\"Why only sample from seed tasks? Any trial on sampling from both the seed tasks and the generated tasks?\", number=157),\n",
       " Issue(title=\"TypeError: 'type' object is not subscriptable\", number=156),\n",
       " Issue(title=\"how to use the training data  to fine-tune the open source chat-glm\", number=154),\n",
       " Issue(title=\"Unstable inference of DeepSpeed-fine-tuned Alapaca model\", number=153),\n",
       " Issue(title=\"Fine-tuning Does not work\", number=151),\n",
       " Issue(title=\"Error Need help\", number=150),\n",
       " Issue(title=\"transformers version fix\", number=149),\n",
       " Issue(title=\"Fix broken links in the README\", number=148),\n",
       " Issue(title=\"Simple question\", number=147),\n",
       " Issue(title=\"Any tutorial to go through the process? Just fresh to LLM\", number=146),\n",
       " Issue(title=\"Fixing typos in the prompt\", number=145),\n",
       " Issue(title=\"The question about visualization \", number=144),\n",
       " Issue(title=\"prompt-less is better\", number=143),\n",
       " Issue(title=\"is there a way to use it as a function?\", number=141),\n",
       " Issue(title=\"尿毒症\", number=139),\n",
       " Issue(title=\"Data License\", number=138),\n",
       " Issue(title=\"train.py doesn't work\", number=137),\n",
       " Issue(title=\"How to install and run this on Ubuntu server?\", number=136),\n",
       " Issue(title=\"can any one help me with how to use deepspeed in training?\", number=135),\n",
       " Issue(title=\"How did you augment the data? \", number=134),\n",
       " Issue(title=\"ValueError: Your setup doesn't support bf16/gpu. You need torch>=1.10, using Ampere GPU with cuda>=11.0\", number=133),\n",
       " Issue(title=\"License question\", number=132),\n",
       " Issue(title=\"Update requirements.txt\", number=131),\n",
       " Issue(title=\"Exception: Could not find the transformer layer class to wrap in the model.\", number=130),\n",
       " Issue(title=\"Token input limit only 500?\", number=129),\n",
       " Issue(title=\"轻量化专属化ChayGpt\", number=128),\n",
       " Issue(title=\"eos token missing during training\", number=126),\n",
       " Issue(title=\"Update datasheet.md\", number=125),\n",
       " Issue(title=\"I consider redoing this for other languages, is this possible for a private person?\", number=124),\n",
       " Issue(title=\"What's the speed of generate instruction?\", number=123),\n",
       " Issue(title=\"ChatDoctor: A Medical Chat Model Fine-tuned on LLaMA Model \", number=122),\n",
       " Issue(title=\"Minor: Fixed two typos in prompt\", number=121),\n",
       " Issue(title=\"What if stanford alpaca was using the data generated by GPT-4?\", number=120),\n",
       " Issue(title=\"Alpaca dataset token probabilities\", number=119),\n",
       " Issue(title=\"how to run on muti machine and muti GPUs？\", number=118),\n",
       " Issue(title=\"Train alpaca with a small set of official data set. But going into messy\", number=116),\n",
       " Issue(title=\"forward prefetch error: transformers version \", number=115),\n",
       " Issue(title=\"What about factual errors in `alpaca_data.json`?\", number=114),\n",
       " Issue(title=\"Sharing training log of 7B model on A6000 x 4 \", number=112),\n",
       " Issue(title=\"Problem with finetuning bloom\", number=111),\n",
       " Issue(title=\"Does the model support the task in Chinese?\", number=110),\n",
       " Issue(title=\"[PAD] never used\", number=108),\n",
       " Issue(title=\"How to run the finetune code using the slurm launcher in the cluster?\", number=107),\n",
       " Issue(title=\"Spelling mistake on prompt.txt\", number=106),\n",
       " Issue(title=\"Alpaca problem solving team - QQ chat group\", number=105),\n",
       " Issue(title=\"`ERR_NGROK_3200` Error in the Given Website\", number=103),\n",
       " Issue(title=\"How to load model in all gpus during generation?\", number=102),\n",
       " Issue(title=\"Code error in train.py\", number=101),\n",
       " Issue(title=\"Correct prompt.txt mistakes\", number=100),\n",
       " Issue(title=\"A simple codebase for llama finetuning with adapter\", number=99),\n",
       " Issue(title=\"Update README.md: Grammar\", number=98),\n",
       " Issue(title=\"Elaborate on used prompt\", number=97),\n",
       " Issue(title=\"Train using 13b llama model\", number=96),\n",
       " Issue(title=\"How to make it work on Google Cloud TPU?\", number=95),\n",
       " Issue(title=\"Exception: Could not find the transformer layer class to wrap in the model.\", number=94),\n",
       " Issue(title=\"training on v100\", number=92),\n",
       " Issue(title=\"Have you ever test the continuous conversation capability of Alpaca?\", number=91),\n",
       " Issue(title=\"BBH stats?\", number=88),\n",
       " Issue(title=\"Proposal: should we have a slack channel or discord room for issue discussions\", number=87),\n",
       " Issue(title=\"LLaMA-13B (HF) Fails with OOM on a dual A100-80GB\", number=86),\n",
       " Issue(title=\"Separate training code and dependencies to make who want to fine-tune only easier\", number=85),\n",
       " Issue(title=\"Initial commit\", number=84),\n",
       " Issue(title=\"Different format for inference ？\", number=83),\n",
       " Issue(title=\"Weights released + frontend, you can try Alpaca 7B here\", number=82),\n",
       " Issue(title=\"A brief summary of the potential issues during the replication and corresponding solutons\", number=81),\n",
       " Issue(title=\"update notes for training slowdown\", number=79),\n",
       " Issue(title=\"Why does the blog mention the PR https://github.com/huggingface/transformers/pull/21955 when it says its merged\", number=78),\n",
       " Issue(title=\"Minor: spelling fixes in prompt\", number=77),\n",
       " Issue(title=\"finetuning on 3090, is it possible?\", number=73),\n",
       " Issue(title=\"running the project.\", number=72),\n",
       " Issue(title=\"Any plans for using GPT-4 for self-instruct? Or using larger llama models?\", number=71),\n",
       " Issue(title=\"calculate max_tokens based on prompt tokens\", number=69),\n",
       " Issue(title=\"Update stanford_alpaca to use transformers main branch\", number=68),\n",
       " Issue(title=\"Solve BUG:AttributeError: module transformers has no attribute LLaMATokenizer\", number=64),\n",
       " Issue(title=\"gpt-3.5-turbo?\", number=63),\n",
       " Issue(title=\"Will you release data collected on demo page ?\", number=62),\n",
       " Issue(title=\"Resuming from checkpoint\", number=61),\n",
       " Issue(title=\"CUDA out of memory for a single core A100 80G GPU\", number=56),\n",
       " Issue(title=\"Update requirements.txt\", number=55),\n",
       " Issue(title=\"Reduce the length of your prompt.\", number=47),\n",
       " Issue(title=\"Comparing training log [Shared my training log]\", number=41),\n",
       " Issue(title=\"Can you share the log of your finetuning code?\", number=40),\n",
       " Issue(title=\"How to train with the Bible content?\", number=36),\n",
       " Issue(title=\"How to plot the pie chart ?\", number=7)]"
      ]
     },
     "execution_count": 7,
     "metadata": {},
     "output_type": "execute_result"
    },
    {
     "name": "stdout",
     "output_type": "stream",
     "text": [
      "\r"
     ]
    }
   ],
   "source": [
    "issues = trIAge.get_issues()\n",
    "issues"
   ]
  },
  {
   "cell_type": "code",
   "execution_count": 8,
   "metadata": {},
   "outputs": [
    {
     "data": {
      "text/plain": [
       "'gpt-3.5-turbo?'"
      ]
     },
     "execution_count": 8,
     "metadata": {},
     "output_type": "execute_result"
    },
    {
     "name": "stdout",
     "output_type": "stream",
     "text": [
      "\r"
     ]
    }
   ],
   "source": [
    "an_issue = random.choice(issues)\n",
    "an_issue.title"
   ]
  },
  {
   "cell_type": "code",
   "execution_count": 9,
   "metadata": {},
   "outputs": [
    {
     "name": "stdout",
     "output_type": "stream",
     "text": [
      "⠏ Thinking..."
     ]
    },
    {
     "data": {
      "text/markdown": [
       "This issue, labeled as empty and filed by user jordancole21, requests support for a specific model, gpt-3.5-turbo, in the data generator. It seems that the user is asking for a new feature to be added to the tool. However, it is not clear whether such support is already available or planned for implementation. The repository maintainers may need to provide more information regarding this issue."
      ],
      "text/plain": [
       "<IPython.core.display.Markdown object>"
      ]
     },
     "metadata": {},
     "output_type": "display_data"
    },
    {
     "name": "stdout",
     "output_type": "stream",
     "text": [
      "\r"
     ]
    }
   ],
   "source": [
    "trIAge.see_issue(an_issue)"
   ]
  },
  {
   "cell_type": "code",
   "execution_count": 10,
   "metadata": {},
   "outputs": [
    {
     "name": "stdout",
     "output_type": "stream",
     "text": [
      "⠼ Thinking..."
     ]
    },
    {
     "data": {
      "text/markdown": [
       "The issue is fairly well described. The author specifies the model they are interested in and asks if there is any chance for a version of the data generator that supports it. However, it could be more detailed about the desired functionality and the use case for such feature."
      ],
      "text/plain": [
       "<IPython.core.display.Markdown object>"
      ]
     },
     "metadata": {},
     "output_type": "display_data"
    },
    {
     "name": "stdout",
     "output_type": "stream",
     "text": []
    }
   ],
   "source": [
    "trIAge.tell(\"Is the issue well described?\")"
   ]
  },
  {
   "cell_type": "code",
   "execution_count": 11,
   "metadata": {},
   "outputs": [
    {
     "name": "stdout",
     "output_type": "stream",
     "text": [
      "⠏ Thinking..."
     ]
    },
    {
     "data": {
      "text/markdown": [
       "Based on the information provided, I would rate the issue quality as a 7 out of 10. While the issue is clear and concise, it lacks some details such as the desired functionality and use case for the requested feature."
      ],
      "text/plain": [
       "<IPython.core.display.Markdown object>"
      ]
     },
     "metadata": {},
     "output_type": "display_data"
    },
    {
     "name": "stdout",
     "output_type": "stream",
     "text": [
      "\r"
     ]
    }
   ],
   "source": [
    "trIAge.tell(\"Rate the issue quality on a scale from 0 to 10\")"
   ]
  },
  {
   "cell_type": "code",
   "execution_count": 12,
   "metadata": {},
   "outputs": [
    {
     "name": "stdout",
     "output_type": "stream",
     "text": [
      "⠴ Thinking...\r"
     ]
    },
    {
     "data": {
      "text/markdown": [
       "To make this issue a 10 out of 10, it would be helpful if the user could provide more details about how the gpt-3.5-turbo model would be used with the data generator, and what sorts of functionality they would like the new version of the data generator to have. Additionally, the author could provide any relevant research or use cases that might inform the desired functionality of the new feature. The more information and context provided, the better the maintainers can understand and evaluate the request, and create a solution that meets the user's needs."
      ],
      "text/plain": [
       "<IPython.core.display.Markdown object>"
      ]
     },
     "metadata": {},
     "output_type": "display_data"
    },
    {
     "name": "stdout",
     "output_type": "stream",
     "text": [
      "⠦ Thinking..."
     ]
    }
   ],
   "source": [
    "trIAge.tell(\"What would make it a 10?\")"
   ]
  },
  {
   "cell_type": "code",
   "execution_count": 13,
   "metadata": {},
   "outputs": [
    {
     "name": "stdout",
     "output_type": "stream",
     "text": [
      "⠼ Thinking..."
     ]
    },
    {
     "data": {
      "text/markdown": [
       "Sure, I can help you with that!\n",
       "\n",
       "Here is an example response that you can use to suggest how the issue could be improved to become a 10:\n",
       "\n",
       "---\n",
       "Hi @jordancole21, thank you for submitting this issue! To make it easier for maintainers to understand your request, it would be helpful to provide some additional details. Specifically, it would be good to know how the gpt-3.5-turbo model would be used with the data generator, and what sorts of functionality you would like the new version of the data generator to have. Additionally, if there are any relevant research or use cases that might inform the desired functionality of the new feature, please share those as well. The more information and context you can provide, the better we can evaluate your request and create a solution that meets your needs.\n",
       "\n",
       "If you have any more questions or information to share, please feel free to add it to this issue. Thanks again for your contribution to the project!\n",
       "\n",
       "Best,\n",
       "[Your username] (maintainer)"
      ],
      "text/plain": [
       "<IPython.core.display.Markdown object>"
      ]
     },
     "metadata": {},
     "output_type": "display_data"
    },
    {
     "name": "stdout",
     "output_type": "stream",
     "text": [
      "\r"
     ]
    }
   ],
   "source": [
    "trIAge.tell(\"Respond to the user with suggestions to make the issue a 10\")"
   ]
  },
  {
   "cell_type": "code",
   "execution_count": 14,
   "metadata": {},
   "outputs": [
    {
     "name": "stdout",
     "output_type": "stream",
     "text": [
      "⠴ Thinking..."
     ]
    },
    {
     "data": {
      "text/markdown": [
       "Based on the information provided, it seems that the user is requesting a new version of the data generator that is compatible with the gpt-3.5-turbo model. Here is a possible way to resolve the issue:\n",
       "\n",
       "1. Research the capabilities of the gpt-3.5-turbo model and determine what modifications would need to be made to the existing data generator to support this model.\n",
       "2. Based on the research, develop a set of requirements for the new version of the data generator that would support the gpt-3.5-turbo model.\n",
       "3. Implement the necessary modifications to the data generator code to support the new model, ensuring that the new code meets the requirements developed in step two.\n",
       "4. Test the new version of the data generator with the gpt-3.5-turbo model, and make any necessary adjustments to ensure that the generated data meets the desired quality standards.\n",
       "5. Release the new version of the data generator as an update to the existing code base, including thorough documentation about the changes made and the requirements for use.\n",
       "\n",
       "Once the above steps are completed, the issue can be marked as resolved and the user notified that the new version of the data generator is available."
      ],
      "text/plain": [
       "<IPython.core.display.Markdown object>"
      ]
     },
     "metadata": {},
     "output_type": "display_data"
    },
    {
     "name": "stdout",
     "output_type": "stream",
     "text": []
    }
   ],
   "source": [
    "trIAge.tell(\"Suggest how to resolve the issue\")"
   ]
  },
  {
   "cell_type": "code",
   "execution_count": 15,
   "metadata": {},
   "outputs": [
    {
     "name": "stdout",
     "output_type": "stream",
     "text": [
      "⠼ Thinking..."
     ]
    },
    {
     "data": {
      "text/markdown": [
       "As a language model, I am unable to provide specific code to resolve this issue. However, I can provide guidelines for how the code can be written to implement the necessary modifications to the data generator.\n",
       "\n",
       "Here are some broad guidelines for updating the data generator to support the gpt-3.5-turbo model:\n",
       "\n",
       "1. Research the API and input/output requirements of the gpt-3.5-turbo model to ensure compatibility with the data generator.\n",
       "2. Create a function that generates data using the gpt-3.5-turbo model in place of the previous method of data generation.\n",
       "3. Ensure that the data generated by the new function meets the requirements outlined by the user and is of the desired quality.\n",
       "4. Test the new function with a variety of different input data to ensure it produces accurate and usable output.\n",
       "5. Incorporate the new function into the existing data generator code and document the changes made, highlighting the new compatible models and associated input/output requirements.\n",
       "\n",
       "These steps will ensure that the data generator can support the gpt-3.5-turbo model while still meeting the author's quality requirements."
      ],
      "text/plain": [
       "<IPython.core.display.Markdown object>"
      ]
     },
     "metadata": {},
     "output_type": "display_data"
    },
    {
     "name": "stdout",
     "output_type": "stream",
     "text": [
      "\r"
     ]
    }
   ],
   "source": [
    "trIAge.tell(\"Suggest code to resolve the issue\")"
   ]
  },
  {
   "cell_type": "code",
   "execution_count": null,
   "metadata": {},
   "outputs": [],
   "source": []
  }
 ],
 "metadata": {
  "kernelspec": {
   "display_name": "trIAge",
   "language": "python",
   "name": "python3"
  },
  "language_info": {
   "codemirror_mode": {
    "name": "ipython",
    "version": 3
   },
   "file_extension": ".py",
   "mimetype": "text/x-python",
   "name": "python",
   "nbconvert_exporter": "python",
   "pygments_lexer": "ipython3",
   "version": "3.10.9"
  },
  "orig_nbformat": 4
 },
 "nbformat": 4,
 "nbformat_minor": 2
}
